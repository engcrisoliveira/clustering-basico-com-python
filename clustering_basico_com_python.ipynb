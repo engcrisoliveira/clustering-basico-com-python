{
  "nbformat": 4,
  "nbformat_minor": 0,
  "metadata": {
    "colab": {
      "name": "clustering-basico-com-python.ipynb",
      "provenance": [],
      "collapsed_sections": [],
      "authorship_tag": "ABX9TyPIFyyXqdcAgTC1PYiiKe59",
      "include_colab_link": true
    },
    "kernelspec": {
      "name": "python3",
      "display_name": "Python 3"
    },
    "language_info": {
      "name": "python"
    }
  },
  "cells": [
    {
      "cell_type": "markdown",
      "metadata": {
        "id": "view-in-github",
        "colab_type": "text"
      },
      "source": [
        "<a href=\"https://colab.research.google.com/github/engcrisoliveira/clustering-basico-com-python/blob/main/clustering_basico_com_python.ipynb\" target=\"_parent\"><img src=\"https://colab.research.google.com/assets/colab-badge.svg\" alt=\"Open In Colab\"/></a>"
      ]
    },
    {
      "cell_type": "markdown",
      "metadata": {
        "id": "wX4D2hmh5aba"
      },
      "source": [
        "#Análise para agrupamento de vinhos por clustering"
      ]
    },
    {
      "cell_type": "code",
      "metadata": {
        "colab": {
          "base_uri": "https://localhost:8080/"
        },
        "id": "7ShSxRXP5TOb",
        "outputId": "8b387db6-4c5b-4c6f-a279-f73389ec6216"
      },
      "source": [
        "#Instalando o plotly\n",
        "!pip install plotly==4.1.0"
      ],
      "execution_count": 28,
      "outputs": [
        {
          "output_type": "stream",
          "name": "stdout",
          "text": [
            "Requirement already satisfied: plotly==4.1.0 in /usr/local/lib/python3.7/dist-packages (4.1.0)\n",
            "Requirement already satisfied: six in /usr/local/lib/python3.7/dist-packages (from plotly==4.1.0) (1.15.0)\n",
            "Requirement already satisfied: retrying>=1.3.3 in /usr/local/lib/python3.7/dist-packages (from plotly==4.1.0) (1.3.3)\n"
          ]
        }
      ]
    },
    {
      "cell_type": "code",
      "metadata": {
        "id": "jnHXqeY15eEd"
      },
      "source": [
        "#Importando as bibliotecas\n",
        "import plotly.graph_objects as go\n",
        "import pandas as pd\n",
        "import numpy as np"
      ],
      "execution_count": 29,
      "outputs": []
    },
    {
      "cell_type": "code",
      "metadata": {
        "colab": {
          "base_uri": "https://localhost:8080/",
          "height": 226
        },
        "id": "8UATNxpA5mpP",
        "outputId": "313a030e-9e8f-48ad-f9c6-a1c7e5e02781"
      },
      "source": [
        "#Importando os dados\n",
        "df = pd.read_csv('wine.csv')\n",
        "df.head()"
      ],
      "execution_count": 30,
      "outputs": [
        {
          "output_type": "execute_result",
          "data": {
            "text/html": [
              "<div>\n",
              "<style scoped>\n",
              "    .dataframe tbody tr th:only-of-type {\n",
              "        vertical-align: middle;\n",
              "    }\n",
              "\n",
              "    .dataframe tbody tr th {\n",
              "        vertical-align: top;\n",
              "    }\n",
              "\n",
              "    .dataframe thead th {\n",
              "        text-align: right;\n",
              "    }\n",
              "</style>\n",
              "<table border=\"1\" class=\"dataframe\">\n",
              "  <thead>\n",
              "    <tr style=\"text-align: right;\">\n",
              "      <th></th>\n",
              "      <th>Alcohol</th>\n",
              "      <th>Malic_Acid</th>\n",
              "      <th>Ash</th>\n",
              "      <th>Ash_Alcanity</th>\n",
              "      <th>Magnesium</th>\n",
              "      <th>Total_Phenols</th>\n",
              "      <th>Flavanoids</th>\n",
              "      <th>Nonflavanoid_Phenols</th>\n",
              "      <th>Proanthocyanins</th>\n",
              "      <th>Color_Intensity</th>\n",
              "      <th>Hue</th>\n",
              "      <th>OD280</th>\n",
              "      <th>Proline</th>\n",
              "      <th>Customer_Segment</th>\n",
              "    </tr>\n",
              "  </thead>\n",
              "  <tbody>\n",
              "    <tr>\n",
              "      <th>0</th>\n",
              "      <td>14.23</td>\n",
              "      <td>1.71</td>\n",
              "      <td>2.43</td>\n",
              "      <td>15.6</td>\n",
              "      <td>127</td>\n",
              "      <td>2.80</td>\n",
              "      <td>3.06</td>\n",
              "      <td>0.28</td>\n",
              "      <td>2.29</td>\n",
              "      <td>5.64</td>\n",
              "      <td>1.04</td>\n",
              "      <td>3.92</td>\n",
              "      <td>1065</td>\n",
              "      <td>1</td>\n",
              "    </tr>\n",
              "    <tr>\n",
              "      <th>1</th>\n",
              "      <td>13.20</td>\n",
              "      <td>1.78</td>\n",
              "      <td>2.14</td>\n",
              "      <td>11.2</td>\n",
              "      <td>100</td>\n",
              "      <td>2.65</td>\n",
              "      <td>2.76</td>\n",
              "      <td>0.26</td>\n",
              "      <td>1.28</td>\n",
              "      <td>4.38</td>\n",
              "      <td>1.05</td>\n",
              "      <td>3.40</td>\n",
              "      <td>1050</td>\n",
              "      <td>1</td>\n",
              "    </tr>\n",
              "    <tr>\n",
              "      <th>2</th>\n",
              "      <td>13.16</td>\n",
              "      <td>2.36</td>\n",
              "      <td>2.67</td>\n",
              "      <td>18.6</td>\n",
              "      <td>101</td>\n",
              "      <td>2.80</td>\n",
              "      <td>3.24</td>\n",
              "      <td>0.30</td>\n",
              "      <td>2.81</td>\n",
              "      <td>5.68</td>\n",
              "      <td>1.03</td>\n",
              "      <td>3.17</td>\n",
              "      <td>1185</td>\n",
              "      <td>1</td>\n",
              "    </tr>\n",
              "    <tr>\n",
              "      <th>3</th>\n",
              "      <td>14.37</td>\n",
              "      <td>1.95</td>\n",
              "      <td>2.50</td>\n",
              "      <td>16.8</td>\n",
              "      <td>113</td>\n",
              "      <td>3.85</td>\n",
              "      <td>3.49</td>\n",
              "      <td>0.24</td>\n",
              "      <td>2.18</td>\n",
              "      <td>7.80</td>\n",
              "      <td>0.86</td>\n",
              "      <td>3.45</td>\n",
              "      <td>1480</td>\n",
              "      <td>1</td>\n",
              "    </tr>\n",
              "    <tr>\n",
              "      <th>4</th>\n",
              "      <td>13.24</td>\n",
              "      <td>2.59</td>\n",
              "      <td>2.87</td>\n",
              "      <td>21.0</td>\n",
              "      <td>118</td>\n",
              "      <td>2.80</td>\n",
              "      <td>2.69</td>\n",
              "      <td>0.39</td>\n",
              "      <td>1.82</td>\n",
              "      <td>4.32</td>\n",
              "      <td>1.04</td>\n",
              "      <td>2.93</td>\n",
              "      <td>735</td>\n",
              "      <td>1</td>\n",
              "    </tr>\n",
              "  </tbody>\n",
              "</table>\n",
              "</div>"
            ],
            "text/plain": [
              "   Alcohol  Malic_Acid   Ash  ...  OD280  Proline  Customer_Segment\n",
              "0    14.23        1.71  2.43  ...   3.92     1065                 1\n",
              "1    13.20        1.78  2.14  ...   3.40     1050                 1\n",
              "2    13.16        2.36  2.67  ...   3.17     1185                 1\n",
              "3    14.37        1.95  2.50  ...   3.45     1480                 1\n",
              "4    13.24        2.59  2.87  ...   2.93      735                 1\n",
              "\n",
              "[5 rows x 14 columns]"
            ]
          },
          "metadata": {},
          "execution_count": 30
        }
      ]
    },
    {
      "cell_type": "code",
      "metadata": {
        "colab": {
          "base_uri": "https://localhost:8080/"
        },
        "id": "stz_kmcS5pdN",
        "outputId": "30c55e4d-e9d4-43b1-f9e7-56b7334d5b1a"
      },
      "source": [
        "df.shape"
      ],
      "execution_count": 31,
      "outputs": [
        {
          "output_type": "execute_result",
          "data": {
            "text/plain": [
              "(178, 14)"
            ]
          },
          "metadata": {},
          "execution_count": 31
        }
      ]
    },
    {
      "cell_type": "code",
      "metadata": {
        "id": "iaYsjN-D53qB"
      },
      "source": [
        "#Renomeando colunas\n",
        "df = df.rename(columns = {'Alcohol' : 'alcool', \n",
        "                    'Malic_Acid' : 'acido_malico',\n",
        "                    'Ash' : 'po',\n",
        "                    'Ash_Alcanity' : 'alcalinidade_po',\n",
        "                    'Magnesium' : 'magnesio',\n",
        "                    'Total_Phenols' : 'fenois_totais',\n",
        "                    'Flavanoids' : 'flavonoides',\n",
        "                    'Nonflavanoid_Phenols' : 'fenois_nao_flavonoides',\n",
        "                    'Proanthocyanins' : 'proantocianidinas',\n",
        "                    'Color_Intensity' : 'intensidade_da_cor',\n",
        "                    'Hue' : 'matiz',\n",
        "                    'Proline' : 'proline',\n",
        "                    'Customer_Segment' : 'segmento_de_clientes'                        \n",
        "})"
      ],
      "execution_count": 32,
      "outputs": []
    },
    {
      "cell_type": "markdown",
      "metadata": {
        "id": "Khdg09i16Mjv"
      },
      "source": [
        "# Analisando os dados"
      ]
    },
    {
      "cell_type": "code",
      "metadata": {
        "colab": {
          "base_uri": "https://localhost:8080/",
          "height": 320
        },
        "id": "8WTpKOXF6Cyk",
        "outputId": "24ed9c76-2494-4530-f1cd-bda0ce98d838"
      },
      "source": [
        "df.describe()"
      ],
      "execution_count": 33,
      "outputs": [
        {
          "output_type": "execute_result",
          "data": {
            "text/html": [
              "<div>\n",
              "<style scoped>\n",
              "    .dataframe tbody tr th:only-of-type {\n",
              "        vertical-align: middle;\n",
              "    }\n",
              "\n",
              "    .dataframe tbody tr th {\n",
              "        vertical-align: top;\n",
              "    }\n",
              "\n",
              "    .dataframe thead th {\n",
              "        text-align: right;\n",
              "    }\n",
              "</style>\n",
              "<table border=\"1\" class=\"dataframe\">\n",
              "  <thead>\n",
              "    <tr style=\"text-align: right;\">\n",
              "      <th></th>\n",
              "      <th>alcool</th>\n",
              "      <th>acido_malico</th>\n",
              "      <th>po</th>\n",
              "      <th>alcalinidade_po</th>\n",
              "      <th>magnesio</th>\n",
              "      <th>fenois_totais</th>\n",
              "      <th>flavonoides</th>\n",
              "      <th>fenois_nao_flavonoides</th>\n",
              "      <th>proantocianidinas</th>\n",
              "      <th>intensidade_da_cor</th>\n",
              "      <th>matiz</th>\n",
              "      <th>OD280</th>\n",
              "      <th>proline</th>\n",
              "      <th>segmento_de_clientes</th>\n",
              "    </tr>\n",
              "  </thead>\n",
              "  <tbody>\n",
              "    <tr>\n",
              "      <th>count</th>\n",
              "      <td>178.000000</td>\n",
              "      <td>178.000000</td>\n",
              "      <td>178.000000</td>\n",
              "      <td>178.000000</td>\n",
              "      <td>178.000000</td>\n",
              "      <td>178.000000</td>\n",
              "      <td>178.000000</td>\n",
              "      <td>178.000000</td>\n",
              "      <td>178.000000</td>\n",
              "      <td>178.000000</td>\n",
              "      <td>178.000000</td>\n",
              "      <td>178.000000</td>\n",
              "      <td>178.000000</td>\n",
              "      <td>178.000000</td>\n",
              "    </tr>\n",
              "    <tr>\n",
              "      <th>mean</th>\n",
              "      <td>13.000618</td>\n",
              "      <td>2.336348</td>\n",
              "      <td>2.366517</td>\n",
              "      <td>19.494944</td>\n",
              "      <td>99.741573</td>\n",
              "      <td>2.295112</td>\n",
              "      <td>2.029270</td>\n",
              "      <td>0.361854</td>\n",
              "      <td>1.590899</td>\n",
              "      <td>5.058090</td>\n",
              "      <td>0.957449</td>\n",
              "      <td>2.611685</td>\n",
              "      <td>746.893258</td>\n",
              "      <td>1.938202</td>\n",
              "    </tr>\n",
              "    <tr>\n",
              "      <th>std</th>\n",
              "      <td>0.811827</td>\n",
              "      <td>1.117146</td>\n",
              "      <td>0.274344</td>\n",
              "      <td>3.339564</td>\n",
              "      <td>14.282484</td>\n",
              "      <td>0.625851</td>\n",
              "      <td>0.998859</td>\n",
              "      <td>0.124453</td>\n",
              "      <td>0.572359</td>\n",
              "      <td>2.318286</td>\n",
              "      <td>0.228572</td>\n",
              "      <td>0.709990</td>\n",
              "      <td>314.907474</td>\n",
              "      <td>0.775035</td>\n",
              "    </tr>\n",
              "    <tr>\n",
              "      <th>min</th>\n",
              "      <td>11.030000</td>\n",
              "      <td>0.740000</td>\n",
              "      <td>1.360000</td>\n",
              "      <td>10.600000</td>\n",
              "      <td>70.000000</td>\n",
              "      <td>0.980000</td>\n",
              "      <td>0.340000</td>\n",
              "      <td>0.130000</td>\n",
              "      <td>0.410000</td>\n",
              "      <td>1.280000</td>\n",
              "      <td>0.480000</td>\n",
              "      <td>1.270000</td>\n",
              "      <td>278.000000</td>\n",
              "      <td>1.000000</td>\n",
              "    </tr>\n",
              "    <tr>\n",
              "      <th>25%</th>\n",
              "      <td>12.362500</td>\n",
              "      <td>1.602500</td>\n",
              "      <td>2.210000</td>\n",
              "      <td>17.200000</td>\n",
              "      <td>88.000000</td>\n",
              "      <td>1.742500</td>\n",
              "      <td>1.205000</td>\n",
              "      <td>0.270000</td>\n",
              "      <td>1.250000</td>\n",
              "      <td>3.220000</td>\n",
              "      <td>0.782500</td>\n",
              "      <td>1.937500</td>\n",
              "      <td>500.500000</td>\n",
              "      <td>1.000000</td>\n",
              "    </tr>\n",
              "    <tr>\n",
              "      <th>50%</th>\n",
              "      <td>13.050000</td>\n",
              "      <td>1.865000</td>\n",
              "      <td>2.360000</td>\n",
              "      <td>19.500000</td>\n",
              "      <td>98.000000</td>\n",
              "      <td>2.355000</td>\n",
              "      <td>2.135000</td>\n",
              "      <td>0.340000</td>\n",
              "      <td>1.555000</td>\n",
              "      <td>4.690000</td>\n",
              "      <td>0.965000</td>\n",
              "      <td>2.780000</td>\n",
              "      <td>673.500000</td>\n",
              "      <td>2.000000</td>\n",
              "    </tr>\n",
              "    <tr>\n",
              "      <th>75%</th>\n",
              "      <td>13.677500</td>\n",
              "      <td>3.082500</td>\n",
              "      <td>2.557500</td>\n",
              "      <td>21.500000</td>\n",
              "      <td>107.000000</td>\n",
              "      <td>2.800000</td>\n",
              "      <td>2.875000</td>\n",
              "      <td>0.437500</td>\n",
              "      <td>1.950000</td>\n",
              "      <td>6.200000</td>\n",
              "      <td>1.120000</td>\n",
              "      <td>3.170000</td>\n",
              "      <td>985.000000</td>\n",
              "      <td>3.000000</td>\n",
              "    </tr>\n",
              "    <tr>\n",
              "      <th>max</th>\n",
              "      <td>14.830000</td>\n",
              "      <td>5.800000</td>\n",
              "      <td>3.230000</td>\n",
              "      <td>30.000000</td>\n",
              "      <td>162.000000</td>\n",
              "      <td>3.880000</td>\n",
              "      <td>5.080000</td>\n",
              "      <td>0.660000</td>\n",
              "      <td>3.580000</td>\n",
              "      <td>13.000000</td>\n",
              "      <td>1.710000</td>\n",
              "      <td>4.000000</td>\n",
              "      <td>1680.000000</td>\n",
              "      <td>3.000000</td>\n",
              "    </tr>\n",
              "  </tbody>\n",
              "</table>\n",
              "</div>"
            ],
            "text/plain": [
              "           alcool  acido_malico  ...      proline  segmento_de_clientes\n",
              "count  178.000000    178.000000  ...   178.000000            178.000000\n",
              "mean    13.000618      2.336348  ...   746.893258              1.938202\n",
              "std      0.811827      1.117146  ...   314.907474              0.775035\n",
              "min     11.030000      0.740000  ...   278.000000              1.000000\n",
              "25%     12.362500      1.602500  ...   500.500000              1.000000\n",
              "50%     13.050000      1.865000  ...   673.500000              2.000000\n",
              "75%     13.677500      3.082500  ...   985.000000              3.000000\n",
              "max     14.830000      5.800000  ...  1680.000000              3.000000\n",
              "\n",
              "[8 rows x 14 columns]"
            ]
          },
          "metadata": {},
          "execution_count": 33
        }
      ]
    },
    {
      "cell_type": "markdown",
      "metadata": {
        "id": "AXh7ETxx6VyD"
      },
      "source": [
        "# Atributos com informação importante"
      ]
    },
    {
      "cell_type": "code",
      "metadata": {
        "colab": {
          "base_uri": "https://localhost:8080/",
          "height": 508
        },
        "id": "V6Qx07I36Lue",
        "outputId": "59058510-b5e4-4a55-d14b-b155c1b02ecf"
      },
      "source": [
        "#Usando matriz de correlação\n",
        "matriz_corr = df.corr()\n",
        "matriz_corr"
      ],
      "execution_count": 34,
      "outputs": [
        {
          "output_type": "execute_result",
          "data": {
            "text/html": [
              "<div>\n",
              "<style scoped>\n",
              "    .dataframe tbody tr th:only-of-type {\n",
              "        vertical-align: middle;\n",
              "    }\n",
              "\n",
              "    .dataframe tbody tr th {\n",
              "        vertical-align: top;\n",
              "    }\n",
              "\n",
              "    .dataframe thead th {\n",
              "        text-align: right;\n",
              "    }\n",
              "</style>\n",
              "<table border=\"1\" class=\"dataframe\">\n",
              "  <thead>\n",
              "    <tr style=\"text-align: right;\">\n",
              "      <th></th>\n",
              "      <th>alcool</th>\n",
              "      <th>acido_malico</th>\n",
              "      <th>po</th>\n",
              "      <th>alcalinidade_po</th>\n",
              "      <th>magnesio</th>\n",
              "      <th>fenois_totais</th>\n",
              "      <th>flavonoides</th>\n",
              "      <th>fenois_nao_flavonoides</th>\n",
              "      <th>proantocianidinas</th>\n",
              "      <th>intensidade_da_cor</th>\n",
              "      <th>matiz</th>\n",
              "      <th>OD280</th>\n",
              "      <th>proline</th>\n",
              "      <th>segmento_de_clientes</th>\n",
              "    </tr>\n",
              "  </thead>\n",
              "  <tbody>\n",
              "    <tr>\n",
              "      <th>alcool</th>\n",
              "      <td>1.000000</td>\n",
              "      <td>0.094397</td>\n",
              "      <td>0.211545</td>\n",
              "      <td>-0.310235</td>\n",
              "      <td>0.270798</td>\n",
              "      <td>0.289101</td>\n",
              "      <td>0.236815</td>\n",
              "      <td>-0.155929</td>\n",
              "      <td>0.136698</td>\n",
              "      <td>0.546364</td>\n",
              "      <td>-0.071747</td>\n",
              "      <td>0.072343</td>\n",
              "      <td>0.643720</td>\n",
              "      <td>-0.328222</td>\n",
              "    </tr>\n",
              "    <tr>\n",
              "      <th>acido_malico</th>\n",
              "      <td>0.094397</td>\n",
              "      <td>1.000000</td>\n",
              "      <td>0.164045</td>\n",
              "      <td>0.288500</td>\n",
              "      <td>-0.054575</td>\n",
              "      <td>-0.335167</td>\n",
              "      <td>-0.411007</td>\n",
              "      <td>0.292977</td>\n",
              "      <td>-0.220746</td>\n",
              "      <td>0.248985</td>\n",
              "      <td>-0.561296</td>\n",
              "      <td>-0.368710</td>\n",
              "      <td>-0.192011</td>\n",
              "      <td>0.437776</td>\n",
              "    </tr>\n",
              "    <tr>\n",
              "      <th>po</th>\n",
              "      <td>0.211545</td>\n",
              "      <td>0.164045</td>\n",
              "      <td>1.000000</td>\n",
              "      <td>0.443367</td>\n",
              "      <td>0.286587</td>\n",
              "      <td>0.128980</td>\n",
              "      <td>0.115077</td>\n",
              "      <td>0.186230</td>\n",
              "      <td>0.009652</td>\n",
              "      <td>0.258887</td>\n",
              "      <td>-0.074667</td>\n",
              "      <td>0.003911</td>\n",
              "      <td>0.223626</td>\n",
              "      <td>-0.049643</td>\n",
              "    </tr>\n",
              "    <tr>\n",
              "      <th>alcalinidade_po</th>\n",
              "      <td>-0.310235</td>\n",
              "      <td>0.288500</td>\n",
              "      <td>0.443367</td>\n",
              "      <td>1.000000</td>\n",
              "      <td>-0.083333</td>\n",
              "      <td>-0.321113</td>\n",
              "      <td>-0.351370</td>\n",
              "      <td>0.361922</td>\n",
              "      <td>-0.197327</td>\n",
              "      <td>0.018732</td>\n",
              "      <td>-0.273955</td>\n",
              "      <td>-0.276769</td>\n",
              "      <td>-0.440597</td>\n",
              "      <td>0.517859</td>\n",
              "    </tr>\n",
              "    <tr>\n",
              "      <th>magnesio</th>\n",
              "      <td>0.270798</td>\n",
              "      <td>-0.054575</td>\n",
              "      <td>0.286587</td>\n",
              "      <td>-0.083333</td>\n",
              "      <td>1.000000</td>\n",
              "      <td>0.214401</td>\n",
              "      <td>0.195784</td>\n",
              "      <td>-0.256294</td>\n",
              "      <td>0.236441</td>\n",
              "      <td>0.199950</td>\n",
              "      <td>0.055398</td>\n",
              "      <td>0.066004</td>\n",
              "      <td>0.393351</td>\n",
              "      <td>-0.209179</td>\n",
              "    </tr>\n",
              "    <tr>\n",
              "      <th>fenois_totais</th>\n",
              "      <td>0.289101</td>\n",
              "      <td>-0.335167</td>\n",
              "      <td>0.128980</td>\n",
              "      <td>-0.321113</td>\n",
              "      <td>0.214401</td>\n",
              "      <td>1.000000</td>\n",
              "      <td>0.864564</td>\n",
              "      <td>-0.449935</td>\n",
              "      <td>0.612413</td>\n",
              "      <td>-0.055136</td>\n",
              "      <td>0.433681</td>\n",
              "      <td>0.699949</td>\n",
              "      <td>0.498115</td>\n",
              "      <td>-0.719163</td>\n",
              "    </tr>\n",
              "    <tr>\n",
              "      <th>flavonoides</th>\n",
              "      <td>0.236815</td>\n",
              "      <td>-0.411007</td>\n",
              "      <td>0.115077</td>\n",
              "      <td>-0.351370</td>\n",
              "      <td>0.195784</td>\n",
              "      <td>0.864564</td>\n",
              "      <td>1.000000</td>\n",
              "      <td>-0.537900</td>\n",
              "      <td>0.652692</td>\n",
              "      <td>-0.172379</td>\n",
              "      <td>0.543479</td>\n",
              "      <td>0.787194</td>\n",
              "      <td>0.494193</td>\n",
              "      <td>-0.847498</td>\n",
              "    </tr>\n",
              "    <tr>\n",
              "      <th>fenois_nao_flavonoides</th>\n",
              "      <td>-0.155929</td>\n",
              "      <td>0.292977</td>\n",
              "      <td>0.186230</td>\n",
              "      <td>0.361922</td>\n",
              "      <td>-0.256294</td>\n",
              "      <td>-0.449935</td>\n",
              "      <td>-0.537900</td>\n",
              "      <td>1.000000</td>\n",
              "      <td>-0.365845</td>\n",
              "      <td>0.139057</td>\n",
              "      <td>-0.262640</td>\n",
              "      <td>-0.503270</td>\n",
              "      <td>-0.311385</td>\n",
              "      <td>0.489109</td>\n",
              "    </tr>\n",
              "    <tr>\n",
              "      <th>proantocianidinas</th>\n",
              "      <td>0.136698</td>\n",
              "      <td>-0.220746</td>\n",
              "      <td>0.009652</td>\n",
              "      <td>-0.197327</td>\n",
              "      <td>0.236441</td>\n",
              "      <td>0.612413</td>\n",
              "      <td>0.652692</td>\n",
              "      <td>-0.365845</td>\n",
              "      <td>1.000000</td>\n",
              "      <td>-0.025250</td>\n",
              "      <td>0.295544</td>\n",
              "      <td>0.519067</td>\n",
              "      <td>0.330417</td>\n",
              "      <td>-0.499130</td>\n",
              "    </tr>\n",
              "    <tr>\n",
              "      <th>intensidade_da_cor</th>\n",
              "      <td>0.546364</td>\n",
              "      <td>0.248985</td>\n",
              "      <td>0.258887</td>\n",
              "      <td>0.018732</td>\n",
              "      <td>0.199950</td>\n",
              "      <td>-0.055136</td>\n",
              "      <td>-0.172379</td>\n",
              "      <td>0.139057</td>\n",
              "      <td>-0.025250</td>\n",
              "      <td>1.000000</td>\n",
              "      <td>-0.521813</td>\n",
              "      <td>-0.428815</td>\n",
              "      <td>0.316100</td>\n",
              "      <td>0.265668</td>\n",
              "    </tr>\n",
              "    <tr>\n",
              "      <th>matiz</th>\n",
              "      <td>-0.071747</td>\n",
              "      <td>-0.561296</td>\n",
              "      <td>-0.074667</td>\n",
              "      <td>-0.273955</td>\n",
              "      <td>0.055398</td>\n",
              "      <td>0.433681</td>\n",
              "      <td>0.543479</td>\n",
              "      <td>-0.262640</td>\n",
              "      <td>0.295544</td>\n",
              "      <td>-0.521813</td>\n",
              "      <td>1.000000</td>\n",
              "      <td>0.565468</td>\n",
              "      <td>0.236183</td>\n",
              "      <td>-0.617369</td>\n",
              "    </tr>\n",
              "    <tr>\n",
              "      <th>OD280</th>\n",
              "      <td>0.072343</td>\n",
              "      <td>-0.368710</td>\n",
              "      <td>0.003911</td>\n",
              "      <td>-0.276769</td>\n",
              "      <td>0.066004</td>\n",
              "      <td>0.699949</td>\n",
              "      <td>0.787194</td>\n",
              "      <td>-0.503270</td>\n",
              "      <td>0.519067</td>\n",
              "      <td>-0.428815</td>\n",
              "      <td>0.565468</td>\n",
              "      <td>1.000000</td>\n",
              "      <td>0.312761</td>\n",
              "      <td>-0.788230</td>\n",
              "    </tr>\n",
              "    <tr>\n",
              "      <th>proline</th>\n",
              "      <td>0.643720</td>\n",
              "      <td>-0.192011</td>\n",
              "      <td>0.223626</td>\n",
              "      <td>-0.440597</td>\n",
              "      <td>0.393351</td>\n",
              "      <td>0.498115</td>\n",
              "      <td>0.494193</td>\n",
              "      <td>-0.311385</td>\n",
              "      <td>0.330417</td>\n",
              "      <td>0.316100</td>\n",
              "      <td>0.236183</td>\n",
              "      <td>0.312761</td>\n",
              "      <td>1.000000</td>\n",
              "      <td>-0.633717</td>\n",
              "    </tr>\n",
              "    <tr>\n",
              "      <th>segmento_de_clientes</th>\n",
              "      <td>-0.328222</td>\n",
              "      <td>0.437776</td>\n",
              "      <td>-0.049643</td>\n",
              "      <td>0.517859</td>\n",
              "      <td>-0.209179</td>\n",
              "      <td>-0.719163</td>\n",
              "      <td>-0.847498</td>\n",
              "      <td>0.489109</td>\n",
              "      <td>-0.499130</td>\n",
              "      <td>0.265668</td>\n",
              "      <td>-0.617369</td>\n",
              "      <td>-0.788230</td>\n",
              "      <td>-0.633717</td>\n",
              "      <td>1.000000</td>\n",
              "    </tr>\n",
              "  </tbody>\n",
              "</table>\n",
              "</div>"
            ],
            "text/plain": [
              "                          alcool  acido_malico  ...   proline  segmento_de_clientes\n",
              "alcool                  1.000000      0.094397  ...  0.643720             -0.328222\n",
              "acido_malico            0.094397      1.000000  ... -0.192011              0.437776\n",
              "po                      0.211545      0.164045  ...  0.223626             -0.049643\n",
              "alcalinidade_po        -0.310235      0.288500  ... -0.440597              0.517859\n",
              "magnesio                0.270798     -0.054575  ...  0.393351             -0.209179\n",
              "fenois_totais           0.289101     -0.335167  ...  0.498115             -0.719163\n",
              "flavonoides             0.236815     -0.411007  ...  0.494193             -0.847498\n",
              "fenois_nao_flavonoides -0.155929      0.292977  ... -0.311385              0.489109\n",
              "proantocianidinas       0.136698     -0.220746  ...  0.330417             -0.499130\n",
              "intensidade_da_cor      0.546364      0.248985  ...  0.316100              0.265668\n",
              "matiz                  -0.071747     -0.561296  ...  0.236183             -0.617369\n",
              "OD280                   0.072343     -0.368710  ...  0.312761             -0.788230\n",
              "proline                 0.643720     -0.192011  ...  1.000000             -0.633717\n",
              "segmento_de_clientes   -0.328222      0.437776  ... -0.633717              1.000000\n",
              "\n",
              "[14 rows x 14 columns]"
            ]
          },
          "metadata": {},
          "execution_count": 34
        }
      ]
    },
    {
      "cell_type": "code",
      "metadata": {
        "colab": {
          "base_uri": "https://localhost:8080/"
        },
        "id": "kpnOsaYZ6YcX",
        "outputId": "965718d7-1370-41f3-a94f-7418ea83f2e7"
      },
      "source": [
        "#Instalando a biblioteca biokit\n",
        "#A versão atual do biokit (0.4.6) não é compatível com o Windows 10, é necessário instalar a versão 0.4.2, neste caso. \n",
        "!pip install biokit==\"0.4.2\""
      ],
      "execution_count": 35,
      "outputs": [
        {
          "output_type": "stream",
          "name": "stdout",
          "text": [
            "Requirement already satisfied: biokit==0.4.2 in /usr/local/lib/python3.7/dist-packages (0.4.2)\n",
            "Requirement already satisfied: pandas in /usr/local/lib/python3.7/dist-packages (from biokit==0.4.2) (1.1.5)\n",
            "Requirement already satisfied: colormap in /usr/local/lib/python3.7/dist-packages (from biokit==0.4.2) (1.0.3)\n",
            "Requirement already satisfied: suds-jurko in /usr/local/lib/python3.7/dist-packages (from biokit==0.4.2) (0.6)\n",
            "Requirement already satisfied: colorlog in /usr/local/lib/python3.7/dist-packages (from biokit==0.4.2) (6.4.1)\n",
            "Requirement already satisfied: scipy in /usr/local/lib/python3.7/dist-packages (from biokit==0.4.2) (1.4.1)\n",
            "Requirement already satisfied: easydev>=0.9.11 in /usr/local/lib/python3.7/dist-packages (from biokit==0.4.2) (0.12.0)\n",
            "Requirement already satisfied: biopython in /usr/local/lib/python3.7/dist-packages (from biokit==0.4.2) (1.79)\n",
            "Requirement already satisfied: matplotlib in /usr/local/lib/python3.7/dist-packages (from biokit==0.4.2) (3.2.2)\n",
            "Requirement already satisfied: numpydoc in /usr/local/lib/python3.7/dist-packages (from biokit==0.4.2) (1.1.0)\n",
            "Requirement already satisfied: bioservices>=1.4.5 in /usr/local/lib/python3.7/dist-packages (from biokit==0.4.2) (1.8.1)\n",
            "Requirement already satisfied: pyyaml in /usr/local/lib/python3.7/dist-packages (from biokit==0.4.2) (3.13)\n",
            "Requirement already satisfied: wrapt in /usr/local/lib/python3.7/dist-packages (from bioservices>=1.4.5->biokit==0.4.2) (1.12.1)\n",
            "Requirement already satisfied: requests-cache in /usr/local/lib/python3.7/dist-packages (from bioservices>=1.4.5->biokit==0.4.2) (0.8.1)\n",
            "Requirement already satisfied: lxml in /usr/local/lib/python3.7/dist-packages (from bioservices>=1.4.5->biokit==0.4.2) (4.2.6)\n",
            "Requirement already satisfied: beautifulsoup4 in /usr/local/lib/python3.7/dist-packages (from bioservices>=1.4.5->biokit==0.4.2) (4.6.3)\n",
            "Requirement already satisfied: grequests in /usr/local/lib/python3.7/dist-packages (from bioservices>=1.4.5->biokit==0.4.2) (0.6.0)\n",
            "Requirement already satisfied: requests in /usr/local/lib/python3.7/dist-packages (from bioservices>=1.4.5->biokit==0.4.2) (2.23.0)\n",
            "Requirement already satisfied: appdirs in /usr/local/lib/python3.7/dist-packages (from bioservices>=1.4.5->biokit==0.4.2) (1.4.4)\n",
            "Requirement already satisfied: xmltodict in /usr/local/lib/python3.7/dist-packages (from bioservices>=1.4.5->biokit==0.4.2) (0.12.0)\n",
            "Requirement already satisfied: pexpect in /usr/local/lib/python3.7/dist-packages (from easydev>=0.9.11->biokit==0.4.2) (4.8.0)\n",
            "Requirement already satisfied: colorama in /usr/local/lib/python3.7/dist-packages (from easydev>=0.9.11->biokit==0.4.2) (0.4.4)\n",
            "Requirement already satisfied: numpy in /usr/local/lib/python3.7/dist-packages (from biopython->biokit==0.4.2) (1.19.5)\n",
            "Requirement already satisfied: gevent in /usr/local/lib/python3.7/dist-packages (from grequests->bioservices>=1.4.5->biokit==0.4.2) (21.8.0)\n",
            "Requirement already satisfied: zope.event in /usr/local/lib/python3.7/dist-packages (from gevent->grequests->bioservices>=1.4.5->biokit==0.4.2) (4.5.0)\n",
            "Requirement already satisfied: zope.interface in /usr/local/lib/python3.7/dist-packages (from gevent->grequests->bioservices>=1.4.5->biokit==0.4.2) (5.4.0)\n",
            "Requirement already satisfied: setuptools in /usr/local/lib/python3.7/dist-packages (from gevent->grequests->bioservices>=1.4.5->biokit==0.4.2) (57.4.0)\n",
            "Requirement already satisfied: greenlet<2.0,>=1.1.0 in /usr/local/lib/python3.7/dist-packages (from gevent->grequests->bioservices>=1.4.5->biokit==0.4.2) (1.1.1)\n",
            "Requirement already satisfied: pyparsing!=2.0.4,!=2.1.2,!=2.1.6,>=2.0.1 in /usr/local/lib/python3.7/dist-packages (from matplotlib->biokit==0.4.2) (2.4.7)\n",
            "Requirement already satisfied: python-dateutil>=2.1 in /usr/local/lib/python3.7/dist-packages (from matplotlib->biokit==0.4.2) (2.8.2)\n",
            "Requirement already satisfied: kiwisolver>=1.0.1 in /usr/local/lib/python3.7/dist-packages (from matplotlib->biokit==0.4.2) (1.3.2)\n",
            "Requirement already satisfied: cycler>=0.10 in /usr/local/lib/python3.7/dist-packages (from matplotlib->biokit==0.4.2) (0.10.0)\n",
            "Requirement already satisfied: six in /usr/local/lib/python3.7/dist-packages (from cycler>=0.10->matplotlib->biokit==0.4.2) (1.15.0)\n",
            "Requirement already satisfied: sphinx>=1.6.5 in /usr/local/lib/python3.7/dist-packages (from numpydoc->biokit==0.4.2) (1.8.5)\n",
            "Requirement already satisfied: Jinja2>=2.3 in /usr/local/lib/python3.7/dist-packages (from numpydoc->biokit==0.4.2) (2.11.3)\n",
            "Requirement already satisfied: MarkupSafe>=0.23 in /usr/local/lib/python3.7/dist-packages (from Jinja2>=2.3->numpydoc->biokit==0.4.2) (2.0.1)\n",
            "Requirement already satisfied: docutils>=0.11 in /usr/local/lib/python3.7/dist-packages (from sphinx>=1.6.5->numpydoc->biokit==0.4.2) (0.17.1)\n",
            "Requirement already satisfied: Pygments>=2.0 in /usr/local/lib/python3.7/dist-packages (from sphinx>=1.6.5->numpydoc->biokit==0.4.2) (2.6.1)\n",
            "Requirement already satisfied: imagesize in /usr/local/lib/python3.7/dist-packages (from sphinx>=1.6.5->numpydoc->biokit==0.4.2) (1.2.0)\n",
            "Requirement already satisfied: babel!=2.0,>=1.3 in /usr/local/lib/python3.7/dist-packages (from sphinx>=1.6.5->numpydoc->biokit==0.4.2) (2.9.1)\n",
            "Requirement already satisfied: sphinxcontrib-websupport in /usr/local/lib/python3.7/dist-packages (from sphinx>=1.6.5->numpydoc->biokit==0.4.2) (1.2.4)\n",
            "Requirement already satisfied: packaging in /usr/local/lib/python3.7/dist-packages (from sphinx>=1.6.5->numpydoc->biokit==0.4.2) (21.0)\n",
            "Requirement already satisfied: alabaster<0.8,>=0.7 in /usr/local/lib/python3.7/dist-packages (from sphinx>=1.6.5->numpydoc->biokit==0.4.2) (0.7.12)\n",
            "Requirement already satisfied: snowballstemmer>=1.1 in /usr/local/lib/python3.7/dist-packages (from sphinx>=1.6.5->numpydoc->biokit==0.4.2) (2.1.0)\n",
            "Requirement already satisfied: pytz>=2015.7 in /usr/local/lib/python3.7/dist-packages (from babel!=2.0,>=1.3->sphinx>=1.6.5->numpydoc->biokit==0.4.2) (2018.9)\n",
            "Requirement already satisfied: urllib3!=1.25.0,!=1.25.1,<1.26,>=1.21.1 in /usr/local/lib/python3.7/dist-packages (from requests->bioservices>=1.4.5->biokit==0.4.2) (1.25.11)\n",
            "Requirement already satisfied: chardet<4,>=3.0.2 in /usr/local/lib/python3.7/dist-packages (from requests->bioservices>=1.4.5->biokit==0.4.2) (3.0.4)\n",
            "Requirement already satisfied: idna<3,>=2.5 in /usr/local/lib/python3.7/dist-packages (from requests->bioservices>=1.4.5->biokit==0.4.2) (2.10)\n",
            "Requirement already satisfied: certifi>=2017.4.17 in /usr/local/lib/python3.7/dist-packages (from requests->bioservices>=1.4.5->biokit==0.4.2) (2021.5.30)\n",
            "Requirement already satisfied: ptyprocess>=0.5 in /usr/local/lib/python3.7/dist-packages (from pexpect->easydev>=0.9.11->biokit==0.4.2) (0.7.0)\n",
            "Requirement already satisfied: cattrs<2.0,>=1.8 in /usr/local/lib/python3.7/dist-packages (from requests-cache->bioservices>=1.4.5->biokit==0.4.2) (1.8.0)\n",
            "Requirement already satisfied: attrs<22.0,>=21.2 in /usr/local/lib/python3.7/dist-packages (from requests-cache->bioservices>=1.4.5->biokit==0.4.2) (21.2.0)\n",
            "Requirement already satisfied: url-normalize<2.0,>=1.4 in /usr/local/lib/python3.7/dist-packages (from requests-cache->bioservices>=1.4.5->biokit==0.4.2) (1.4.3)\n",
            "Requirement already satisfied: sphinxcontrib-serializinghtml in /usr/local/lib/python3.7/dist-packages (from sphinxcontrib-websupport->sphinx>=1.6.5->numpydoc->biokit==0.4.2) (1.1.5)\n"
          ]
        }
      ]
    },
    {
      "cell_type": "code",
      "metadata": {
        "id": "LF9XAU226c3d"
      },
      "source": [
        "#Importando as bilbiotecas\n",
        "from biokit.viz import corrplot\n",
        "import matplotlib.pyplot as plt"
      ],
      "execution_count": 36,
      "outputs": []
    },
    {
      "cell_type": "code",
      "metadata": {
        "colab": {
          "base_uri": "https://localhost:8080/",
          "height": 608
        },
        "id": "qWi9Aiuw7Hl5",
        "outputId": "562a8893-a700-42e8-c97b-5f1cedff275a"
      },
      "source": [
        "#Observando a correlação entre os dados\n",
        "corr_graf = corrplot.Corrplot(matriz_corr)\n",
        "corr_graf.plot(upper = 'ellipse', fontsize = 'x-large')\n",
        "fig = plt.gcf()\n",
        "fig.set_size_inches(13,8)\n",
        "fig.show()"
      ],
      "execution_count": 37,
      "outputs": [
        {
          "output_type": "stream",
          "name": "stderr",
          "text": [
            "/usr/local/lib/python3.7/dist-packages/biokit/viz/linkage.py:41: ClusterWarning:\n",
            "\n",
            "scipy.cluster: The symmetric non-negative hollow observation matrix looks suspiciously like an uncondensed distance matrix\n",
            "\n",
            "/usr/local/lib/python3.7/dist-packages/biokit/viz/corrplot.py:335: MatplotlibDeprecationWarning:\n",
            "\n",
            "\n",
            "The set_clim function was deprecated in Matplotlib 3.1 and will be removed in 3.3. Use ScalarMappable.set_clim instead.\n",
            "\n"
          ]
        },
        {
          "output_type": "display_data",
          "data": {
            "image/png": "[encoded data removed]",
            "text/plain": [
              "<Figure size 936x576 with 2 Axes>"
            ]
          },
          "metadata": {}
        }
      ]
    },
    {
      "cell_type": "markdown",
      "metadata": {
        "id": "w9_7yuoC7P6l"
      },
      "source": [
        "#Normalização"
      ]
    },
    {
      "cell_type": "code",
      "metadata": {
        "colab": {
          "base_uri": "https://localhost:8080/"
        },
        "id": "_eM5l1qt7yE4",
        "outputId": "1def211d-f092-4903-f300-fb9cc9645595"
      },
      "source": [
        "df.columns"
      ],
      "execution_count": 38,
      "outputs": [
        {
          "output_type": "execute_result",
          "data": {
            "text/plain": [
              "Index(['alcool', 'acido_malico', 'po', 'alcalinidade_po', 'magnesio',\n",
              "       'fenois_totais', 'flavonoides', 'fenois_nao_flavonoides',\n",
              "       'proantocianidinas', 'intensidade_da_cor', 'matiz', 'OD280', 'proline',\n",
              "       'segmento_de_clientes'],\n",
              "      dtype='object')"
            ]
          },
          "metadata": {},
          "execution_count": 38
        }
      ]
    },
    {
      "cell_type": "code",
      "metadata": {
        "id": "NJ8GoFSI7KXr"
      },
      "source": [
        "#Normalização manual\n",
        "atributos = df.columns\n",
        "for atributo in atributos:\n",
        "    df[atributo] = (df[atributo] - min(df[atributo]))/(max(df[atributo]) - min(df[atributo]))"
      ],
      "execution_count": 42,
      "outputs": []
    },
    {
      "cell_type": "code",
      "metadata": {
        "colab": {
          "base_uri": "https://localhost:8080/",
          "height": 320
        },
        "id": "VrVIAr2Y7X4W",
        "outputId": "1a80ffba-236f-439a-de5c-95139cb9a8e1"
      },
      "source": [
        "df.describe()"
      ],
      "execution_count": 43,
      "outputs": [
        {
          "output_type": "execute_result",
          "data": {
            "text/html": [
              "<div>\n",
              "<style scoped>\n",
              "    .dataframe tbody tr th:only-of-type {\n",
              "        vertical-align: middle;\n",
              "    }\n",
              "\n",
              "    .dataframe tbody tr th {\n",
              "        vertical-align: top;\n",
              "    }\n",
              "\n",
              "    .dataframe thead th {\n",
              "        text-align: right;\n",
              "    }\n",
              "</style>\n",
              "<table border=\"1\" class=\"dataframe\">\n",
              "  <thead>\n",
              "    <tr style=\"text-align: right;\">\n",
              "      <th></th>\n",
              "      <th>alcool</th>\n",
              "      <th>acido_malico</th>\n",
              "      <th>po</th>\n",
              "      <th>alcalinidade_po</th>\n",
              "      <th>magnesio</th>\n",
              "      <th>fenois_totais</th>\n",
              "      <th>flavonoides</th>\n",
              "      <th>fenois_nao_flavonoides</th>\n",
              "      <th>proantocianidinas</th>\n",
              "      <th>intensidade_da_cor</th>\n",
              "      <th>matiz</th>\n",
              "      <th>OD280</th>\n",
              "      <th>proline</th>\n",
              "      <th>segmento_de_clientes</th>\n",
              "    </tr>\n",
              "  </thead>\n",
              "  <tbody>\n",
              "    <tr>\n",
              "      <th>count</th>\n",
              "      <td>178.000000</td>\n",
              "      <td>178.000000</td>\n",
              "      <td>178.000000</td>\n",
              "      <td>178.000000</td>\n",
              "      <td>178.000000</td>\n",
              "      <td>178.000000</td>\n",
              "      <td>178.000000</td>\n",
              "      <td>178.000000</td>\n",
              "      <td>178.000000</td>\n",
              "      <td>178.000000</td>\n",
              "      <td>178.000000</td>\n",
              "      <td>178.000000</td>\n",
              "      <td>178.000000</td>\n",
              "      <td>178.000000</td>\n",
              "    </tr>\n",
              "    <tr>\n",
              "      <th>mean</th>\n",
              "      <td>0.518584</td>\n",
              "      <td>0.315484</td>\n",
              "      <td>0.538244</td>\n",
              "      <td>0.458502</td>\n",
              "      <td>0.323278</td>\n",
              "      <td>0.453487</td>\n",
              "      <td>0.356386</td>\n",
              "      <td>0.437460</td>\n",
              "      <td>0.372523</td>\n",
              "      <td>0.322363</td>\n",
              "      <td>0.388170</td>\n",
              "      <td>0.491460</td>\n",
              "      <td>0.334446</td>\n",
              "      <td>0.469101</td>\n",
              "    </tr>\n",
              "    <tr>\n",
              "      <th>std</th>\n",
              "      <td>0.213639</td>\n",
              "      <td>0.220780</td>\n",
              "      <td>0.146708</td>\n",
              "      <td>0.172142</td>\n",
              "      <td>0.155244</td>\n",
              "      <td>0.215811</td>\n",
              "      <td>0.210730</td>\n",
              "      <td>0.234818</td>\n",
              "      <td>0.180555</td>\n",
              "      <td>0.197806</td>\n",
              "      <td>0.185831</td>\n",
              "      <td>0.260070</td>\n",
              "      <td>0.224613</td>\n",
              "      <td>0.387517</td>\n",
              "    </tr>\n",
              "    <tr>\n",
              "      <th>min</th>\n",
              "      <td>0.000000</td>\n",
              "      <td>0.000000</td>\n",
              "      <td>0.000000</td>\n",
              "      <td>0.000000</td>\n",
              "      <td>0.000000</td>\n",
              "      <td>0.000000</td>\n",
              "      <td>0.000000</td>\n",
              "      <td>0.000000</td>\n",
              "      <td>0.000000</td>\n",
              "      <td>0.000000</td>\n",
              "      <td>0.000000</td>\n",
              "      <td>0.000000</td>\n",
              "      <td>0.000000</td>\n",
              "      <td>0.000000</td>\n",
              "    </tr>\n",
              "    <tr>\n",
              "      <th>25%</th>\n",
              "      <td>0.350658</td>\n",
              "      <td>0.170455</td>\n",
              "      <td>0.454545</td>\n",
              "      <td>0.340206</td>\n",
              "      <td>0.195652</td>\n",
              "      <td>0.262931</td>\n",
              "      <td>0.182489</td>\n",
              "      <td>0.264151</td>\n",
              "      <td>0.264984</td>\n",
              "      <td>0.165529</td>\n",
              "      <td>0.245935</td>\n",
              "      <td>0.244505</td>\n",
              "      <td>0.158702</td>\n",
              "      <td>0.000000</td>\n",
              "    </tr>\n",
              "    <tr>\n",
              "      <th>50%</th>\n",
              "      <td>0.531579</td>\n",
              "      <td>0.222332</td>\n",
              "      <td>0.534759</td>\n",
              "      <td>0.458763</td>\n",
              "      <td>0.304348</td>\n",
              "      <td>0.474138</td>\n",
              "      <td>0.378692</td>\n",
              "      <td>0.396226</td>\n",
              "      <td>0.361199</td>\n",
              "      <td>0.290956</td>\n",
              "      <td>0.394309</td>\n",
              "      <td>0.553114</td>\n",
              "      <td>0.282097</td>\n",
              "      <td>0.500000</td>\n",
              "    </tr>\n",
              "    <tr>\n",
              "      <th>75%</th>\n",
              "      <td>0.696711</td>\n",
              "      <td>0.462945</td>\n",
              "      <td>0.640374</td>\n",
              "      <td>0.561856</td>\n",
              "      <td>0.402174</td>\n",
              "      <td>0.627586</td>\n",
              "      <td>0.534810</td>\n",
              "      <td>0.580189</td>\n",
              "      <td>0.485804</td>\n",
              "      <td>0.419795</td>\n",
              "      <td>0.520325</td>\n",
              "      <td>0.695971</td>\n",
              "      <td>0.504280</td>\n",
              "      <td>1.000000</td>\n",
              "    </tr>\n",
              "    <tr>\n",
              "      <th>max</th>\n",
              "      <td>1.000000</td>\n",
              "      <td>1.000000</td>\n",
              "      <td>1.000000</td>\n",
              "      <td>1.000000</td>\n",
              "      <td>1.000000</td>\n",
              "      <td>1.000000</td>\n",
              "      <td>1.000000</td>\n",
              "      <td>1.000000</td>\n",
              "      <td>1.000000</td>\n",
              "      <td>1.000000</td>\n",
              "      <td>1.000000</td>\n",
              "      <td>1.000000</td>\n",
              "      <td>1.000000</td>\n",
              "      <td>1.000000</td>\n",
              "    </tr>\n",
              "  </tbody>\n",
              "</table>\n",
              "</div>"
            ],
            "text/plain": [
              "           alcool  acido_malico  ...     proline  segmento_de_clientes\n",
              "count  178.000000    178.000000  ...  178.000000            178.000000\n",
              "mean     0.518584      0.315484  ...    0.334446              0.469101\n",
              "std      0.213639      0.220780  ...    0.224613              0.387517\n",
              "min      0.000000      0.000000  ...    0.000000              0.000000\n",
              "25%      0.350658      0.170455  ...    0.158702              0.000000\n",
              "50%      0.531579      0.222332  ...    0.282097              0.500000\n",
              "75%      0.696711      0.462945  ...    0.504280              1.000000\n",
              "max      1.000000      1.000000  ...    1.000000              1.000000\n",
              "\n",
              "[8 rows x 14 columns]"
            ]
          },
          "metadata": {},
          "execution_count": 43
        }
      ]
    },
    {
      "cell_type": "code",
      "metadata": {
        "id": "ATDZxkO8_FdU"
      },
      "source": [
        "#Para fazermos com que o nosso dataframe volte a ter os valores anteriores\n",
        "from sklearn.preprocessing import StandardScaler"
      ],
      "execution_count": 51,
      "outputs": []
    },
    {
      "cell_type": "markdown",
      "metadata": {
        "id": "P5GKRc3ZBXhu"
      },
      "source": [
        "#Dúvidas!!\n",
        "Não estou conseguindo voltar aos valores anteriores à normalização!"
      ]
    },
    {
      "cell_type": "code",
      "metadata": {
        "colab": {
          "base_uri": "https://localhost:8080/",
          "height": 200
        },
        "id": "jgjphSWiAq6L",
        "outputId": "52ce8f5d-377e-4776-beef-35b59a82a143"
      },
      "source": [
        "scaler = StandartScaler()\n",
        "scaled_data = scaler.fit_transform(df[atributos])\n",
        "scaler.inverse_transform(scaled_data)"
      ],
      "execution_count": 53,
      "outputs": [
        {
          "output_type": "error",
          "ename": "NameError",
          "evalue": "ignored",
          "traceback": [
            "\u001b[0;31m---------------------------------------------------------------------------\u001b[0m",
            "\u001b[0;31mNameError\u001b[0m                                 Traceback (most recent call last)",
            "\u001b[0;32m<ipython-input-53-88670f8edbc7>\u001b[0m in \u001b[0;36m<module>\u001b[0;34m()\u001b[0m\n\u001b[0;32m----> 1\u001b[0;31m \u001b[0mscaler\u001b[0m \u001b[0;34m=\u001b[0m \u001b[0mStandartScaler\u001b[0m\u001b[0;34m(\u001b[0m\u001b[0;34m)\u001b[0m\u001b[0;34m\u001b[0m\u001b[0;34m\u001b[0m\u001b[0m\n\u001b[0m\u001b[1;32m      2\u001b[0m \u001b[0mscaled_data\u001b[0m \u001b[0;34m=\u001b[0m \u001b[0mscaler\u001b[0m\u001b[0;34m.\u001b[0m\u001b[0mfit_transform\u001b[0m\u001b[0;34m(\u001b[0m\u001b[0mdf\u001b[0m\u001b[0;34m[\u001b[0m\u001b[0matributos\u001b[0m\u001b[0;34m]\u001b[0m\u001b[0;34m)\u001b[0m\u001b[0;34m\u001b[0m\u001b[0;34m\u001b[0m\u001b[0m\n\u001b[1;32m      3\u001b[0m \u001b[0mscaler\u001b[0m\u001b[0;34m.\u001b[0m\u001b[0minverse_transform\u001b[0m\u001b[0;34m(\u001b[0m\u001b[0mscaled_data\u001b[0m\u001b[0;34m)\u001b[0m\u001b[0;34m\u001b[0m\u001b[0;34m\u001b[0m\u001b[0m\n",
            "\u001b[0;31mNameError\u001b[0m: name 'StandartScaler' is not defined"
          ]
        }
      ]
    },
    {
      "cell_type": "code",
      "metadata": {
        "colab": {
          "base_uri": "https://localhost:8080/",
          "height": 320
        },
        "id": "VTpL2WAX7T94",
        "outputId": "8c88c0c9-c929-417e-8b03-b3fc75b03b98"
      },
      "source": [
        "#Normalização pela sklearn\n",
        "from sklearn import preprocessing\n",
        "min_max_scaler = preprocessing.MinMaxScaler()\n",
        "np_df = min_max_scaler.fit_transform(df)\n",
        "\n",
        "#Criando um dataframe com o numpy array\n",
        "df = pd.DataFrame(np_df, columns = atributos)\n",
        "df.describe()"
      ],
      "execution_count": 44,
      "outputs": [
        {
          "output_type": "execute_result",
          "data": {
            "text/html": [
              "<div>\n",
              "<style scoped>\n",
              "    .dataframe tbody tr th:only-of-type {\n",
              "        vertical-align: middle;\n",
              "    }\n",
              "\n",
              "    .dataframe tbody tr th {\n",
              "        vertical-align: top;\n",
              "    }\n",
              "\n",
              "    .dataframe thead th {\n",
              "        text-align: right;\n",
              "    }\n",
              "</style>\n",
              "<table border=\"1\" class=\"dataframe\">\n",
              "  <thead>\n",
              "    <tr style=\"text-align: right;\">\n",
              "      <th></th>\n",
              "      <th>alcool</th>\n",
              "      <th>acido_malico</th>\n",
              "      <th>po</th>\n",
              "      <th>alcalinidade_po</th>\n",
              "      <th>magnesio</th>\n",
              "      <th>fenois_totais</th>\n",
              "      <th>flavonoides</th>\n",
              "      <th>fenois_nao_flavonoides</th>\n",
              "      <th>proantocianidinas</th>\n",
              "      <th>intensidade_da_cor</th>\n",
              "      <th>matiz</th>\n",
              "      <th>OD280</th>\n",
              "      <th>proline</th>\n",
              "      <th>segmento_de_clientes</th>\n",
              "    </tr>\n",
              "  </thead>\n",
              "  <tbody>\n",
              "    <tr>\n",
              "      <th>count</th>\n",
              "      <td>178.000000</td>\n",
              "      <td>178.000000</td>\n",
              "      <td>178.000000</td>\n",
              "      <td>178.000000</td>\n",
              "      <td>178.000000</td>\n",
              "      <td>178.000000</td>\n",
              "      <td>178.000000</td>\n",
              "      <td>178.000000</td>\n",
              "      <td>178.000000</td>\n",
              "      <td>178.000000</td>\n",
              "      <td>178.000000</td>\n",
              "      <td>178.000000</td>\n",
              "      <td>178.000000</td>\n",
              "      <td>178.000000</td>\n",
              "    </tr>\n",
              "    <tr>\n",
              "      <th>mean</th>\n",
              "      <td>0.518584</td>\n",
              "      <td>0.315484</td>\n",
              "      <td>0.538244</td>\n",
              "      <td>0.458502</td>\n",
              "      <td>0.323278</td>\n",
              "      <td>0.453487</td>\n",
              "      <td>0.356386</td>\n",
              "      <td>0.437460</td>\n",
              "      <td>0.372523</td>\n",
              "      <td>0.322363</td>\n",
              "      <td>0.388170</td>\n",
              "      <td>0.491460</td>\n",
              "      <td>0.334446</td>\n",
              "      <td>0.469101</td>\n",
              "    </tr>\n",
              "    <tr>\n",
              "      <th>std</th>\n",
              "      <td>0.213639</td>\n",
              "      <td>0.220780</td>\n",
              "      <td>0.146708</td>\n",
              "      <td>0.172142</td>\n",
              "      <td>0.155244</td>\n",
              "      <td>0.215811</td>\n",
              "      <td>0.210730</td>\n",
              "      <td>0.234818</td>\n",
              "      <td>0.180555</td>\n",
              "      <td>0.197806</td>\n",
              "      <td>0.185831</td>\n",
              "      <td>0.260070</td>\n",
              "      <td>0.224613</td>\n",
              "      <td>0.387517</td>\n",
              "    </tr>\n",
              "    <tr>\n",
              "      <th>min</th>\n",
              "      <td>0.000000</td>\n",
              "      <td>0.000000</td>\n",
              "      <td>0.000000</td>\n",
              "      <td>0.000000</td>\n",
              "      <td>0.000000</td>\n",
              "      <td>0.000000</td>\n",
              "      <td>0.000000</td>\n",
              "      <td>0.000000</td>\n",
              "      <td>0.000000</td>\n",
              "      <td>0.000000</td>\n",
              "      <td>0.000000</td>\n",
              "      <td>0.000000</td>\n",
              "      <td>0.000000</td>\n",
              "      <td>0.000000</td>\n",
              "    </tr>\n",
              "    <tr>\n",
              "      <th>25%</th>\n",
              "      <td>0.350658</td>\n",
              "      <td>0.170455</td>\n",
              "      <td>0.454545</td>\n",
              "      <td>0.340206</td>\n",
              "      <td>0.195652</td>\n",
              "      <td>0.262931</td>\n",
              "      <td>0.182489</td>\n",
              "      <td>0.264151</td>\n",
              "      <td>0.264984</td>\n",
              "      <td>0.165529</td>\n",
              "      <td>0.245935</td>\n",
              "      <td>0.244505</td>\n",
              "      <td>0.158702</td>\n",
              "      <td>0.000000</td>\n",
              "    </tr>\n",
              "    <tr>\n",
              "      <th>50%</th>\n",
              "      <td>0.531579</td>\n",
              "      <td>0.222332</td>\n",
              "      <td>0.534759</td>\n",
              "      <td>0.458763</td>\n",
              "      <td>0.304348</td>\n",
              "      <td>0.474138</td>\n",
              "      <td>0.378692</td>\n",
              "      <td>0.396226</td>\n",
              "      <td>0.361199</td>\n",
              "      <td>0.290956</td>\n",
              "      <td>0.394309</td>\n",
              "      <td>0.553114</td>\n",
              "      <td>0.282097</td>\n",
              "      <td>0.500000</td>\n",
              "    </tr>\n",
              "    <tr>\n",
              "      <th>75%</th>\n",
              "      <td>0.696711</td>\n",
              "      <td>0.462945</td>\n",
              "      <td>0.640374</td>\n",
              "      <td>0.561856</td>\n",
              "      <td>0.402174</td>\n",
              "      <td>0.627586</td>\n",
              "      <td>0.534810</td>\n",
              "      <td>0.580189</td>\n",
              "      <td>0.485804</td>\n",
              "      <td>0.419795</td>\n",
              "      <td>0.520325</td>\n",
              "      <td>0.695971</td>\n",
              "      <td>0.504280</td>\n",
              "      <td>1.000000</td>\n",
              "    </tr>\n",
              "    <tr>\n",
              "      <th>max</th>\n",
              "      <td>1.000000</td>\n",
              "      <td>1.000000</td>\n",
              "      <td>1.000000</td>\n",
              "      <td>1.000000</td>\n",
              "      <td>1.000000</td>\n",
              "      <td>1.000000</td>\n",
              "      <td>1.000000</td>\n",
              "      <td>1.000000</td>\n",
              "      <td>1.000000</td>\n",
              "      <td>1.000000</td>\n",
              "      <td>1.000000</td>\n",
              "      <td>1.000000</td>\n",
              "      <td>1.000000</td>\n",
              "      <td>1.000000</td>\n",
              "    </tr>\n",
              "  </tbody>\n",
              "</table>\n",
              "</div>"
            ],
            "text/plain": [
              "           alcool  acido_malico  ...     proline  segmento_de_clientes\n",
              "count  178.000000    178.000000  ...  178.000000            178.000000\n",
              "mean     0.518584      0.315484  ...    0.334446              0.469101\n",
              "std      0.213639      0.220780  ...    0.224613              0.387517\n",
              "min      0.000000      0.000000  ...    0.000000              0.000000\n",
              "25%      0.350658      0.170455  ...    0.158702              0.000000\n",
              "50%      0.531579      0.222332  ...    0.282097              0.500000\n",
              "75%      0.696711      0.462945  ...    0.504280              1.000000\n",
              "max      1.000000      1.000000  ...    1.000000              1.000000\n",
              "\n",
              "[8 rows x 14 columns]"
            ]
          },
          "metadata": {},
          "execution_count": 44
        }
      ]
    },
    {
      "cell_type": "markdown",
      "metadata": {
        "id": "bUF8X-gQBpOk"
      },
      "source": [
        "#Dúvidas!!\n",
        "Não estou conseguindo voltar aos valores anteriores à normalização!"
      ]
    },
    {
      "cell_type": "code",
      "metadata": {
        "colab": {
          "base_uri": "https://localhost:8080/",
          "height": 320
        },
        "id": "di3B5ptw7ifV",
        "outputId": "37ca928b-7234-43b1-9476-950a49b2db1b"
      },
      "source": [
        "#Para fazermos com que o nosso dataframe volte a ter os valores anteriores podemos usar a função \"inverse_transform\"\n",
        "np_df = min_max_scaler.inverse_transform(df)\n",
        "df_nao_normalizado = pd.DataFrame(np_df, columns = atributos)\n",
        "df_nao_normalizado.describe()"
      ],
      "execution_count": 45,
      "outputs": [
        {
          "output_type": "execute_result",
          "data": {
            "text/html": [
              "<div>\n",
              "<style scoped>\n",
              "    .dataframe tbody tr th:only-of-type {\n",
              "        vertical-align: middle;\n",
              "    }\n",
              "\n",
              "    .dataframe tbody tr th {\n",
              "        vertical-align: top;\n",
              "    }\n",
              "\n",
              "    .dataframe thead th {\n",
              "        text-align: right;\n",
              "    }\n",
              "</style>\n",
              "<table border=\"1\" class=\"dataframe\">\n",
              "  <thead>\n",
              "    <tr style=\"text-align: right;\">\n",
              "      <th></th>\n",
              "      <th>alcool</th>\n",
              "      <th>acido_malico</th>\n",
              "      <th>po</th>\n",
              "      <th>alcalinidade_po</th>\n",
              "      <th>magnesio</th>\n",
              "      <th>fenois_totais</th>\n",
              "      <th>flavonoides</th>\n",
              "      <th>fenois_nao_flavonoides</th>\n",
              "      <th>proantocianidinas</th>\n",
              "      <th>intensidade_da_cor</th>\n",
              "      <th>matiz</th>\n",
              "      <th>OD280</th>\n",
              "      <th>proline</th>\n",
              "      <th>segmento_de_clientes</th>\n",
              "    </tr>\n",
              "  </thead>\n",
              "  <tbody>\n",
              "    <tr>\n",
              "      <th>count</th>\n",
              "      <td>178.000000</td>\n",
              "      <td>178.000000</td>\n",
              "      <td>178.000000</td>\n",
              "      <td>178.000000</td>\n",
              "      <td>178.000000</td>\n",
              "      <td>178.000000</td>\n",
              "      <td>178.000000</td>\n",
              "      <td>178.000000</td>\n",
              "      <td>178.000000</td>\n",
              "      <td>178.000000</td>\n",
              "      <td>178.000000</td>\n",
              "      <td>178.000000</td>\n",
              "      <td>178.000000</td>\n",
              "      <td>178.000000</td>\n",
              "    </tr>\n",
              "    <tr>\n",
              "      <th>mean</th>\n",
              "      <td>0.518584</td>\n",
              "      <td>0.315484</td>\n",
              "      <td>0.538244</td>\n",
              "      <td>0.458502</td>\n",
              "      <td>0.323278</td>\n",
              "      <td>0.453487</td>\n",
              "      <td>0.356386</td>\n",
              "      <td>0.437460</td>\n",
              "      <td>0.372523</td>\n",
              "      <td>0.322363</td>\n",
              "      <td>0.388170</td>\n",
              "      <td>0.491460</td>\n",
              "      <td>0.334446</td>\n",
              "      <td>0.469101</td>\n",
              "    </tr>\n",
              "    <tr>\n",
              "      <th>std</th>\n",
              "      <td>0.213639</td>\n",
              "      <td>0.220780</td>\n",
              "      <td>0.146708</td>\n",
              "      <td>0.172142</td>\n",
              "      <td>0.155244</td>\n",
              "      <td>0.215811</td>\n",
              "      <td>0.210730</td>\n",
              "      <td>0.234818</td>\n",
              "      <td>0.180555</td>\n",
              "      <td>0.197806</td>\n",
              "      <td>0.185831</td>\n",
              "      <td>0.260070</td>\n",
              "      <td>0.224613</td>\n",
              "      <td>0.387517</td>\n",
              "    </tr>\n",
              "    <tr>\n",
              "      <th>min</th>\n",
              "      <td>0.000000</td>\n",
              "      <td>0.000000</td>\n",
              "      <td>0.000000</td>\n",
              "      <td>0.000000</td>\n",
              "      <td>0.000000</td>\n",
              "      <td>0.000000</td>\n",
              "      <td>0.000000</td>\n",
              "      <td>0.000000</td>\n",
              "      <td>0.000000</td>\n",
              "      <td>0.000000</td>\n",
              "      <td>0.000000</td>\n",
              "      <td>0.000000</td>\n",
              "      <td>0.000000</td>\n",
              "      <td>0.000000</td>\n",
              "    </tr>\n",
              "    <tr>\n",
              "      <th>25%</th>\n",
              "      <td>0.350658</td>\n",
              "      <td>0.170455</td>\n",
              "      <td>0.454545</td>\n",
              "      <td>0.340206</td>\n",
              "      <td>0.195652</td>\n",
              "      <td>0.262931</td>\n",
              "      <td>0.182489</td>\n",
              "      <td>0.264151</td>\n",
              "      <td>0.264984</td>\n",
              "      <td>0.165529</td>\n",
              "      <td>0.245935</td>\n",
              "      <td>0.244505</td>\n",
              "      <td>0.158702</td>\n",
              "      <td>0.000000</td>\n",
              "    </tr>\n",
              "    <tr>\n",
              "      <th>50%</th>\n",
              "      <td>0.531579</td>\n",
              "      <td>0.222332</td>\n",
              "      <td>0.534759</td>\n",
              "      <td>0.458763</td>\n",
              "      <td>0.304348</td>\n",
              "      <td>0.474138</td>\n",
              "      <td>0.378692</td>\n",
              "      <td>0.396226</td>\n",
              "      <td>0.361199</td>\n",
              "      <td>0.290956</td>\n",
              "      <td>0.394309</td>\n",
              "      <td>0.553114</td>\n",
              "      <td>0.282097</td>\n",
              "      <td>0.500000</td>\n",
              "    </tr>\n",
              "    <tr>\n",
              "      <th>75%</th>\n",
              "      <td>0.696711</td>\n",
              "      <td>0.462945</td>\n",
              "      <td>0.640374</td>\n",
              "      <td>0.561856</td>\n",
              "      <td>0.402174</td>\n",
              "      <td>0.627586</td>\n",
              "      <td>0.534810</td>\n",
              "      <td>0.580189</td>\n",
              "      <td>0.485804</td>\n",
              "      <td>0.419795</td>\n",
              "      <td>0.520325</td>\n",
              "      <td>0.695971</td>\n",
              "      <td>0.504280</td>\n",
              "      <td>1.000000</td>\n",
              "    </tr>\n",
              "    <tr>\n",
              "      <th>max</th>\n",
              "      <td>1.000000</td>\n",
              "      <td>1.000000</td>\n",
              "      <td>1.000000</td>\n",
              "      <td>1.000000</td>\n",
              "      <td>1.000000</td>\n",
              "      <td>1.000000</td>\n",
              "      <td>1.000000</td>\n",
              "      <td>1.000000</td>\n",
              "      <td>1.000000</td>\n",
              "      <td>1.000000</td>\n",
              "      <td>1.000000</td>\n",
              "      <td>1.000000</td>\n",
              "      <td>1.000000</td>\n",
              "      <td>1.000000</td>\n",
              "    </tr>\n",
              "  </tbody>\n",
              "</table>\n",
              "</div>"
            ],
            "text/plain": [
              "           alcool  acido_malico  ...     proline  segmento_de_clientes\n",
              "count  178.000000    178.000000  ...  178.000000            178.000000\n",
              "mean     0.518584      0.315484  ...    0.334446              0.469101\n",
              "std      0.213639      0.220780  ...    0.224613              0.387517\n",
              "min      0.000000      0.000000  ...    0.000000              0.000000\n",
              "25%      0.350658      0.170455  ...    0.158702              0.000000\n",
              "50%      0.531579      0.222332  ...    0.282097              0.500000\n",
              "75%      0.696711      0.462945  ...    0.504280              1.000000\n",
              "max      1.000000      1.000000  ...    1.000000              1.000000\n",
              "\n",
              "[8 rows x 14 columns]"
            ]
          },
          "metadata": {},
          "execution_count": 45
        }
      ]
    },
    {
      "cell_type": "markdown",
      "metadata": {
        "id": "TquVXXEvB5xi"
      },
      "source": [
        "# Clusterização dos dados"
      ]
    },
    {
      "cell_type": "markdown",
      "metadata": {
        "id": "xNCnqjy1CB45"
      },
      "source": [
        "##1- Usando o K-means"
      ]
    },
    {
      "cell_type": "code",
      "metadata": {
        "id": "empTzRHe98JW"
      },
      "source": [
        "from sklearn.cluster import KMeans"
      ],
      "execution_count": 55,
      "outputs": []
    },
    {
      "cell_type": "code",
      "metadata": {
        "colab": {
          "base_uri": "https://localhost:8080/"
        },
        "id": "oCxHij8MCAAT",
        "outputId": "4d6585e3-272b-4a4f-f863-93940506756c"
      },
      "source": [
        "#Agrupando em 4 grupos\n",
        "agrupador = KMeans(n_clusters = 4)\n",
        "agrupador.fit(df)"
      ],
      "execution_count": 56,
      "outputs": [
        {
          "output_type": "execute_result",
          "data": {
            "text/plain": [
              "KMeans(algorithm='auto', copy_x=True, init='k-means++', max_iter=300,\n",
              "       n_clusters=4, n_init=10, n_jobs=None, precompute_distances='auto',\n",
              "       random_state=None, tol=0.0001, verbose=0)"
            ]
          },
          "metadata": {},
          "execution_count": 56
        }
      ]
    },
    {
      "cell_type": "code",
      "metadata": {
        "colab": {
          "base_uri": "https://localhost:8080/"
        },
        "id": "nFsNVkGXCHZN",
        "outputId": "6c901e3c-a959-4d71-8407-91f7f849d901"
      },
      "source": [
        "labels = agrupador.labels_\n",
        "print(labels)"
      ],
      "execution_count": 57,
      "outputs": [
        {
          "output_type": "stream",
          "name": "stdout",
          "text": [
            "[2 2 2 2 2 2 2 2 2 2 2 2 2 2 2 2 2 2 2 2 2 2 2 2 2 2 2 2 2 2 2 2 2 2 2 2 2\n",
            " 2 2 2 2 2 2 2 2 2 2 2 2 2 2 2 2 2 2 2 2 2 2 3 3 3 3 0 3 0 0 0 3 0 3 0 0 0\n",
            " 0 3 0 3 0 0 0 0 3 3 0 0 3 3 3 3 3 3 3 0 0 0 0 0 0 0 0 3 0 3 0 3 3 3 0 0 0\n",
            " 0 3 3 3 3 0 0 3 0 0 0 0 0 0 0 0 3 0 3 1 1 1 1 1 1 1 1 1 1 1 1 1 1 1 1 1 1\n",
            " 1 1 1 1 1 1 1 1 1 1 1 1 1 1 1 1 1 1 1 1 1 1 1 1 1 1 1 1 1 1]\n"
          ]
        }
      ]
    },
    {
      "cell_type": "code",
      "metadata": {
        "colab": {
          "base_uri": "https://localhost:8080/",
          "height": 542
        },
        "id": "OzvFrRk5Cj7b",
        "outputId": "313f52e4-ef7f-4d00-eca7-c7e0be942ddc"
      },
      "source": [
        "#Visualizando os clusters\n",
        "fig = go.Figure()\n",
        "fig.add_trace(go.Scatter(x=df['intensidade_da_cor'], y=df['alcool'], \n",
        "                         mode = 'markers',\n",
        "                         marker = dict(color = agrupador.labels_.astype(np.float)),\n",
        "                         text = labels))\n",
        "fig.show()"
      ],
      "execution_count": 59,
      "outputs": [
        {
          "output_type": "display_data",
          "data": {
            "text/html": [
              "<html>\n",
              "<head><meta charset=\"utf-8\" /></head>\n",
              "<body>\n",
              "    <div>\n",
              "            <script src=\"https://cdnjs.cloudflare.com/ajax/libs/mathjax/2.7.5/MathJax.js?config=TeX-AMS-MML_SVG\"></script><script type=\"text/javascript\">if (window.MathJax) {MathJax.Hub.Config({SVG: {font: \"STIX-Web\"}});}</script>\n",
              "                <script type=\"text/javascript\">window.PlotlyConfig = {MathJaxConfig: 'local'};</script>\n",
              "        <script src=\"https://cdn.plot.ly/plotly-latest.min.js\"></script>    \n",
              "            <div id=\"b46e79e0-41d5-4713-968f-8594e5835e4f\" class=\"plotly-graph-div\" style=\"height:525px; width:100%;\"></div>\n",
              "            <script type=\"text/javascript\">\n",
              "                \n",
              "                    window.PLOTLYENV=window.PLOTLYENV || {};\n",
              "                    \n",
              "                if (document.getElementById(\"b46e79e0-41d5-4713-968f-8594e5835e4f\")) {\n",
              "                    Plotly.newPlot(\n",
              "                        'b46e79e0-41d5-4713-968f-8594e5835e4f',\n",
              "                        [{\"marker\": {\"color\": [2.0, 2.0, 2.0, 2.0, 2.0, 2.0, 2.0, 2.0, 2.0, 2.0, 2.0, 2.0, 2.0, 2.0, 2.0, 2.0, 2.0, 2.0, 2.0, 2.0, 2.0, 2.0, 2.0, 2.0, 2.0, 2.0, 2.0, 2.0, 2.0, 2.0, 2.0, 2.0, 2.0, 2.0, 2.0, 2.0, 2.0, 2.0, 2.0, 2.0, 2.0, 2.0, 2.0, 2.0, 2.0, 2.0, 2.0, 2.0, 2.0, 2.0, 2.0, 2.0, 2.0, 2.0, 2.0, 2.0, 2.0, 2.0, 2.0, 3.0, 3.0, 3.0, 3.0, 0.0, 3.0, 0.0, 0.0, 0.0, 3.0, 0.0, 3.0, 0.0, 0.0, 0.0, 0.0, 3.0, 0.0, 3.0, 0.0, 0.0, 0.0, 0.0, 3.0, 3.0, 0.0, 0.0, 3.0, 3.0, 3.0, 3.0, 3.0, 3.0, 3.0, 0.0, 0.0, 0.0, 0.0, 0.0, 0.0, 0.0, 0.0, 3.0, 0.0, 3.0, 0.0, 3.0, 3.0, 3.0, 0.0, 0.0, 0.0, 0.0, 3.0, 3.0, 3.0, 3.0, 0.0, 0.0, 3.0, 0.0, 0.0, 0.0, 0.0, 0.0, 0.0, 0.0, 0.0, 3.0, 0.0, 3.0, 1.0, 1.0, 1.0, 1.0, 1.0, 1.0, 1.0, 1.0, 1.0, 1.0, 1.0, 1.0, 1.0, 1.0, 1.0, 1.0, 1.0, 1.0, 1.0, 1.0, 1.0, 1.0, 1.0, 1.0, 1.0, 1.0, 1.0, 1.0, 1.0, 1.0, 1.0, 1.0, 1.0, 1.0, 1.0, 1.0, 1.0, 1.0, 1.0, 1.0, 1.0, 1.0, 1.0, 1.0, 1.0, 1.0, 1.0, 1.0]}, \"mode\": \"markers\", \"text\": [2.0, 2.0, 2.0, 2.0, 2.0, 2.0, 2.0, 2.0, 2.0, 2.0, 2.0, 2.0, 2.0, 2.0, 2.0, 2.0, 2.0, 2.0, 2.0, 2.0, 2.0, 2.0, 2.0, 2.0, 2.0, 2.0, 2.0, 2.0, 2.0, 2.0, 2.0, 2.0, 2.0, 2.0, 2.0, 2.0, 2.0, 2.0, 2.0, 2.0, 2.0, 2.0, 2.0, 2.0, 2.0, 2.0, 2.0, 2.0, 2.0, 2.0, 2.0, 2.0, 2.0, 2.0, 2.0, 2.0, 2.0, 2.0, 2.0, 3.0, 3.0, 3.0, 3.0, 0.0, 3.0, 0.0, 0.0, 0.0, 3.0, 0.0, 3.0, 0.0, 0.0, 0.0, 0.0, 3.0, 0.0, 3.0, 0.0, 0.0, 0.0, 0.0, 3.0, 3.0, 0.0, 0.0, 3.0, 3.0, 3.0, 3.0, 3.0, 3.0, 3.0, 0.0, 0.0, 0.0, 0.0, 0.0, 0.0, 0.0, 0.0, 3.0, 0.0, 3.0, 0.0, 3.0, 3.0, 3.0, 0.0, 0.0, 0.0, 0.0, 3.0, 3.0, 3.0, 3.0, 0.0, 0.0, 3.0, 0.0, 0.0, 0.0, 0.0, 0.0, 0.0, 0.0, 0.0, 3.0, 0.0, 3.0, 1.0, 1.0, 1.0, 1.0, 1.0, 1.0, 1.0, 1.0, 1.0, 1.0, 1.0, 1.0, 1.0, 1.0, 1.0, 1.0, 1.0, 1.0, 1.0, 1.0, 1.0, 1.0, 1.0, 1.0, 1.0, 1.0, 1.0, 1.0, 1.0, 1.0, 1.0, 1.0, 1.0, 1.0, 1.0, 1.0, 1.0, 1.0, 1.0, 1.0, 1.0, 1.0, 1.0, 1.0, 1.0, 1.0, 1.0, 1.0], \"type\": \"scatter\", \"x\": [0.37201365187713303, 0.26450511945392485, 0.3754266211604095, 0.5563139931740614, 0.2593856655290102, 0.46672354948805456, 0.3387372013651877, 0.3216723549488054, 0.33447098976109213, 0.5068259385665528, 0.3813993174061433, 0.31740614334470985, 0.3686006825938566, 0.3515358361774744, 0.530716723549488, 0.5136518771331058, 0.4197952218430034, 0.45392491467576784, 0.6331058020477814, 0.32593856655290093, 0.3728668941979522, 0.27474402730375425, 0.21501706484641633, 0.22610921501706485, 0.19112627986348124, 0.19624573378839588, 0.3003412969283276, 0.22781569965870305, 0.27474402730375425, 0.2918088737201365, 0.37713310580204773, 0.47952218430034127, 0.21843003412969278, 0.3515358361774744, 0.24914675767918087, 0.32593856655290093, 0.28327645051194533, 0.2534129692832764, 0.20648464163822525, 0.32593856655290093, 0.41382252559726956, 0.25597269624573377, 0.3540955631399317, 0.26279863481228666, 0.3208191126279863, 0.3378839590443686, 0.30887372013651876, 0.4112627986348122, 0.4197952218430034, 0.6501706484641638, 0.5051194539249146, 0.3686006825938566, 0.4923208191126279, 0.42832764505119447, 0.3899317406143344, 0.42406143344709896, 0.43515358361774736, 0.4027303754266211, 0.4709897610921501, 0.057167235494880536, 0.1697952218430034, 0.3813993174061433, 0.21501706484641633, 0.2704778156996587, 0.14249146757679182, 0.28327645051194533, 0.3430034129692832, 0.2901023890784982, 0.16126279863481227, 0.13395904436860068, 0.1510238907849829, 0.17918088737201363, 0.2098976109215017, 0.17662116040955633, 0.16467576791808872, 0.21501706484641633, 0.28327645051194533, 0.11689419795221842, 0.18088737201365188, 0.1100682593856655, 0.10409556313993173, 0.2235494880546075, 0.07849829351535836, 0.3003412969283276, 0.1510238907849829, 0.11433447098976109, 0.09982935153583619, 0.11262798634812286, 0.1296928327645051, 0.039249146757679175, 0.09556313993174059, 0.19795221843003413, 0.1510238907849829, 0.07423208191126278, 0.16808873720136516, 0.11262798634812286, 0.10409556313993173, 0.13822525597269622, 0.27474402730375425, 0.08703071672354946, 0.1723549488054607, 0.09982935153583619, 0.1296928327645051, 0.06655290102389079, 0.1416382252559727, 0.121160409556314, 0.18088737201365188, 0.1723549488054607, 0.121160409556314, 0.11689419795221842, 0.13822525597269622, 0.0614334470989761, 0.21501706484641633, 0.15358361774744028, 0.13822525597269622, 0.05290102389078497, 0.057167235494880536, 0.06655290102389079, 0.18088737201365188, 0.0, 0.16808873720136516, 0.4027303754266211, 0.06825938566552901, 0.11262798634812286, 0.1296928327645051, 0.12627986348122863, 0.22696245733788395, 0.14675767918088736, 0.07167235494880546, 0.11262798634812286, 0.2406143344709897, 0.3515358361774744, 0.37713310580204773, 0.31740614334470985, 0.35580204778156993, 0.49658703071672344, 0.21928327645051196, 0.31740614334470985, 0.37713310580204773, 0.31058020477815695, 0.28327645051194533, 0.3686006825938566, 0.26194539249146753, 0.26621160409556316, 0.591296928327645, 0.2320819112627986, 0.30887372013651876, 0.5435153583617747, 0.6092150170648464, 0.6928327645051195, 0.6245733788395904, 0.8122866894197953, 0.49658703071672344, 0.78839590443686, 0.5392491467576791, 0.5648464163822525, 0.6595563139931739, 0.530716723549488, 1.0, 0.893344709897611, 0.5435153583617747, 0.39249146757679176, 0.3668941979522184, 0.341296928327645, 0.7081911262798635, 0.4556313993174061, 0.8020477815699658, 0.7662116040955631, 0.629692832764505, 0.6160409556313993, 0.3600682593856655, 0.7354947952218431, 0.7184300341296928, 0.5477815699658702, 0.5136518771331058, 0.7610921501706485, 0.6843003412969284, 0.675767918088737], \"y\": [0.8421052631578949, 0.5710526315789473, 0.5605263157894738, 0.8789473684210525, 0.5815789473684212, 0.8342105263157893, 0.8842105263157897, 0.7973684210526317, 1.0, 0.744736842105263, 0.8078947368421052, 0.813157894736842, 0.7157894736842105, 0.9789473684210526, 0.8815789473684212, 0.6842105263157897, 0.8605263157894739, 0.736842105263158, 0.831578947368421, 0.686842105263158, 0.7973684210526317, 0.5, 0.7052631578947371, 0.4789473684210526, 0.65, 0.5315789473684213, 0.6210526315789475, 0.5973684210526318, 0.7473684210526313, 0.7868421052631578, 0.7105263157894738, 0.6710526315789475, 0.6973684210526315, 0.718421052631579, 0.6526315789473685, 0.6447368421052633, 0.5921052631578946, 0.5315789473684213, 0.536842105263158, 0.8394736842105265, 0.6657894736842107, 0.6263157894736843, 0.7500000000000002, 0.5815789473684212, 0.5315789473684213, 0.8368421052631582, 0.8815789473684212, 0.755263157894737, 0.8078947368421052, 0.7657894736842105, 0.5315789473684213, 0.736842105263158, 0.7342105263157895, 0.7210526315789473, 0.7131578947368422, 0.6657894736842107, 0.8394736842105265, 0.594736842105263, 0.7078947368421055, 0.3526315789473683, 0.34210526315789486, 0.42368421052631605, 0.6947368421052632, 0.3526315789473683, 0.3000000000000001, 0.3526315789473683, 0.5473684210526315, 0.3526315789473683, 0.6078947368421053, 0.31052631578947404, 0.3315789473684209, 0.744736842105263, 0.6473684210526317, 0.5157894736842107, 0.2447368421052635, 0.1657894736842107, 0.5263157894736841, 0.21315789473684219, 0.34210526315789486, 0.43947368421052624, 0.25526315789473697, 0.44473684210526343, 0.27631578947368435, 0.5315789473684213, 0.21315789473684219, 0.4315789473684211, 0.2973684210526317, 0.16315789473684233, 0.16052631578947396, 0.27631578947368435, 0.27631578947368435, 0.25526315789473697, 0.43684210526315786, 0.3315789473684209, 0.15526315789473677, 0.3789473684210529, 0.2052631578947371, 0.3315789473684209, 0.3526315789473683, 0.3315789473684209, 0.27631578947368435, 0.4131578947368421, 0.34473684210526323, 0.20789473684210547, 0.38947368421052636, 0.3657894736842106, 0.3210526315789475, 0.44473684210526343, 0.31315789473684236, 0.15263157894736842, 0.11315789473684247, 0.39210526315789473, 0.1921052631578948, 0.10000000000000019, 0.27631578947368435, 0.0, 0.20789473684210547, 0.3657894736842106, 0.45789473684210524, 0.25526315789473697, 0.11052631578947364, 0.13947368421052658, 0.3657894736842106, 0.5315789473684213, 0.22105263157894728, 0.273684210526316, 0.368421052631579, 0.1999999999999999, 0.3526315789473683, 0.2657894736842104, 0.481578947368421, 0.4868421052631582, 0.4684210526315792, 0.43947368421052624, 0.38947368421052636, 0.4131578947368421, 0.3210526315789475, 0.3947368421052631, 0.6473684210526317, 0.47631578947368425, 0.5, 0.613157894736842, 0.6552631578947368, 0.6815789473684208, 0.3210526315789475, 0.5605263157894738, 0.7500000000000002, 0.48421052631578937, 0.6026315789473685, 0.5394736842105264, 0.65, 0.46315789473684194, 0.5473684210526315, 0.5789473684210528, 0.40789473684210537, 0.5631578947368422, 0.7394736842105263, 0.3736842105263157, 0.8710526315789473, 0.6447368421052633, 0.35, 0.7, 0.4789473684210526, 0.5078947368421055, 0.7236842105263157, 0.7105263157894738, 0.6368421052631578, 0.4710526315789475, 0.6710526315789475, 0.623684210526316, 0.30789473684210517, 0.45789473684210524, 0.8236842105263158, 0.7052631578947371, 0.623684210526316, 0.5894736842105263, 0.5631578947368422, 0.8157894736842107]}],\n",
              "                        {\"template\": {\"data\": {\"bar\": [{\"error_x\": {\"color\": \"#2a3f5f\"}, \"error_y\": {\"color\": \"#2a3f5f\"}, \"marker\": {\"line\": {\"color\": \"#E5ECF6\", \"width\": 0.5}}, \"type\": \"bar\"}], \"barpolar\": [{\"marker\": {\"line\": {\"color\": \"#E5ECF6\", \"width\": 0.5}}, \"type\": \"barpolar\"}], \"carpet\": [{\"aaxis\": {\"endlinecolor\": \"#2a3f5f\", \"gridcolor\": \"white\", \"linecolor\": \"white\", \"minorgridcolor\": \"white\", \"startlinecolor\": \"#2a3f5f\"}, \"baxis\": {\"endlinecolor\": \"#2a3f5f\", \"gridcolor\": \"white\", \"linecolor\": \"white\", \"minorgridcolor\": \"white\", \"startlinecolor\": \"#2a3f5f\"}, \"type\": \"carpet\"}], \"choropleth\": [{\"colorbar\": {\"outlinewidth\": 0, \"ticks\": \"\"}, \"type\": \"choropleth\"}], \"contour\": [{\"colorbar\": {\"outlinewidth\": 0, \"ticks\": \"\"}, \"colorscale\": [[0.0, \"#0d0887\"], [0.1111111111111111, \"#46039f\"], [0.2222222222222222, \"#7201a8\"], [0.3333333333333333, \"#9c179e\"], [0.4444444444444444, \"#bd3786\"], [0.5555555555555556, \"#d8576b\"], [0.6666666666666666, \"#ed7953\"], [0.7777777777777778, \"#fb9f3a\"], [0.8888888888888888, \"#fdca26\"], [1.0, \"#f0f921\"]], \"type\": \"contour\"}], \"contourcarpet\": [{\"colorbar\": {\"outlinewidth\": 0, \"ticks\": \"\"}, \"type\": \"contourcarpet\"}], \"heatmap\": [{\"colorbar\": {\"outlinewidth\": 0, \"ticks\": \"\"}, \"colorscale\": [[0.0, \"#0d0887\"], [0.1111111111111111, \"#46039f\"], [0.2222222222222222, \"#7201a8\"], [0.3333333333333333, \"#9c179e\"], [0.4444444444444444, \"#bd3786\"], [0.5555555555555556, \"#d8576b\"], [0.6666666666666666, \"#ed7953\"], [0.7777777777777778, \"#fb9f3a\"], [0.8888888888888888, \"#fdca26\"], [1.0, \"#f0f921\"]], \"type\": \"heatmap\"}], \"heatmapgl\": [{\"colorbar\": {\"outlinewidth\": 0, \"ticks\": \"\"}, \"colorscale\": [[0.0, \"#0d0887\"], [0.1111111111111111, \"#46039f\"], [0.2222222222222222, \"#7201a8\"], [0.3333333333333333, \"#9c179e\"], [0.4444444444444444, \"#bd3786\"], [0.5555555555555556, \"#d8576b\"], [0.6666666666666666, \"#ed7953\"], [0.7777777777777778, \"#fb9f3a\"], [0.8888888888888888, \"#fdca26\"], [1.0, \"#f0f921\"]], \"type\": \"heatmapgl\"}], \"histogram\": [{\"marker\": {\"colorbar\": {\"outlinewidth\": 0, \"ticks\": \"\"}}, \"type\": \"histogram\"}], \"histogram2d\": [{\"colorbar\": {\"outlinewidth\": 0, \"ticks\": \"\"}, \"colorscale\": [[0.0, \"#0d0887\"], [0.1111111111111111, \"#46039f\"], [0.2222222222222222, \"#7201a8\"], [0.3333333333333333, \"#9c179e\"], [0.4444444444444444, \"#bd3786\"], [0.5555555555555556, \"#d8576b\"], [0.6666666666666666, \"#ed7953\"], [0.7777777777777778, \"#fb9f3a\"], [0.8888888888888888, \"#fdca26\"], [1.0, \"#f0f921\"]], \"type\": \"histogram2d\"}], \"histogram2dcontour\": [{\"colorbar\": {\"outlinewidth\": 0, \"ticks\": \"\"}, \"colorscale\": [[0.0, \"#0d0887\"], [0.1111111111111111, \"#46039f\"], [0.2222222222222222, \"#7201a8\"], [0.3333333333333333, \"#9c179e\"], [0.4444444444444444, \"#bd3786\"], [0.5555555555555556, \"#d8576b\"], [0.6666666666666666, \"#ed7953\"], [0.7777777777777778, \"#fb9f3a\"], [0.8888888888888888, \"#fdca26\"], [1.0, \"#f0f921\"]], \"type\": \"histogram2dcontour\"}], \"mesh3d\": [{\"colorbar\": {\"outlinewidth\": 0, \"ticks\": \"\"}, \"type\": \"mesh3d\"}], \"parcoords\": [{\"line\": {\"colorbar\": {\"outlinewidth\": 0, \"ticks\": \"\"}}, \"type\": \"parcoords\"}], \"scatter\": [{\"marker\": {\"colorbar\": {\"outlinewidth\": 0, \"ticks\": \"\"}}, \"type\": \"scatter\"}], \"scatter3d\": [{\"line\": {\"colorbar\": {\"outlinewidth\": 0, \"ticks\": \"\"}}, \"marker\": {\"colorbar\": {\"outlinewidth\": 0, \"ticks\": \"\"}}, \"type\": \"scatter3d\"}], \"scattercarpet\": [{\"marker\": {\"colorbar\": {\"outlinewidth\": 0, \"ticks\": \"\"}}, \"type\": \"scattercarpet\"}], \"scattergeo\": [{\"marker\": {\"colorbar\": {\"outlinewidth\": 0, \"ticks\": \"\"}}, \"type\": \"scattergeo\"}], \"scattergl\": [{\"marker\": {\"colorbar\": {\"outlinewidth\": 0, \"ticks\": \"\"}}, \"type\": \"scattergl\"}], \"scattermapbox\": [{\"marker\": {\"colorbar\": {\"outlinewidth\": 0, \"ticks\": \"\"}}, \"type\": \"scattermapbox\"}], \"scatterpolar\": [{\"marker\": {\"colorbar\": {\"outlinewidth\": 0, \"ticks\": \"\"}}, \"type\": \"scatterpolar\"}], \"scatterpolargl\": [{\"marker\": {\"colorbar\": {\"outlinewidth\": 0, \"ticks\": \"\"}}, \"type\": \"scatterpolargl\"}], \"scatterternary\": [{\"marker\": {\"colorbar\": {\"outlinewidth\": 0, \"ticks\": \"\"}}, \"type\": \"scatterternary\"}], \"surface\": [{\"colorbar\": {\"outlinewidth\": 0, \"ticks\": \"\"}, \"colorscale\": [[0.0, \"#0d0887\"], [0.1111111111111111, \"#46039f\"], [0.2222222222222222, \"#7201a8\"], [0.3333333333333333, \"#9c179e\"], [0.4444444444444444, \"#bd3786\"], [0.5555555555555556, \"#d8576b\"], [0.6666666666666666, \"#ed7953\"], [0.7777777777777778, \"#fb9f3a\"], [0.8888888888888888, \"#fdca26\"], [1.0, \"#f0f921\"]], \"type\": \"surface\"}], \"table\": [{\"cells\": {\"fill\": {\"color\": \"#EBF0F8\"}, \"line\": {\"color\": \"white\"}}, \"header\": {\"fill\": {\"color\": \"#C8D4E3\"}, \"line\": {\"color\": \"white\"}}, \"type\": \"table\"}]}, \"layout\": {\"annotationdefaults\": {\"arrowcolor\": \"#2a3f5f\", \"arrowhead\": 0, \"arrowwidth\": 1}, \"colorscale\": {\"diverging\": [[0, \"#8e0152\"], [0.1, \"#c51b7d\"], [0.2, \"#de77ae\"], [0.3, \"#f1b6da\"], [0.4, \"#fde0ef\"], [0.5, \"#f7f7f7\"], [0.6, \"#e6f5d0\"], [0.7, \"#b8e186\"], [0.8, \"#7fbc41\"], [0.9, \"#4d9221\"], [1, \"#276419\"]], \"sequential\": [[0.0, \"#0d0887\"], [0.1111111111111111, \"#46039f\"], [0.2222222222222222, \"#7201a8\"], [0.3333333333333333, \"#9c179e\"], [0.4444444444444444, \"#bd3786\"], [0.5555555555555556, \"#d8576b\"], [0.6666666666666666, \"#ed7953\"], [0.7777777777777778, \"#fb9f3a\"], [0.8888888888888888, \"#fdca26\"], [1.0, \"#f0f921\"]], \"sequentialminus\": [[0.0, \"#0d0887\"], [0.1111111111111111, \"#46039f\"], [0.2222222222222222, \"#7201a8\"], [0.3333333333333333, \"#9c179e\"], [0.4444444444444444, \"#bd3786\"], [0.5555555555555556, \"#d8576b\"], [0.6666666666666666, \"#ed7953\"], [0.7777777777777778, \"#fb9f3a\"], [0.8888888888888888, \"#fdca26\"], [1.0, \"#f0f921\"]]}, \"colorway\": [\"#636efa\", \"#EF553B\", \"#00cc96\", \"#ab63fa\", \"#FFA15A\", \"#19d3f3\", \"#FF6692\", \"#B6E880\", \"#FF97FF\", \"#FECB52\"], \"font\": {\"color\": \"#2a3f5f\"}, \"geo\": {\"bgcolor\": \"white\", \"lakecolor\": \"white\", \"landcolor\": \"#E5ECF6\", \"showlakes\": true, \"showland\": true, \"subunitcolor\": \"white\"}, \"hoverlabel\": {\"align\": \"left\"}, \"hovermode\": \"closest\", \"mapbox\": {\"style\": \"light\"}, \"paper_bgcolor\": \"white\", \"plot_bgcolor\": \"#E5ECF6\", \"polar\": {\"angularaxis\": {\"gridcolor\": \"white\", \"linecolor\": \"white\", \"ticks\": \"\"}, \"bgcolor\": \"#E5ECF6\", \"radialaxis\": {\"gridcolor\": \"white\", \"linecolor\": \"white\", \"ticks\": \"\"}}, \"scene\": {\"xaxis\": {\"backgroundcolor\": \"#E5ECF6\", \"gridcolor\": \"white\", \"gridwidth\": 2, \"linecolor\": \"white\", \"showbackground\": true, \"ticks\": \"\", \"zerolinecolor\": \"white\"}, \"yaxis\": {\"backgroundcolor\": \"#E5ECF6\", \"gridcolor\": \"white\", \"gridwidth\": 2, \"linecolor\": \"white\", \"showbackground\": true, \"ticks\": \"\", \"zerolinecolor\": \"white\"}, \"zaxis\": {\"backgroundcolor\": \"#E5ECF6\", \"gridcolor\": \"white\", \"gridwidth\": 2, \"linecolor\": \"white\", \"showbackground\": true, \"ticks\": \"\", \"zerolinecolor\": \"white\"}}, \"shapedefaults\": {\"line\": {\"color\": \"#2a3f5f\"}}, \"ternary\": {\"aaxis\": {\"gridcolor\": \"white\", \"linecolor\": \"white\", \"ticks\": \"\"}, \"baxis\": {\"gridcolor\": \"white\", \"linecolor\": \"white\", \"ticks\": \"\"}, \"bgcolor\": \"#E5ECF6\", \"caxis\": {\"gridcolor\": \"white\", \"linecolor\": \"white\", \"ticks\": \"\"}}, \"title\": {\"x\": 0.05}, \"xaxis\": {\"automargin\": true, \"gridcolor\": \"white\", \"linecolor\": \"white\", \"ticks\": \"\", \"zerolinecolor\": \"white\", \"zerolinewidth\": 2}, \"yaxis\": {\"automargin\": true, \"gridcolor\": \"white\", \"linecolor\": \"white\", \"ticks\": \"\", \"zerolinecolor\": \"white\", \"zerolinewidth\": 2}}}},\n",
              "                        {\"responsive\": true}\n",
              "                    ).then(function(){\n",
              "                            \n",
              "var gd = document.getElementById('b46e79e0-41d5-4713-968f-8594e5835e4f');\n",
              "var x = new MutationObserver(function (mutations, observer) {{\n",
              "        var display = window.getComputedStyle(gd).display;\n",
              "        if (!display || display === 'none') {{\n",
              "            console.log([gd, 'removed!']);\n",
              "            Plotly.purge(gd);\n",
              "            observer.disconnect();\n",
              "        }}\n",
              "}});\n",
              "\n",
              "// Listen for the removal of the full notebook cells\n",
              "var notebookContainer = gd.closest('#notebook-container');\n",
              "if (notebookContainer) {{\n",
              "    x.observe(notebookContainer, {childList: true});\n",
              "}}\n",
              "\n",
              "// Listen for the clearing of the current output cell\n",
              "var outputEl = gd.closest('.output');\n",
              "if (outputEl) {{\n",
              "    x.observe(outputEl, {childList: true});\n",
              "}}\n",
              "\n",
              "                        })\n",
              "                };\n",
              "                \n",
              "            </script>\n",
              "        </div>\n",
              "</body>\n",
              "</html>"
            ]
          },
          "metadata": {}
        }
      ]
    },
    {
      "cell_type": "code",
      "metadata": {
        "colab": {
          "base_uri": "https://localhost:8080/"
        },
        "id": "OXzAxZUgC0PV",
        "outputId": "60631891-3a30-40af-a94f-ffe8d60d640a"
      },
      "source": [
        "#Agrupando em 3 clusters\n",
        "agrupador_2 = KMeans(n_clusters = 3)\n",
        "agrupador_2.fit(df)"
      ],
      "execution_count": 66,
      "outputs": [
        {
          "output_type": "execute_result",
          "data": {
            "text/plain": [
              "KMeans(algorithm='auto', copy_x=True, init='k-means++', max_iter=300,\n",
              "       n_clusters=1, n_init=10, n_jobs=None, precompute_distances='auto',\n",
              "       random_state=None, tol=0.0001, verbose=0)"
            ]
          },
          "metadata": {},
          "execution_count": 66
        }
      ]
    },
    {
      "cell_type": "code",
      "metadata": {
        "colab": {
          "base_uri": "https://localhost:8080/",
          "height": 542
        },
        "id": "VY2lFnRREZLu",
        "outputId": "009a8cb5-cb10-4a3f-8bf8-b1374796f849"
      },
      "source": [
        "#Visualizando em 3 grupos\n",
        "fig = go.Figure()\n",
        "fig.add_trace(go.Scatter(x=df['intensidade_da_cor'], y=df['alcool'],\n",
        "                        mode = 'markers',\n",
        "                        marker = dict(color = agrupador.labels_.astype(np.float)),\n",
        "                        text= labels))"
      ],
      "execution_count": 76,
      "outputs": [
        {
          "output_type": "display_data",
          "data": {
            "text/html": [
              "<html>\n",
              "<head><meta charset=\"utf-8\" /></head>\n",
              "<body>\n",
              "    <div>\n",
              "            <script src=\"https://cdnjs.cloudflare.com/ajax/libs/mathjax/2.7.5/MathJax.js?config=TeX-AMS-MML_SVG\"></script><script type=\"text/javascript\">if (window.MathJax) {MathJax.Hub.Config({SVG: {font: \"STIX-Web\"}});}</script>\n",
              "                <script type=\"text/javascript\">window.PlotlyConfig = {MathJaxConfig: 'local'};</script>\n",
              "        <script src=\"https://cdn.plot.ly/plotly-latest.min.js\"></script>    \n",
              "            <div id=\"e031d771-86f6-41b5-a896-da4bc006866d\" class=\"plotly-graph-div\" style=\"height:525px; width:100%;\"></div>\n",
              "            <script type=\"text/javascript\">\n",
              "                \n",
              "                    window.PLOTLYENV=window.PLOTLYENV || {};\n",
              "                    \n",
              "                if (document.getElementById(\"e031d771-86f6-41b5-a896-da4bc006866d\")) {\n",
              "                    Plotly.newPlot(\n",
              "                        'e031d771-86f6-41b5-a896-da4bc006866d',\n",
              "                        [{\"marker\": {\"color\": [1.0, 1.0, 1.0, 1.0, 1.0, 1.0, 1.0, 1.0, 1.0, 1.0, 1.0, 1.0, 1.0, 1.0, 1.0, 1.0, 1.0, 1.0, 1.0, 1.0, 1.0, 1.0, 1.0, 1.0, 1.0, 1.0, 1.0, 1.0, 1.0, 1.0, 1.0, 1.0, 1.0, 1.0, 1.0, 1.0, 1.0, 1.0, 1.0, 1.0, 1.0, 1.0, 1.0, 1.0, 1.0, 1.0, 1.0, 1.0, 1.0, 1.0, 1.0, 1.0, 1.0, 1.0, 1.0, 1.0, 1.0, 1.0, 1.0, 1.0, 0.0, 0.0, 1.0, 1.0, 1.0, 1.0, 1.0, 1.0, 0.0, 1.0, 0.0, 1.0, 1.0, 1.0, 1.0, 1.0, 1.0, 0.0, 1.0, 1.0, 1.0, 1.0, 1.0, 0.0, 1.0, 1.0, 1.0, 1.0, 1.0, 1.0, 0.0, 0.0, 0.0, 1.0, 1.0, 1.0, 1.0, 1.0, 1.0, 1.0, 1.0, 1.0, 1.0, 1.0, 1.0, 0.0, 1.0, 0.0, 1.0, 1.0, 1.0, 1.0, 0.0, 1.0, 1.0, 1.0, 1.0, 1.0, 0.0, 1.0, 1.0, 1.0, 1.0, 1.0, 1.0, 1.0, 1.0, 0.0, 1.0, 0.0, 0.0, 0.0, 0.0, 0.0, 0.0, 0.0, 0.0, 0.0, 0.0, 0.0, 0.0, 0.0, 0.0, 0.0, 0.0, 0.0, 0.0, 0.0, 0.0, 0.0, 0.0, 0.0, 0.0, 0.0, 0.0, 0.0, 0.0, 0.0, 0.0, 0.0, 0.0, 0.0, 0.0, 0.0, 0.0, 0.0, 0.0, 0.0, 0.0, 0.0, 0.0, 0.0, 0.0, 0.0, 0.0, 0.0, 0.0, 0.0]}, \"mode\": \"markers\", \"text\": [2.0, 2.0, 2.0, 2.0, 2.0, 2.0, 2.0, 2.0, 2.0, 2.0, 2.0, 2.0, 2.0, 2.0, 2.0, 2.0, 2.0, 2.0, 2.0, 2.0, 2.0, 2.0, 2.0, 2.0, 2.0, 2.0, 2.0, 2.0, 2.0, 2.0, 2.0, 2.0, 2.0, 2.0, 2.0, 2.0, 2.0, 2.0, 2.0, 2.0, 2.0, 2.0, 2.0, 2.0, 2.0, 2.0, 2.0, 2.0, 2.0, 2.0, 2.0, 2.0, 2.0, 2.0, 2.0, 2.0, 2.0, 2.0, 2.0, 3.0, 3.0, 3.0, 3.0, 0.0, 3.0, 0.0, 0.0, 0.0, 3.0, 0.0, 3.0, 0.0, 0.0, 0.0, 0.0, 3.0, 0.0, 3.0, 0.0, 0.0, 0.0, 0.0, 3.0, 3.0, 0.0, 0.0, 3.0, 3.0, 3.0, 3.0, 3.0, 3.0, 3.0, 0.0, 0.0, 0.0, 0.0, 0.0, 0.0, 0.0, 0.0, 3.0, 0.0, 3.0, 0.0, 3.0, 3.0, 3.0, 0.0, 0.0, 0.0, 0.0, 3.0, 3.0, 3.0, 3.0, 0.0, 0.0, 3.0, 0.0, 0.0, 0.0, 0.0, 0.0, 0.0, 0.0, 0.0, 3.0, 0.0, 3.0, 1.0, 1.0, 1.0, 1.0, 1.0, 1.0, 1.0, 1.0, 1.0, 1.0, 1.0, 1.0, 1.0, 1.0, 1.0, 1.0, 1.0, 1.0, 1.0, 1.0, 1.0, 1.0, 1.0, 1.0, 1.0, 1.0, 1.0, 1.0, 1.0, 1.0, 1.0, 1.0, 1.0, 1.0, 1.0, 1.0, 1.0, 1.0, 1.0, 1.0, 1.0, 1.0, 1.0, 1.0, 1.0, 1.0, 1.0, 1.0], \"type\": \"scatter\", \"x\": [0.37201365187713303, 0.26450511945392485, 0.3754266211604095, 0.5563139931740614, 0.2593856655290102, 0.46672354948805456, 0.3387372013651877, 0.3216723549488054, 0.33447098976109213, 0.5068259385665528, 0.3813993174061433, 0.31740614334470985, 0.3686006825938566, 0.3515358361774744, 0.530716723549488, 0.5136518771331058, 0.4197952218430034, 0.45392491467576784, 0.6331058020477814, 0.32593856655290093, 0.3728668941979522, 0.27474402730375425, 0.21501706484641633, 0.22610921501706485, 0.19112627986348124, 0.19624573378839588, 0.3003412969283276, 0.22781569965870305, 0.27474402730375425, 0.2918088737201365, 0.37713310580204773, 0.47952218430034127, 0.21843003412969278, 0.3515358361774744, 0.24914675767918087, 0.32593856655290093, 0.28327645051194533, 0.2534129692832764, 0.20648464163822525, 0.32593856655290093, 0.41382252559726956, 0.25597269624573377, 0.3540955631399317, 0.26279863481228666, 0.3208191126279863, 0.3378839590443686, 0.30887372013651876, 0.4112627986348122, 0.4197952218430034, 0.6501706484641638, 0.5051194539249146, 0.3686006825938566, 0.4923208191126279, 0.42832764505119447, 0.3899317406143344, 0.42406143344709896, 0.43515358361774736, 0.4027303754266211, 0.4709897610921501, 0.057167235494880536, 0.1697952218430034, 0.3813993174061433, 0.21501706484641633, 0.2704778156996587, 0.14249146757679182, 0.28327645051194533, 0.3430034129692832, 0.2901023890784982, 0.16126279863481227, 0.13395904436860068, 0.1510238907849829, 0.17918088737201363, 0.2098976109215017, 0.17662116040955633, 0.16467576791808872, 0.21501706484641633, 0.28327645051194533, 0.11689419795221842, 0.18088737201365188, 0.1100682593856655, 0.10409556313993173, 0.2235494880546075, 0.07849829351535836, 0.3003412969283276, 0.1510238907849829, 0.11433447098976109, 0.09982935153583619, 0.11262798634812286, 0.1296928327645051, 0.039249146757679175, 0.09556313993174059, 0.19795221843003413, 0.1510238907849829, 0.07423208191126278, 0.16808873720136516, 0.11262798634812286, 0.10409556313993173, 0.13822525597269622, 0.27474402730375425, 0.08703071672354946, 0.1723549488054607, 0.09982935153583619, 0.1296928327645051, 0.06655290102389079, 0.1416382252559727, 0.121160409556314, 0.18088737201365188, 0.1723549488054607, 0.121160409556314, 0.11689419795221842, 0.13822525597269622, 0.0614334470989761, 0.21501706484641633, 0.15358361774744028, 0.13822525597269622, 0.05290102389078497, 0.057167235494880536, 0.06655290102389079, 0.18088737201365188, 0.0, 0.16808873720136516, 0.4027303754266211, 0.06825938566552901, 0.11262798634812286, 0.1296928327645051, 0.12627986348122863, 0.22696245733788395, 0.14675767918088736, 0.07167235494880546, 0.11262798634812286, 0.2406143344709897, 0.3515358361774744, 0.37713310580204773, 0.31740614334470985, 0.35580204778156993, 0.49658703071672344, 0.21928327645051196, 0.31740614334470985, 0.37713310580204773, 0.31058020477815695, 0.28327645051194533, 0.3686006825938566, 0.26194539249146753, 0.26621160409556316, 0.591296928327645, 0.2320819112627986, 0.30887372013651876, 0.5435153583617747, 0.6092150170648464, 0.6928327645051195, 0.6245733788395904, 0.8122866894197953, 0.49658703071672344, 0.78839590443686, 0.5392491467576791, 0.5648464163822525, 0.6595563139931739, 0.530716723549488, 1.0, 0.893344709897611, 0.5435153583617747, 0.39249146757679176, 0.3668941979522184, 0.341296928327645, 0.7081911262798635, 0.4556313993174061, 0.8020477815699658, 0.7662116040955631, 0.629692832764505, 0.6160409556313993, 0.3600682593856655, 0.7354947952218431, 0.7184300341296928, 0.5477815699658702, 0.5136518771331058, 0.7610921501706485, 0.6843003412969284, 0.675767918088737], \"y\": [0.8421052631578949, 0.5710526315789473, 0.5605263157894738, 0.8789473684210525, 0.5815789473684212, 0.8342105263157893, 0.8842105263157897, 0.7973684210526317, 1.0, 0.744736842105263, 0.8078947368421052, 0.813157894736842, 0.7157894736842105, 0.9789473684210526, 0.8815789473684212, 0.6842105263157897, 0.8605263157894739, 0.736842105263158, 0.831578947368421, 0.686842105263158, 0.7973684210526317, 0.5, 0.7052631578947371, 0.4789473684210526, 0.65, 0.5315789473684213, 0.6210526315789475, 0.5973684210526318, 0.7473684210526313, 0.7868421052631578, 0.7105263157894738, 0.6710526315789475, 0.6973684210526315, 0.718421052631579, 0.6526315789473685, 0.6447368421052633, 0.5921052631578946, 0.5315789473684213, 0.536842105263158, 0.8394736842105265, 0.6657894736842107, 0.6263157894736843, 0.7500000000000002, 0.5815789473684212, 0.5315789473684213, 0.8368421052631582, 0.8815789473684212, 0.755263157894737, 0.8078947368421052, 0.7657894736842105, 0.5315789473684213, 0.736842105263158, 0.7342105263157895, 0.7210526315789473, 0.7131578947368422, 0.6657894736842107, 0.8394736842105265, 0.594736842105263, 0.7078947368421055, 0.3526315789473683, 0.34210526315789486, 0.42368421052631605, 0.6947368421052632, 0.3526315789473683, 0.3000000000000001, 0.3526315789473683, 0.5473684210526315, 0.3526315789473683, 0.6078947368421053, 0.31052631578947404, 0.3315789473684209, 0.744736842105263, 0.6473684210526317, 0.5157894736842107, 0.2447368421052635, 0.1657894736842107, 0.5263157894736841, 0.21315789473684219, 0.34210526315789486, 0.43947368421052624, 0.25526315789473697, 0.44473684210526343, 0.27631578947368435, 0.5315789473684213, 0.21315789473684219, 0.4315789473684211, 0.2973684210526317, 0.16315789473684233, 0.16052631578947396, 0.27631578947368435, 0.27631578947368435, 0.25526315789473697, 0.43684210526315786, 0.3315789473684209, 0.15526315789473677, 0.3789473684210529, 0.2052631578947371, 0.3315789473684209, 0.3526315789473683, 0.3315789473684209, 0.27631578947368435, 0.4131578947368421, 0.34473684210526323, 0.20789473684210547, 0.38947368421052636, 0.3657894736842106, 0.3210526315789475, 0.44473684210526343, 0.31315789473684236, 0.15263157894736842, 0.11315789473684247, 0.39210526315789473, 0.1921052631578948, 0.10000000000000019, 0.27631578947368435, 0.0, 0.20789473684210547, 0.3657894736842106, 0.45789473684210524, 0.25526315789473697, 0.11052631578947364, 0.13947368421052658, 0.3657894736842106, 0.5315789473684213, 0.22105263157894728, 0.273684210526316, 0.368421052631579, 0.1999999999999999, 0.3526315789473683, 0.2657894736842104, 0.481578947368421, 0.4868421052631582, 0.4684210526315792, 0.43947368421052624, 0.38947368421052636, 0.4131578947368421, 0.3210526315789475, 0.3947368421052631, 0.6473684210526317, 0.47631578947368425, 0.5, 0.613157894736842, 0.6552631578947368, 0.6815789473684208, 0.3210526315789475, 0.5605263157894738, 0.7500000000000002, 0.48421052631578937, 0.6026315789473685, 0.5394736842105264, 0.65, 0.46315789473684194, 0.5473684210526315, 0.5789473684210528, 0.40789473684210537, 0.5631578947368422, 0.7394736842105263, 0.3736842105263157, 0.8710526315789473, 0.6447368421052633, 0.35, 0.7, 0.4789473684210526, 0.5078947368421055, 0.7236842105263157, 0.7105263157894738, 0.6368421052631578, 0.4710526315789475, 0.6710526315789475, 0.623684210526316, 0.30789473684210517, 0.45789473684210524, 0.8236842105263158, 0.7052631578947371, 0.623684210526316, 0.5894736842105263, 0.5631578947368422, 0.8157894736842107]}],\n",
              "                        {\"template\": {\"data\": {\"bar\": [{\"error_x\": {\"color\": \"#2a3f5f\"}, \"error_y\": {\"color\": \"#2a3f5f\"}, \"marker\": {\"line\": {\"color\": \"#E5ECF6\", \"width\": 0.5}}, \"type\": \"bar\"}], \"barpolar\": [{\"marker\": {\"line\": {\"color\": \"#E5ECF6\", \"width\": 0.5}}, \"type\": \"barpolar\"}], \"carpet\": [{\"aaxis\": {\"endlinecolor\": \"#2a3f5f\", \"gridcolor\": \"white\", \"linecolor\": \"white\", \"minorgridcolor\": \"white\", \"startlinecolor\": \"#2a3f5f\"}, \"baxis\": {\"endlinecolor\": \"#2a3f5f\", \"gridcolor\": \"white\", \"linecolor\": \"white\", \"minorgridcolor\": \"white\", \"startlinecolor\": \"#2a3f5f\"}, \"type\": \"carpet\"}], \"choropleth\": [{\"colorbar\": {\"outlinewidth\": 0, \"ticks\": \"\"}, \"type\": \"choropleth\"}], \"contour\": [{\"colorbar\": {\"outlinewidth\": 0, \"ticks\": \"\"}, \"colorscale\": [[0.0, \"#0d0887\"], [0.1111111111111111, \"#46039f\"], [0.2222222222222222, \"#7201a8\"], [0.3333333333333333, \"#9c179e\"], [0.4444444444444444, \"#bd3786\"], [0.5555555555555556, \"#d8576b\"], [0.6666666666666666, \"#ed7953\"], [0.7777777777777778, \"#fb9f3a\"], [0.8888888888888888, \"#fdca26\"], [1.0, \"#f0f921\"]], \"type\": \"contour\"}], \"contourcarpet\": [{\"colorbar\": {\"outlinewidth\": 0, \"ticks\": \"\"}, \"type\": \"contourcarpet\"}], \"heatmap\": [{\"colorbar\": {\"outlinewidth\": 0, \"ticks\": \"\"}, \"colorscale\": [[0.0, \"#0d0887\"], [0.1111111111111111, \"#46039f\"], [0.2222222222222222, \"#7201a8\"], [0.3333333333333333, \"#9c179e\"], [0.4444444444444444, \"#bd3786\"], [0.5555555555555556, \"#d8576b\"], [0.6666666666666666, \"#ed7953\"], [0.7777777777777778, \"#fb9f3a\"], [0.8888888888888888, \"#fdca26\"], [1.0, \"#f0f921\"]], \"type\": \"heatmap\"}], \"heatmapgl\": [{\"colorbar\": {\"outlinewidth\": 0, \"ticks\": \"\"}, \"colorscale\": [[0.0, \"#0d0887\"], [0.1111111111111111, \"#46039f\"], [0.2222222222222222, \"#7201a8\"], [0.3333333333333333, \"#9c179e\"], [0.4444444444444444, \"#bd3786\"], [0.5555555555555556, \"#d8576b\"], [0.6666666666666666, \"#ed7953\"], [0.7777777777777778, \"#fb9f3a\"], [0.8888888888888888, \"#fdca26\"], [1.0, \"#f0f921\"]], \"type\": \"heatmapgl\"}], \"histogram\": [{\"marker\": {\"colorbar\": {\"outlinewidth\": 0, \"ticks\": \"\"}}, \"type\": \"histogram\"}], \"histogram2d\": [{\"colorbar\": {\"outlinewidth\": 0, \"ticks\": \"\"}, \"colorscale\": [[0.0, \"#0d0887\"], [0.1111111111111111, \"#46039f\"], [0.2222222222222222, \"#7201a8\"], [0.3333333333333333, \"#9c179e\"], [0.4444444444444444, \"#bd3786\"], [0.5555555555555556, \"#d8576b\"], [0.6666666666666666, \"#ed7953\"], [0.7777777777777778, \"#fb9f3a\"], [0.8888888888888888, \"#fdca26\"], [1.0, \"#f0f921\"]], \"type\": \"histogram2d\"}], \"histogram2dcontour\": [{\"colorbar\": {\"outlinewidth\": 0, \"ticks\": \"\"}, \"colorscale\": [[0.0, \"#0d0887\"], [0.1111111111111111, \"#46039f\"], [0.2222222222222222, \"#7201a8\"], [0.3333333333333333, \"#9c179e\"], [0.4444444444444444, \"#bd3786\"], [0.5555555555555556, \"#d8576b\"], [0.6666666666666666, \"#ed7953\"], [0.7777777777777778, \"#fb9f3a\"], [0.8888888888888888, \"#fdca26\"], [1.0, \"#f0f921\"]], \"type\": \"histogram2dcontour\"}], \"mesh3d\": [{\"colorbar\": {\"outlinewidth\": 0, \"ticks\": \"\"}, \"type\": \"mesh3d\"}], \"parcoords\": [{\"line\": {\"colorbar\": {\"outlinewidth\": 0, \"ticks\": \"\"}}, \"type\": \"parcoords\"}], \"scatter\": [{\"marker\": {\"colorbar\": {\"outlinewidth\": 0, \"ticks\": \"\"}}, \"type\": \"scatter\"}], \"scatter3d\": [{\"line\": {\"colorbar\": {\"outlinewidth\": 0, \"ticks\": \"\"}}, \"marker\": {\"colorbar\": {\"outlinewidth\": 0, \"ticks\": \"\"}}, \"type\": \"scatter3d\"}], \"scattercarpet\": [{\"marker\": {\"colorbar\": {\"outlinewidth\": 0, \"ticks\": \"\"}}, \"type\": \"scattercarpet\"}], \"scattergeo\": [{\"marker\": {\"colorbar\": {\"outlinewidth\": 0, \"ticks\": \"\"}}, \"type\": \"scattergeo\"}], \"scattergl\": [{\"marker\": {\"colorbar\": {\"outlinewidth\": 0, \"ticks\": \"\"}}, \"type\": \"scattergl\"}], \"scattermapbox\": [{\"marker\": {\"colorbar\": {\"outlinewidth\": 0, \"ticks\": \"\"}}, \"type\": \"scattermapbox\"}], \"scatterpolar\": [{\"marker\": {\"colorbar\": {\"outlinewidth\": 0, \"ticks\": \"\"}}, \"type\": \"scatterpolar\"}], \"scatterpolargl\": [{\"marker\": {\"colorbar\": {\"outlinewidth\": 0, \"ticks\": \"\"}}, \"type\": \"scatterpolargl\"}], \"scatterternary\": [{\"marker\": {\"colorbar\": {\"outlinewidth\": 0, \"ticks\": \"\"}}, \"type\": \"scatterternary\"}], \"surface\": [{\"colorbar\": {\"outlinewidth\": 0, \"ticks\": \"\"}, \"colorscale\": [[0.0, \"#0d0887\"], [0.1111111111111111, \"#46039f\"], [0.2222222222222222, \"#7201a8\"], [0.3333333333333333, \"#9c179e\"], [0.4444444444444444, \"#bd3786\"], [0.5555555555555556, \"#d8576b\"], [0.6666666666666666, \"#ed7953\"], [0.7777777777777778, \"#fb9f3a\"], [0.8888888888888888, \"#fdca26\"], [1.0, \"#f0f921\"]], \"type\": \"surface\"}], \"table\": [{\"cells\": {\"fill\": {\"color\": \"#EBF0F8\"}, \"line\": {\"color\": \"white\"}}, \"header\": {\"fill\": {\"color\": \"#C8D4E3\"}, \"line\": {\"color\": \"white\"}}, \"type\": \"table\"}]}, \"layout\": {\"annotationdefaults\": {\"arrowcolor\": \"#2a3f5f\", \"arrowhead\": 0, \"arrowwidth\": 1}, \"colorscale\": {\"diverging\": [[0, \"#8e0152\"], [0.1, \"#c51b7d\"], [0.2, \"#de77ae\"], [0.3, \"#f1b6da\"], [0.4, \"#fde0ef\"], [0.5, \"#f7f7f7\"], [0.6, \"#e6f5d0\"], [0.7, \"#b8e186\"], [0.8, \"#7fbc41\"], [0.9, \"#4d9221\"], [1, \"#276419\"]], \"sequential\": [[0.0, \"#0d0887\"], [0.1111111111111111, \"#46039f\"], [0.2222222222222222, \"#7201a8\"], [0.3333333333333333, \"#9c179e\"], [0.4444444444444444, \"#bd3786\"], [0.5555555555555556, \"#d8576b\"], [0.6666666666666666, \"#ed7953\"], [0.7777777777777778, \"#fb9f3a\"], [0.8888888888888888, \"#fdca26\"], [1.0, \"#f0f921\"]], \"sequentialminus\": [[0.0, \"#0d0887\"], [0.1111111111111111, \"#46039f\"], [0.2222222222222222, \"#7201a8\"], [0.3333333333333333, \"#9c179e\"], [0.4444444444444444, \"#bd3786\"], [0.5555555555555556, \"#d8576b\"], [0.6666666666666666, \"#ed7953\"], [0.7777777777777778, \"#fb9f3a\"], [0.8888888888888888, \"#fdca26\"], [1.0, \"#f0f921\"]]}, \"colorway\": [\"#636efa\", \"#EF553B\", \"#00cc96\", \"#ab63fa\", \"#FFA15A\", \"#19d3f3\", \"#FF6692\", \"#B6E880\", \"#FF97FF\", \"#FECB52\"], \"font\": {\"color\": \"#2a3f5f\"}, \"geo\": {\"bgcolor\": \"white\", \"lakecolor\": \"white\", \"landcolor\": \"#E5ECF6\", \"showlakes\": true, \"showland\": true, \"subunitcolor\": \"white\"}, \"hoverlabel\": {\"align\": \"left\"}, \"hovermode\": \"closest\", \"mapbox\": {\"style\": \"light\"}, \"paper_bgcolor\": \"white\", \"plot_bgcolor\": \"#E5ECF6\", \"polar\": {\"angularaxis\": {\"gridcolor\": \"white\", \"linecolor\": \"white\", \"ticks\": \"\"}, \"bgcolor\": \"#E5ECF6\", \"radialaxis\": {\"gridcolor\": \"white\", \"linecolor\": \"white\", \"ticks\": \"\"}}, \"scene\": {\"xaxis\": {\"backgroundcolor\": \"#E5ECF6\", \"gridcolor\": \"white\", \"gridwidth\": 2, \"linecolor\": \"white\", \"showbackground\": true, \"ticks\": \"\", \"zerolinecolor\": \"white\"}, \"yaxis\": {\"backgroundcolor\": \"#E5ECF6\", \"gridcolor\": \"white\", \"gridwidth\": 2, \"linecolor\": \"white\", \"showbackground\": true, \"ticks\": \"\", \"zerolinecolor\": \"white\"}, \"zaxis\": {\"backgroundcolor\": \"#E5ECF6\", \"gridcolor\": \"white\", \"gridwidth\": 2, \"linecolor\": \"white\", \"showbackground\": true, \"ticks\": \"\", \"zerolinecolor\": \"white\"}}, \"shapedefaults\": {\"line\": {\"color\": \"#2a3f5f\"}}, \"ternary\": {\"aaxis\": {\"gridcolor\": \"white\", \"linecolor\": \"white\", \"ticks\": \"\"}, \"baxis\": {\"gridcolor\": \"white\", \"linecolor\": \"white\", \"ticks\": \"\"}, \"bgcolor\": \"#E5ECF6\", \"caxis\": {\"gridcolor\": \"white\", \"linecolor\": \"white\", \"ticks\": \"\"}}, \"title\": {\"x\": 0.05}, \"xaxis\": {\"automargin\": true, \"gridcolor\": \"white\", \"linecolor\": \"white\", \"ticks\": \"\", \"zerolinecolor\": \"white\", \"zerolinewidth\": 2}, \"yaxis\": {\"automargin\": true, \"gridcolor\": \"white\", \"linecolor\": \"white\", \"ticks\": \"\", \"zerolinecolor\": \"white\", \"zerolinewidth\": 2}}}},\n",
              "                        {\"responsive\": true}\n",
              "                    ).then(function(){\n",
              "                            \n",
              "var gd = document.getElementById('e031d771-86f6-41b5-a896-da4bc006866d');\n",
              "var x = new MutationObserver(function (mutations, observer) {{\n",
              "        var display = window.getComputedStyle(gd).display;\n",
              "        if (!display || display === 'none') {{\n",
              "            console.log([gd, 'removed!']);\n",
              "            Plotly.purge(gd);\n",
              "            observer.disconnect();\n",
              "        }}\n",
              "}});\n",
              "\n",
              "// Listen for the removal of the full notebook cells\n",
              "var notebookContainer = gd.closest('#notebook-container');\n",
              "if (notebookContainer) {{\n",
              "    x.observe(notebookContainer, {childList: true});\n",
              "}}\n",
              "\n",
              "// Listen for the clearing of the current output cell\n",
              "var outputEl = gd.closest('.output');\n",
              "if (outputEl) {{\n",
              "    x.observe(outputEl, {childList: true});\n",
              "}}\n",
              "\n",
              "                        })\n",
              "                };\n",
              "                \n",
              "            </script>\n",
              "        </div>\n",
              "</body>\n",
              "</html>"
            ]
          },
          "metadata": {}
        }
      ]
    },
    {
      "cell_type": "code",
      "metadata": {
        "colab": {
          "base_uri": "https://localhost:8080/",
          "height": 542
        },
        "id": "1ywoqXjxFRr4",
        "outputId": "ca001233-1ab7-4b90-aad0-11643bb558ee"
      },
      "source": [
        "#Visualização em três dimensões\n",
        "fig = go.Figure()\n",
        "fig.add_trace(go.Scatter3d(x=df['intensidade_da_cor'],\n",
        "                          y=df['alcool'],\n",
        "                          z=df['proline'],\n",
        "                          mode = 'markers',\n",
        "                          marker = dict(color = agrupador.labels_.astype(np.float)),\n",
        "                          text = labels))\n",
        "fig.show()"
      ],
      "execution_count": 77,
      "outputs": [
        {
          "output_type": "display_data",
          "data": {
            "text/html": [
              "<html>\n",
              "<head><meta charset=\"utf-8\" /></head>\n",
              "<body>\n",
              "    <div>\n",
              "            <script src=\"https://cdnjs.cloudflare.com/ajax/libs/mathjax/2.7.5/MathJax.js?config=TeX-AMS-MML_SVG\"></script><script type=\"text/javascript\">if (window.MathJax) {MathJax.Hub.Config({SVG: {font: \"STIX-Web\"}});}</script>\n",
              "                <script type=\"text/javascript\">window.PlotlyConfig = {MathJaxConfig: 'local'};</script>\n",
              "        <script src=\"https://cdn.plot.ly/plotly-latest.min.js\"></script>    \n",
              "            <div id=\"12191ed8-1112-4737-a2c0-9d3ccb55b809\" class=\"plotly-graph-div\" style=\"height:525px; width:100%;\"></div>\n",
              "            <script type=\"text/javascript\">\n",
              "                \n",
              "                    window.PLOTLYENV=window.PLOTLYENV || {};\n",
              "                    \n",
              "                if (document.getElementById(\"12191ed8-1112-4737-a2c0-9d3ccb55b809\")) {\n",
              "                    Plotly.newPlot(\n",
              "                        '12191ed8-1112-4737-a2c0-9d3ccb55b809',\n",
              "                        [{\"marker\": {\"color\": [1.0, 1.0, 1.0, 1.0, 1.0, 1.0, 1.0, 1.0, 1.0, 1.0, 1.0, 1.0, 1.0, 1.0, 1.0, 1.0, 1.0, 1.0, 1.0, 1.0, 1.0, 1.0, 1.0, 1.0, 1.0, 1.0, 1.0, 1.0, 1.0, 1.0, 1.0, 1.0, 1.0, 1.0, 1.0, 1.0, 1.0, 1.0, 1.0, 1.0, 1.0, 1.0, 1.0, 1.0, 1.0, 1.0, 1.0, 1.0, 1.0, 1.0, 1.0, 1.0, 1.0, 1.0, 1.0, 1.0, 1.0, 1.0, 1.0, 1.0, 0.0, 0.0, 1.0, 1.0, 1.0, 1.0, 1.0, 1.0, 0.0, 1.0, 0.0, 1.0, 1.0, 1.0, 1.0, 1.0, 1.0, 0.0, 1.0, 1.0, 1.0, 1.0, 1.0, 0.0, 1.0, 1.0, 1.0, 1.0, 1.0, 1.0, 0.0, 0.0, 0.0, 1.0, 1.0, 1.0, 1.0, 1.0, 1.0, 1.0, 1.0, 1.0, 1.0, 1.0, 1.0, 0.0, 1.0, 0.0, 1.0, 1.0, 1.0, 1.0, 0.0, 1.0, 1.0, 1.0, 1.0, 1.0, 0.0, 1.0, 1.0, 1.0, 1.0, 1.0, 1.0, 1.0, 1.0, 0.0, 1.0, 0.0, 0.0, 0.0, 0.0, 0.0, 0.0, 0.0, 0.0, 0.0, 0.0, 0.0, 0.0, 0.0, 0.0, 0.0, 0.0, 0.0, 0.0, 0.0, 0.0, 0.0, 0.0, 0.0, 0.0, 0.0, 0.0, 0.0, 0.0, 0.0, 0.0, 0.0, 0.0, 0.0, 0.0, 0.0, 0.0, 0.0, 0.0, 0.0, 0.0, 0.0, 0.0, 0.0, 0.0, 0.0, 0.0, 0.0, 0.0, 0.0]}, \"mode\": \"markers\", \"text\": [2.0, 2.0, 2.0, 2.0, 2.0, 2.0, 2.0, 2.0, 2.0, 2.0, 2.0, 2.0, 2.0, 2.0, 2.0, 2.0, 2.0, 2.0, 2.0, 2.0, 2.0, 2.0, 2.0, 2.0, 2.0, 2.0, 2.0, 2.0, 2.0, 2.0, 2.0, 2.0, 2.0, 2.0, 2.0, 2.0, 2.0, 2.0, 2.0, 2.0, 2.0, 2.0, 2.0, 2.0, 2.0, 2.0, 2.0, 2.0, 2.0, 2.0, 2.0, 2.0, 2.0, 2.0, 2.0, 2.0, 2.0, 2.0, 2.0, 3.0, 3.0, 3.0, 3.0, 0.0, 3.0, 0.0, 0.0, 0.0, 3.0, 0.0, 3.0, 0.0, 0.0, 0.0, 0.0, 3.0, 0.0, 3.0, 0.0, 0.0, 0.0, 0.0, 3.0, 3.0, 0.0, 0.0, 3.0, 3.0, 3.0, 3.0, 3.0, 3.0, 3.0, 0.0, 0.0, 0.0, 0.0, 0.0, 0.0, 0.0, 0.0, 3.0, 0.0, 3.0, 0.0, 3.0, 3.0, 3.0, 0.0, 0.0, 0.0, 0.0, 3.0, 3.0, 3.0, 3.0, 0.0, 0.0, 3.0, 0.0, 0.0, 0.0, 0.0, 0.0, 0.0, 0.0, 0.0, 3.0, 0.0, 3.0, 1.0, 1.0, 1.0, 1.0, 1.0, 1.0, 1.0, 1.0, 1.0, 1.0, 1.0, 1.0, 1.0, 1.0, 1.0, 1.0, 1.0, 1.0, 1.0, 1.0, 1.0, 1.0, 1.0, 1.0, 1.0, 1.0, 1.0, 1.0, 1.0, 1.0, 1.0, 1.0, 1.0, 1.0, 1.0, 1.0, 1.0, 1.0, 1.0, 1.0, 1.0, 1.0, 1.0, 1.0, 1.0, 1.0, 1.0, 1.0], \"type\": \"scatter3d\", \"x\": [0.37201365187713303, 0.26450511945392485, 0.3754266211604095, 0.5563139931740614, 0.2593856655290102, 0.46672354948805456, 0.3387372013651877, 0.3216723549488054, 0.33447098976109213, 0.5068259385665528, 0.3813993174061433, 0.31740614334470985, 0.3686006825938566, 0.3515358361774744, 0.530716723549488, 0.5136518771331058, 0.4197952218430034, 0.45392491467576784, 0.6331058020477814, 0.32593856655290093, 0.3728668941979522, 0.27474402730375425, 0.21501706484641633, 0.22610921501706485, 0.19112627986348124, 0.19624573378839588, 0.3003412969283276, 0.22781569965870305, 0.27474402730375425, 0.2918088737201365, 0.37713310580204773, 0.47952218430034127, 0.21843003412969278, 0.3515358361774744, 0.24914675767918087, 0.32593856655290093, 0.28327645051194533, 0.2534129692832764, 0.20648464163822525, 0.32593856655290093, 0.41382252559726956, 0.25597269624573377, 0.3540955631399317, 0.26279863481228666, 0.3208191126279863, 0.3378839590443686, 0.30887372013651876, 0.4112627986348122, 0.4197952218430034, 0.6501706484641638, 0.5051194539249146, 0.3686006825938566, 0.4923208191126279, 0.42832764505119447, 0.3899317406143344, 0.42406143344709896, 0.43515358361774736, 0.4027303754266211, 0.4709897610921501, 0.057167235494880536, 0.1697952218430034, 0.3813993174061433, 0.21501706484641633, 0.2704778156996587, 0.14249146757679182, 0.28327645051194533, 0.3430034129692832, 0.2901023890784982, 0.16126279863481227, 0.13395904436860068, 0.1510238907849829, 0.17918088737201363, 0.2098976109215017, 0.17662116040955633, 0.16467576791808872, 0.21501706484641633, 0.28327645051194533, 0.11689419795221842, 0.18088737201365188, 0.1100682593856655, 0.10409556313993173, 0.2235494880546075, 0.07849829351535836, 0.3003412969283276, 0.1510238907849829, 0.11433447098976109, 0.09982935153583619, 0.11262798634812286, 0.1296928327645051, 0.039249146757679175, 0.09556313993174059, 0.19795221843003413, 0.1510238907849829, 0.07423208191126278, 0.16808873720136516, 0.11262798634812286, 0.10409556313993173, 0.13822525597269622, 0.27474402730375425, 0.08703071672354946, 0.1723549488054607, 0.09982935153583619, 0.1296928327645051, 0.06655290102389079, 0.1416382252559727, 0.121160409556314, 0.18088737201365188, 0.1723549488054607, 0.121160409556314, 0.11689419795221842, 0.13822525597269622, 0.0614334470989761, 0.21501706484641633, 0.15358361774744028, 0.13822525597269622, 0.05290102389078497, 0.057167235494880536, 0.06655290102389079, 0.18088737201365188, 0.0, 0.16808873720136516, 0.4027303754266211, 0.06825938566552901, 0.11262798634812286, 0.1296928327645051, 0.12627986348122863, 0.22696245733788395, 0.14675767918088736, 0.07167235494880546, 0.11262798634812286, 0.2406143344709897, 0.3515358361774744, 0.37713310580204773, 0.31740614334470985, 0.35580204778156993, 0.49658703071672344, 0.21928327645051196, 0.31740614334470985, 0.37713310580204773, 0.31058020477815695, 0.28327645051194533, 0.3686006825938566, 0.26194539249146753, 0.26621160409556316, 0.591296928327645, 0.2320819112627986, 0.30887372013651876, 0.5435153583617747, 0.6092150170648464, 0.6928327645051195, 0.6245733788395904, 0.8122866894197953, 0.49658703071672344, 0.78839590443686, 0.5392491467576791, 0.5648464163822525, 0.6595563139931739, 0.530716723549488, 1.0, 0.893344709897611, 0.5435153583617747, 0.39249146757679176, 0.3668941979522184, 0.341296928327645, 0.7081911262798635, 0.4556313993174061, 0.8020477815699658, 0.7662116040955631, 0.629692832764505, 0.6160409556313993, 0.3600682593856655, 0.7354947952218431, 0.7184300341296928, 0.5477815699658702, 0.5136518771331058, 0.7610921501706485, 0.6843003412969284, 0.675767918088737], \"y\": [0.8421052631578949, 0.5710526315789473, 0.5605263157894738, 0.8789473684210525, 0.5815789473684212, 0.8342105263157893, 0.8842105263157897, 0.7973684210526317, 1.0, 0.744736842105263, 0.8078947368421052, 0.813157894736842, 0.7157894736842105, 0.9789473684210526, 0.8815789473684212, 0.6842105263157897, 0.8605263157894739, 0.736842105263158, 0.831578947368421, 0.686842105263158, 0.7973684210526317, 0.5, 0.7052631578947371, 0.4789473684210526, 0.65, 0.5315789473684213, 0.6210526315789475, 0.5973684210526318, 0.7473684210526313, 0.7868421052631578, 0.7105263157894738, 0.6710526315789475, 0.6973684210526315, 0.718421052631579, 0.6526315789473685, 0.6447368421052633, 0.5921052631578946, 0.5315789473684213, 0.536842105263158, 0.8394736842105265, 0.6657894736842107, 0.6263157894736843, 0.7500000000000002, 0.5815789473684212, 0.5315789473684213, 0.8368421052631582, 0.8815789473684212, 0.755263157894737, 0.8078947368421052, 0.7657894736842105, 0.5315789473684213, 0.736842105263158, 0.7342105263157895, 0.7210526315789473, 0.7131578947368422, 0.6657894736842107, 0.8394736842105265, 0.594736842105263, 0.7078947368421055, 0.3526315789473683, 0.34210526315789486, 0.42368421052631605, 0.6947368421052632, 0.3526315789473683, 0.3000000000000001, 0.3526315789473683, 0.5473684210526315, 0.3526315789473683, 0.6078947368421053, 0.31052631578947404, 0.3315789473684209, 0.744736842105263, 0.6473684210526317, 0.5157894736842107, 0.2447368421052635, 0.1657894736842107, 0.5263157894736841, 0.21315789473684219, 0.34210526315789486, 0.43947368421052624, 0.25526315789473697, 0.44473684210526343, 0.27631578947368435, 0.5315789473684213, 0.21315789473684219, 0.4315789473684211, 0.2973684210526317, 0.16315789473684233, 0.16052631578947396, 0.27631578947368435, 0.27631578947368435, 0.25526315789473697, 0.43684210526315786, 0.3315789473684209, 0.15526315789473677, 0.3789473684210529, 0.2052631578947371, 0.3315789473684209, 0.3526315789473683, 0.3315789473684209, 0.27631578947368435, 0.4131578947368421, 0.34473684210526323, 0.20789473684210547, 0.38947368421052636, 0.3657894736842106, 0.3210526315789475, 0.44473684210526343, 0.31315789473684236, 0.15263157894736842, 0.11315789473684247, 0.39210526315789473, 0.1921052631578948, 0.10000000000000019, 0.27631578947368435, 0.0, 0.20789473684210547, 0.3657894736842106, 0.45789473684210524, 0.25526315789473697, 0.11052631578947364, 0.13947368421052658, 0.3657894736842106, 0.5315789473684213, 0.22105263157894728, 0.273684210526316, 0.368421052631579, 0.1999999999999999, 0.3526315789473683, 0.2657894736842104, 0.481578947368421, 0.4868421052631582, 0.4684210526315792, 0.43947368421052624, 0.38947368421052636, 0.4131578947368421, 0.3210526315789475, 0.3947368421052631, 0.6473684210526317, 0.47631578947368425, 0.5, 0.613157894736842, 0.6552631578947368, 0.6815789473684208, 0.3210526315789475, 0.5605263157894738, 0.7500000000000002, 0.48421052631578937, 0.6026315789473685, 0.5394736842105264, 0.65, 0.46315789473684194, 0.5473684210526315, 0.5789473684210528, 0.40789473684210537, 0.5631578947368422, 0.7394736842105263, 0.3736842105263157, 0.8710526315789473, 0.6447368421052633, 0.35, 0.7, 0.4789473684210526, 0.5078947368421055, 0.7236842105263157, 0.7105263157894738, 0.6368421052631578, 0.4710526315789475, 0.6710526315789475, 0.623684210526316, 0.30789473684210517, 0.45789473684210524, 0.8236842105263158, 0.7052631578947371, 0.623684210526316, 0.5894736842105263, 0.5631578947368422, 0.8157894736842107], \"z\": [0.5613409415121255, 0.550641940085592, 0.6469329529243937, 0.8573466476462197, 0.325962910128388, 0.8359486447931527, 0.7218259629101283, 0.7253922967189729, 0.5470756062767475, 0.5470756062767475, 0.8787446504992867, 0.7146932952924394, 0.7432239657631954, 0.6219686162624821, 0.9051355206847361, 0.7360912981455064, 0.7146932952924394, 0.6077032810271041, 1.0, 0.4044222539229672, 0.35805991440798857, 0.3509272467902996, 0.5399429386590585, 0.5256776034236804, 0.4044222539229672, 0.39372325249643364, 0.6540656205420827, 0.7182596291012838, 0.4543509272467903, 0.5399429386590585, 0.7182596291012838, 0.8823109843081313, 0.5078459343794579, 0.6825962910128388, 0.5827389443651926, 0.4579172610556348, 0.42938659058487877, 0.5898716119828816, 0.5292439372325249, 0.3437945791726106, 0.36875891583452214, 0.5399429386590585, 0.5827389443651926, 0.2867332382310984, 0.43295292439372324, 0.572039942938659, 0.5613409415121255, 0.5042796005706134, 0.557774607703281, 0.7004279600570613, 0.6219686162624821, 0.7039942938659058, 0.6504992867332382, 0.782453637660485, 0.557774607703281, 0.6005706134094151, 0.49358059914407987, 0.7075606276747504, 0.7182596291012838, 0.17261055634807418, 0.2867332382310984, 0.12268188302425106, 0.25106990014265335, 0.10128388017118402, 0.05492154065620542, 0.28530670470756064, 0.15977175463623394, 0.16547788873038516, 0.33666191155492153, 0.31383737517831667, 0.4222539229671897, 0.09415121255349501, 0.1383737517831669, 0.5042796005706134, 0.43366619115549215, 0.10699001426533523, 0.08131241084165478, 0.15834522111269614, 0.33666191155492153, 0.13195435092724678, 0.0, 0.31098430813124106, 0.25106990014265335, 0.16904422253922968, 0.17261055634807418, 0.12268188302425106, 0.15477888730385164, 0.20256776034236804, 0.2867332382310984, 0.24750356633380885, 0.14407988587731813, 0.12268188302425106, 0.15477888730385164, 0.008559201141226819, 0.04778887303851641, 0.47004279600570614, 0.24750356633380885, 0.10699001426533523, 0.2724679029957204, 0.0912981455064194, 0.30813124108416545, 0.20256776034236804, 0.11412268188302425, 0.09771754636233952, 0.2810271041369472, 0.026390870185449358, 0.16547788873038516, 0.14978601997146934, 0.024251069900142655, 0.2867332382310984, 0.20256776034236804, 0.033523537803138374, 0.2346647646219686, 0.11126961483594865, 0.07631954350927246, 0.0920114122681883, 0.15477888730385164, 0.04778887303851641, 0.06704707560627675, 0.20399429386590584, 0.24750356633380885, 0.13338088445078458, 0.062054208273894434, 0.07275320970042796, 0.07275320970042796, 0.07132667617689016, 0.052781740370898715, 0.1340941512125535, 0.0456490727532097, 0.21540656205420827, 0.25106990014265335, 0.1797432239657632, 0.20114122681883023, 0.2296718972895863, 0.2653352353780314, 0.29743223965763194, 0.3152639087018545, 0.16904422253922968, 0.21540656205420827, 0.2225392296718973, 0.2296718972895863, 0.35805991440798857, 0.17261055634807418, 0.19400855920114124, 0.4115549215406562, 0.39372325249643364, 0.09771754636233952, 0.24750356633380885, 0.2653352353780314, 0.19400855920114124, 0.15834522111269614, 0.14407988587731813, 0.10485021398002853, 0.2831669044222539, 0.2582025677603424, 0.318830242510699, 0.14407988587731813, 0.42938659058487877, 0.2724679029957204, 0.24393723252496433, 0.17261055634807418, 0.2867332382310984, 0.20827389443651925, 0.2831669044222539, 0.24037089871611983, 0.17261055634807418, 0.29743223965763194, 0.29029957203994294, 0.33666191155492153, 0.25106990014265335, 0.16547788873038516, 0.1369472182596291, 0.2724679029957204, 0.32952924393723254, 0.33666191155492153, 0.39728958630527816, 0.4008559201141227, 0.20114122681883023]}],\n",
              "                        {\"template\": {\"data\": {\"bar\": [{\"error_x\": {\"color\": \"#2a3f5f\"}, \"error_y\": {\"color\": \"#2a3f5f\"}, \"marker\": {\"line\": {\"color\": \"#E5ECF6\", \"width\": 0.5}}, \"type\": \"bar\"}], \"barpolar\": [{\"marker\": {\"line\": {\"color\": \"#E5ECF6\", \"width\": 0.5}}, \"type\": \"barpolar\"}], \"carpet\": [{\"aaxis\": {\"endlinecolor\": \"#2a3f5f\", \"gridcolor\": \"white\", \"linecolor\": \"white\", \"minorgridcolor\": \"white\", \"startlinecolor\": \"#2a3f5f\"}, \"baxis\": {\"endlinecolor\": \"#2a3f5f\", \"gridcolor\": \"white\", \"linecolor\": \"white\", \"minorgridcolor\": \"white\", \"startlinecolor\": \"#2a3f5f\"}, \"type\": \"carpet\"}], \"choropleth\": [{\"colorbar\": {\"outlinewidth\": 0, \"ticks\": \"\"}, \"type\": \"choropleth\"}], \"contour\": [{\"colorbar\": {\"outlinewidth\": 0, \"ticks\": \"\"}, \"colorscale\": [[0.0, \"#0d0887\"], [0.1111111111111111, \"#46039f\"], [0.2222222222222222, \"#7201a8\"], [0.3333333333333333, \"#9c179e\"], [0.4444444444444444, \"#bd3786\"], [0.5555555555555556, \"#d8576b\"], [0.6666666666666666, \"#ed7953\"], [0.7777777777777778, \"#fb9f3a\"], [0.8888888888888888, \"#fdca26\"], [1.0, \"#f0f921\"]], \"type\": \"contour\"}], \"contourcarpet\": [{\"colorbar\": {\"outlinewidth\": 0, \"ticks\": \"\"}, \"type\": \"contourcarpet\"}], \"heatmap\": [{\"colorbar\": {\"outlinewidth\": 0, \"ticks\": \"\"}, \"colorscale\": [[0.0, \"#0d0887\"], [0.1111111111111111, \"#46039f\"], [0.2222222222222222, \"#7201a8\"], [0.3333333333333333, \"#9c179e\"], [0.4444444444444444, \"#bd3786\"], [0.5555555555555556, \"#d8576b\"], [0.6666666666666666, \"#ed7953\"], [0.7777777777777778, \"#fb9f3a\"], [0.8888888888888888, \"#fdca26\"], [1.0, \"#f0f921\"]], \"type\": \"heatmap\"}], \"heatmapgl\": [{\"colorbar\": {\"outlinewidth\": 0, \"ticks\": \"\"}, \"colorscale\": [[0.0, \"#0d0887\"], [0.1111111111111111, \"#46039f\"], [0.2222222222222222, \"#7201a8\"], [0.3333333333333333, \"#9c179e\"], [0.4444444444444444, \"#bd3786\"], [0.5555555555555556, \"#d8576b\"], [0.6666666666666666, \"#ed7953\"], [0.7777777777777778, \"#fb9f3a\"], [0.8888888888888888, \"#fdca26\"], [1.0, \"#f0f921\"]], \"type\": \"heatmapgl\"}], \"histogram\": [{\"marker\": {\"colorbar\": {\"outlinewidth\": 0, \"ticks\": \"\"}}, \"type\": \"histogram\"}], \"histogram2d\": [{\"colorbar\": {\"outlinewidth\": 0, \"ticks\": \"\"}, \"colorscale\": [[0.0, \"#0d0887\"], [0.1111111111111111, \"#46039f\"], [0.2222222222222222, \"#7201a8\"], [0.3333333333333333, \"#9c179e\"], [0.4444444444444444, \"#bd3786\"], [0.5555555555555556, \"#d8576b\"], [0.6666666666666666, \"#ed7953\"], [0.7777777777777778, \"#fb9f3a\"], [0.8888888888888888, \"#fdca26\"], [1.0, \"#f0f921\"]], \"type\": \"histogram2d\"}], \"histogram2dcontour\": [{\"colorbar\": {\"outlinewidth\": 0, \"ticks\": \"\"}, \"colorscale\": [[0.0, \"#0d0887\"], [0.1111111111111111, \"#46039f\"], [0.2222222222222222, \"#7201a8\"], [0.3333333333333333, \"#9c179e\"], [0.4444444444444444, \"#bd3786\"], [0.5555555555555556, \"#d8576b\"], [0.6666666666666666, \"#ed7953\"], [0.7777777777777778, \"#fb9f3a\"], [0.8888888888888888, \"#fdca26\"], [1.0, \"#f0f921\"]], \"type\": \"histogram2dcontour\"}], \"mesh3d\": [{\"colorbar\": {\"outlinewidth\": 0, \"ticks\": \"\"}, \"type\": \"mesh3d\"}], \"parcoords\": [{\"line\": {\"colorbar\": {\"outlinewidth\": 0, \"ticks\": \"\"}}, \"type\": \"parcoords\"}], \"scatter\": [{\"marker\": {\"colorbar\": {\"outlinewidth\": 0, \"ticks\": \"\"}}, \"type\": \"scatter\"}], \"scatter3d\": [{\"line\": {\"colorbar\": {\"outlinewidth\": 0, \"ticks\": \"\"}}, \"marker\": {\"colorbar\": {\"outlinewidth\": 0, \"ticks\": \"\"}}, \"type\": \"scatter3d\"}], \"scattercarpet\": [{\"marker\": {\"colorbar\": {\"outlinewidth\": 0, \"ticks\": \"\"}}, \"type\": \"scattercarpet\"}], \"scattergeo\": [{\"marker\": {\"colorbar\": {\"outlinewidth\": 0, \"ticks\": \"\"}}, \"type\": \"scattergeo\"}], \"scattergl\": [{\"marker\": {\"colorbar\": {\"outlinewidth\": 0, \"ticks\": \"\"}}, \"type\": \"scattergl\"}], \"scattermapbox\": [{\"marker\": {\"colorbar\": {\"outlinewidth\": 0, \"ticks\": \"\"}}, \"type\": \"scattermapbox\"}], \"scatterpolar\": [{\"marker\": {\"colorbar\": {\"outlinewidth\": 0, \"ticks\": \"\"}}, \"type\": \"scatterpolar\"}], \"scatterpolargl\": [{\"marker\": {\"colorbar\": {\"outlinewidth\": 0, \"ticks\": \"\"}}, \"type\": \"scatterpolargl\"}], \"scatterternary\": [{\"marker\": {\"colorbar\": {\"outlinewidth\": 0, \"ticks\": \"\"}}, \"type\": \"scatterternary\"}], \"surface\": [{\"colorbar\": {\"outlinewidth\": 0, \"ticks\": \"\"}, \"colorscale\": [[0.0, \"#0d0887\"], [0.1111111111111111, \"#46039f\"], [0.2222222222222222, \"#7201a8\"], [0.3333333333333333, \"#9c179e\"], [0.4444444444444444, \"#bd3786\"], [0.5555555555555556, \"#d8576b\"], [0.6666666666666666, \"#ed7953\"], [0.7777777777777778, \"#fb9f3a\"], [0.8888888888888888, \"#fdca26\"], [1.0, \"#f0f921\"]], \"type\": \"surface\"}], \"table\": [{\"cells\": {\"fill\": {\"color\": \"#EBF0F8\"}, \"line\": {\"color\": \"white\"}}, \"header\": {\"fill\": {\"color\": \"#C8D4E3\"}, \"line\": {\"color\": \"white\"}}, \"type\": \"table\"}]}, \"layout\": {\"annotationdefaults\": {\"arrowcolor\": \"#2a3f5f\", \"arrowhead\": 0, \"arrowwidth\": 1}, \"colorscale\": {\"diverging\": [[0, \"#8e0152\"], [0.1, \"#c51b7d\"], [0.2, \"#de77ae\"], [0.3, \"#f1b6da\"], [0.4, \"#fde0ef\"], [0.5, \"#f7f7f7\"], [0.6, \"#e6f5d0\"], [0.7, \"#b8e186\"], [0.8, \"#7fbc41\"], [0.9, \"#4d9221\"], [1, \"#276419\"]], \"sequential\": [[0.0, \"#0d0887\"], [0.1111111111111111, \"#46039f\"], [0.2222222222222222, \"#7201a8\"], [0.3333333333333333, \"#9c179e\"], [0.4444444444444444, \"#bd3786\"], [0.5555555555555556, \"#d8576b\"], [0.6666666666666666, \"#ed7953\"], [0.7777777777777778, \"#fb9f3a\"], [0.8888888888888888, \"#fdca26\"], [1.0, \"#f0f921\"]], \"sequentialminus\": [[0.0, \"#0d0887\"], [0.1111111111111111, \"#46039f\"], [0.2222222222222222, \"#7201a8\"], [0.3333333333333333, \"#9c179e\"], [0.4444444444444444, \"#bd3786\"], [0.5555555555555556, \"#d8576b\"], [0.6666666666666666, \"#ed7953\"], [0.7777777777777778, \"#fb9f3a\"], [0.8888888888888888, \"#fdca26\"], [1.0, \"#f0f921\"]]}, \"colorway\": [\"#636efa\", \"#EF553B\", \"#00cc96\", \"#ab63fa\", \"#FFA15A\", \"#19d3f3\", \"#FF6692\", \"#B6E880\", \"#FF97FF\", \"#FECB52\"], \"font\": {\"color\": \"#2a3f5f\"}, \"geo\": {\"bgcolor\": \"white\", \"lakecolor\": \"white\", \"landcolor\": \"#E5ECF6\", \"showlakes\": true, \"showland\": true, \"subunitcolor\": \"white\"}, \"hoverlabel\": {\"align\": \"left\"}, \"hovermode\": \"closest\", \"mapbox\": {\"style\": \"light\"}, \"paper_bgcolor\": \"white\", \"plot_bgcolor\": \"#E5ECF6\", \"polar\": {\"angularaxis\": {\"gridcolor\": \"white\", \"linecolor\": \"white\", \"ticks\": \"\"}, \"bgcolor\": \"#E5ECF6\", \"radialaxis\": {\"gridcolor\": \"white\", \"linecolor\": \"white\", \"ticks\": \"\"}}, \"scene\": {\"xaxis\": {\"backgroundcolor\": \"#E5ECF6\", \"gridcolor\": \"white\", \"gridwidth\": 2, \"linecolor\": \"white\", \"showbackground\": true, \"ticks\": \"\", \"zerolinecolor\": \"white\"}, \"yaxis\": {\"backgroundcolor\": \"#E5ECF6\", \"gridcolor\": \"white\", \"gridwidth\": 2, \"linecolor\": \"white\", \"showbackground\": true, \"ticks\": \"\", \"zerolinecolor\": \"white\"}, \"zaxis\": {\"backgroundcolor\": \"#E5ECF6\", \"gridcolor\": \"white\", \"gridwidth\": 2, \"linecolor\": \"white\", \"showbackground\": true, \"ticks\": \"\", \"zerolinecolor\": \"white\"}}, \"shapedefaults\": {\"line\": {\"color\": \"#2a3f5f\"}}, \"ternary\": {\"aaxis\": {\"gridcolor\": \"white\", \"linecolor\": \"white\", \"ticks\": \"\"}, \"baxis\": {\"gridcolor\": \"white\", \"linecolor\": \"white\", \"ticks\": \"\"}, \"bgcolor\": \"#E5ECF6\", \"caxis\": {\"gridcolor\": \"white\", \"linecolor\": \"white\", \"ticks\": \"\"}}, \"title\": {\"x\": 0.05}, \"xaxis\": {\"automargin\": true, \"gridcolor\": \"white\", \"linecolor\": \"white\", \"ticks\": \"\", \"zerolinecolor\": \"white\", \"zerolinewidth\": 2}, \"yaxis\": {\"automargin\": true, \"gridcolor\": \"white\", \"linecolor\": \"white\", \"ticks\": \"\", \"zerolinecolor\": \"white\", \"zerolinewidth\": 2}}}},\n",
              "                        {\"responsive\": true}\n",
              "                    ).then(function(){\n",
              "                            \n",
              "var gd = document.getElementById('12191ed8-1112-4737-a2c0-9d3ccb55b809');\n",
              "var x = new MutationObserver(function (mutations, observer) {{\n",
              "        var display = window.getComputedStyle(gd).display;\n",
              "        if (!display || display === 'none') {{\n",
              "            console.log([gd, 'removed!']);\n",
              "            Plotly.purge(gd);\n",
              "            observer.disconnect();\n",
              "        }}\n",
              "}});\n",
              "\n",
              "// Listen for the removal of the full notebook cells\n",
              "var notebookContainer = gd.closest('#notebook-container');\n",
              "if (notebookContainer) {{\n",
              "    x.observe(notebookContainer, {childList: true});\n",
              "}}\n",
              "\n",
              "// Listen for the clearing of the current output cell\n",
              "var outputEl = gd.closest('.output');\n",
              "if (outputEl) {{\n",
              "    x.observe(outputEl, {childList: true});\n",
              "}}\n",
              "\n",
              "                        })\n",
              "                };\n",
              "                \n",
              "            </script>\n",
              "        </div>\n",
              "</body>\n",
              "</html>"
            ]
          },
          "metadata": {}
        }
      ]
    },
    {
      "cell_type": "code",
      "metadata": {
        "colab": {
          "base_uri": "https://localhost:8080/",
          "height": 542
        },
        "id": "DwjeAVk6HWUU",
        "outputId": "3ceed563-74d4-4c9a-a028-80ec0c01b135"
      },
      "source": [
        "fig.update_layout(scene = dict(\n",
        "    xaxis_title = 'Intensidade da cor',\n",
        "    yaxis_title = 'Alcool',\n",
        "    zaxis_title = 'Proline'))\n",
        "fig.show()"
      ],
      "execution_count": 78,
      "outputs": [
        {
          "output_type": "display_data",
          "data": {
            "text/html": [
              "<html>\n",
              "<head><meta charset=\"utf-8\" /></head>\n",
              "<body>\n",
              "    <div>\n",
              "            <script src=\"https://cdnjs.cloudflare.com/ajax/libs/mathjax/2.7.5/MathJax.js?config=TeX-AMS-MML_SVG\"></script><script type=\"text/javascript\">if (window.MathJax) {MathJax.Hub.Config({SVG: {font: \"STIX-Web\"}});}</script>\n",
              "                <script type=\"text/javascript\">window.PlotlyConfig = {MathJaxConfig: 'local'};</script>\n",
              "        <script src=\"https://cdn.plot.ly/plotly-latest.min.js\"></script>    \n",
              "            <div id=\"14d2b476-24f8-4fb6-9d24-297b8ec91231\" class=\"plotly-graph-div\" style=\"height:525px; width:100%;\"></div>\n",
              "            <script type=\"text/javascript\">\n",
              "                \n",
              "                    window.PLOTLYENV=window.PLOTLYENV || {};\n",
              "                    \n",
              "                if (document.getElementById(\"14d2b476-24f8-4fb6-9d24-297b8ec91231\")) {\n",
              "                    Plotly.newPlot(\n",
              "                        '14d2b476-24f8-4fb6-9d24-297b8ec91231',\n",
              "                        [{\"marker\": {\"color\": [1.0, 1.0, 1.0, 1.0, 1.0, 1.0, 1.0, 1.0, 1.0, 1.0, 1.0, 1.0, 1.0, 1.0, 1.0, 1.0, 1.0, 1.0, 1.0, 1.0, 1.0, 1.0, 1.0, 1.0, 1.0, 1.0, 1.0, 1.0, 1.0, 1.0, 1.0, 1.0, 1.0, 1.0, 1.0, 1.0, 1.0, 1.0, 1.0, 1.0, 1.0, 1.0, 1.0, 1.0, 1.0, 1.0, 1.0, 1.0, 1.0, 1.0, 1.0, 1.0, 1.0, 1.0, 1.0, 1.0, 1.0, 1.0, 1.0, 1.0, 0.0, 0.0, 1.0, 1.0, 1.0, 1.0, 1.0, 1.0, 0.0, 1.0, 0.0, 1.0, 1.0, 1.0, 1.0, 1.0, 1.0, 0.0, 1.0, 1.0, 1.0, 1.0, 1.0, 0.0, 1.0, 1.0, 1.0, 1.0, 1.0, 1.0, 0.0, 0.0, 0.0, 1.0, 1.0, 1.0, 1.0, 1.0, 1.0, 1.0, 1.0, 1.0, 1.0, 1.0, 1.0, 0.0, 1.0, 0.0, 1.0, 1.0, 1.0, 1.0, 0.0, 1.0, 1.0, 1.0, 1.0, 1.0, 0.0, 1.0, 1.0, 1.0, 1.0, 1.0, 1.0, 1.0, 1.0, 0.0, 1.0, 0.0, 0.0, 0.0, 0.0, 0.0, 0.0, 0.0, 0.0, 0.0, 0.0, 0.0, 0.0, 0.0, 0.0, 0.0, 0.0, 0.0, 0.0, 0.0, 0.0, 0.0, 0.0, 0.0, 0.0, 0.0, 0.0, 0.0, 0.0, 0.0, 0.0, 0.0, 0.0, 0.0, 0.0, 0.0, 0.0, 0.0, 0.0, 0.0, 0.0, 0.0, 0.0, 0.0, 0.0, 0.0, 0.0, 0.0, 0.0, 0.0]}, \"mode\": \"markers\", \"text\": [2.0, 2.0, 2.0, 2.0, 2.0, 2.0, 2.0, 2.0, 2.0, 2.0, 2.0, 2.0, 2.0, 2.0, 2.0, 2.0, 2.0, 2.0, 2.0, 2.0, 2.0, 2.0, 2.0, 2.0, 2.0, 2.0, 2.0, 2.0, 2.0, 2.0, 2.0, 2.0, 2.0, 2.0, 2.0, 2.0, 2.0, 2.0, 2.0, 2.0, 2.0, 2.0, 2.0, 2.0, 2.0, 2.0, 2.0, 2.0, 2.0, 2.0, 2.0, 2.0, 2.0, 2.0, 2.0, 2.0, 2.0, 2.0, 2.0, 3.0, 3.0, 3.0, 3.0, 0.0, 3.0, 0.0, 0.0, 0.0, 3.0, 0.0, 3.0, 0.0, 0.0, 0.0, 0.0, 3.0, 0.0, 3.0, 0.0, 0.0, 0.0, 0.0, 3.0, 3.0, 0.0, 0.0, 3.0, 3.0, 3.0, 3.0, 3.0, 3.0, 3.0, 0.0, 0.0, 0.0, 0.0, 0.0, 0.0, 0.0, 0.0, 3.0, 0.0, 3.0, 0.0, 3.0, 3.0, 3.0, 0.0, 0.0, 0.0, 0.0, 3.0, 3.0, 3.0, 3.0, 0.0, 0.0, 3.0, 0.0, 0.0, 0.0, 0.0, 0.0, 0.0, 0.0, 0.0, 3.0, 0.0, 3.0, 1.0, 1.0, 1.0, 1.0, 1.0, 1.0, 1.0, 1.0, 1.0, 1.0, 1.0, 1.0, 1.0, 1.0, 1.0, 1.0, 1.0, 1.0, 1.0, 1.0, 1.0, 1.0, 1.0, 1.0, 1.0, 1.0, 1.0, 1.0, 1.0, 1.0, 1.0, 1.0, 1.0, 1.0, 1.0, 1.0, 1.0, 1.0, 1.0, 1.0, 1.0, 1.0, 1.0, 1.0, 1.0, 1.0, 1.0, 1.0], \"type\": \"scatter3d\", \"x\": [0.37201365187713303, 0.26450511945392485, 0.3754266211604095, 0.5563139931740614, 0.2593856655290102, 0.46672354948805456, 0.3387372013651877, 0.3216723549488054, 0.33447098976109213, 0.5068259385665528, 0.3813993174061433, 0.31740614334470985, 0.3686006825938566, 0.3515358361774744, 0.530716723549488, 0.5136518771331058, 0.4197952218430034, 0.45392491467576784, 0.6331058020477814, 0.32593856655290093, 0.3728668941979522, 0.27474402730375425, 0.21501706484641633, 0.22610921501706485, 0.19112627986348124, 0.19624573378839588, 0.3003412969283276, 0.22781569965870305, 0.27474402730375425, 0.2918088737201365, 0.37713310580204773, 0.47952218430034127, 0.21843003412969278, 0.3515358361774744, 0.24914675767918087, 0.32593856655290093, 0.28327645051194533, 0.2534129692832764, 0.20648464163822525, 0.32593856655290093, 0.41382252559726956, 0.25597269624573377, 0.3540955631399317, 0.26279863481228666, 0.3208191126279863, 0.3378839590443686, 0.30887372013651876, 0.4112627986348122, 0.4197952218430034, 0.6501706484641638, 0.5051194539249146, 0.3686006825938566, 0.4923208191126279, 0.42832764505119447, 0.3899317406143344, 0.42406143344709896, 0.43515358361774736, 0.4027303754266211, 0.4709897610921501, 0.057167235494880536, 0.1697952218430034, 0.3813993174061433, 0.21501706484641633, 0.2704778156996587, 0.14249146757679182, 0.28327645051194533, 0.3430034129692832, 0.2901023890784982, 0.16126279863481227, 0.13395904436860068, 0.1510238907849829, 0.17918088737201363, 0.2098976109215017, 0.17662116040955633, 0.16467576791808872, 0.21501706484641633, 0.28327645051194533, 0.11689419795221842, 0.18088737201365188, 0.1100682593856655, 0.10409556313993173, 0.2235494880546075, 0.07849829351535836, 0.3003412969283276, 0.1510238907849829, 0.11433447098976109, 0.09982935153583619, 0.11262798634812286, 0.1296928327645051, 0.039249146757679175, 0.09556313993174059, 0.19795221843003413, 0.1510238907849829, 0.07423208191126278, 0.16808873720136516, 0.11262798634812286, 0.10409556313993173, 0.13822525597269622, 0.27474402730375425, 0.08703071672354946, 0.1723549488054607, 0.09982935153583619, 0.1296928327645051, 0.06655290102389079, 0.1416382252559727, 0.121160409556314, 0.18088737201365188, 0.1723549488054607, 0.121160409556314, 0.11689419795221842, 0.13822525597269622, 0.0614334470989761, 0.21501706484641633, 0.15358361774744028, 0.13822525597269622, 0.05290102389078497, 0.057167235494880536, 0.06655290102389079, 0.18088737201365188, 0.0, 0.16808873720136516, 0.4027303754266211, 0.06825938566552901, 0.11262798634812286, 0.1296928327645051, 0.12627986348122863, 0.22696245733788395, 0.14675767918088736, 0.07167235494880546, 0.11262798634812286, 0.2406143344709897, 0.3515358361774744, 0.37713310580204773, 0.31740614334470985, 0.35580204778156993, 0.49658703071672344, 0.21928327645051196, 0.31740614334470985, 0.37713310580204773, 0.31058020477815695, 0.28327645051194533, 0.3686006825938566, 0.26194539249146753, 0.26621160409556316, 0.591296928327645, 0.2320819112627986, 0.30887372013651876, 0.5435153583617747, 0.6092150170648464, 0.6928327645051195, 0.6245733788395904, 0.8122866894197953, 0.49658703071672344, 0.78839590443686, 0.5392491467576791, 0.5648464163822525, 0.6595563139931739, 0.530716723549488, 1.0, 0.893344709897611, 0.5435153583617747, 0.39249146757679176, 0.3668941979522184, 0.341296928327645, 0.7081911262798635, 0.4556313993174061, 0.8020477815699658, 0.7662116040955631, 0.629692832764505, 0.6160409556313993, 0.3600682593856655, 0.7354947952218431, 0.7184300341296928, 0.5477815699658702, 0.5136518771331058, 0.7610921501706485, 0.6843003412969284, 0.675767918088737], \"y\": [0.8421052631578949, 0.5710526315789473, 0.5605263157894738, 0.8789473684210525, 0.5815789473684212, 0.8342105263157893, 0.8842105263157897, 0.7973684210526317, 1.0, 0.744736842105263, 0.8078947368421052, 0.813157894736842, 0.7157894736842105, 0.9789473684210526, 0.8815789473684212, 0.6842105263157897, 0.8605263157894739, 0.736842105263158, 0.831578947368421, 0.686842105263158, 0.7973684210526317, 0.5, 0.7052631578947371, 0.4789473684210526, 0.65, 0.5315789473684213, 0.6210526315789475, 0.5973684210526318, 0.7473684210526313, 0.7868421052631578, 0.7105263157894738, 0.6710526315789475, 0.6973684210526315, 0.718421052631579, 0.6526315789473685, 0.6447368421052633, 0.5921052631578946, 0.5315789473684213, 0.536842105263158, 0.8394736842105265, 0.6657894736842107, 0.6263157894736843, 0.7500000000000002, 0.5815789473684212, 0.5315789473684213, 0.8368421052631582, 0.8815789473684212, 0.755263157894737, 0.8078947368421052, 0.7657894736842105, 0.5315789473684213, 0.736842105263158, 0.7342105263157895, 0.7210526315789473, 0.7131578947368422, 0.6657894736842107, 0.8394736842105265, 0.594736842105263, 0.7078947368421055, 0.3526315789473683, 0.34210526315789486, 0.42368421052631605, 0.6947368421052632, 0.3526315789473683, 0.3000000000000001, 0.3526315789473683, 0.5473684210526315, 0.3526315789473683, 0.6078947368421053, 0.31052631578947404, 0.3315789473684209, 0.744736842105263, 0.6473684210526317, 0.5157894736842107, 0.2447368421052635, 0.1657894736842107, 0.5263157894736841, 0.21315789473684219, 0.34210526315789486, 0.43947368421052624, 0.25526315789473697, 0.44473684210526343, 0.27631578947368435, 0.5315789473684213, 0.21315789473684219, 0.4315789473684211, 0.2973684210526317, 0.16315789473684233, 0.16052631578947396, 0.27631578947368435, 0.27631578947368435, 0.25526315789473697, 0.43684210526315786, 0.3315789473684209, 0.15526315789473677, 0.3789473684210529, 0.2052631578947371, 0.3315789473684209, 0.3526315789473683, 0.3315789473684209, 0.27631578947368435, 0.4131578947368421, 0.34473684210526323, 0.20789473684210547, 0.38947368421052636, 0.3657894736842106, 0.3210526315789475, 0.44473684210526343, 0.31315789473684236, 0.15263157894736842, 0.11315789473684247, 0.39210526315789473, 0.1921052631578948, 0.10000000000000019, 0.27631578947368435, 0.0, 0.20789473684210547, 0.3657894736842106, 0.45789473684210524, 0.25526315789473697, 0.11052631578947364, 0.13947368421052658, 0.3657894736842106, 0.5315789473684213, 0.22105263157894728, 0.273684210526316, 0.368421052631579, 0.1999999999999999, 0.3526315789473683, 0.2657894736842104, 0.481578947368421, 0.4868421052631582, 0.4684210526315792, 0.43947368421052624, 0.38947368421052636, 0.4131578947368421, 0.3210526315789475, 0.3947368421052631, 0.6473684210526317, 0.47631578947368425, 0.5, 0.613157894736842, 0.6552631578947368, 0.6815789473684208, 0.3210526315789475, 0.5605263157894738, 0.7500000000000002, 0.48421052631578937, 0.6026315789473685, 0.5394736842105264, 0.65, 0.46315789473684194, 0.5473684210526315, 0.5789473684210528, 0.40789473684210537, 0.5631578947368422, 0.7394736842105263, 0.3736842105263157, 0.8710526315789473, 0.6447368421052633, 0.35, 0.7, 0.4789473684210526, 0.5078947368421055, 0.7236842105263157, 0.7105263157894738, 0.6368421052631578, 0.4710526315789475, 0.6710526315789475, 0.623684210526316, 0.30789473684210517, 0.45789473684210524, 0.8236842105263158, 0.7052631578947371, 0.623684210526316, 0.5894736842105263, 0.5631578947368422, 0.8157894736842107], \"z\": [0.5613409415121255, 0.550641940085592, 0.6469329529243937, 0.8573466476462197, 0.325962910128388, 0.8359486447931527, 0.7218259629101283, 0.7253922967189729, 0.5470756062767475, 0.5470756062767475, 0.8787446504992867, 0.7146932952924394, 0.7432239657631954, 0.6219686162624821, 0.9051355206847361, 0.7360912981455064, 0.7146932952924394, 0.6077032810271041, 1.0, 0.4044222539229672, 0.35805991440798857, 0.3509272467902996, 0.5399429386590585, 0.5256776034236804, 0.4044222539229672, 0.39372325249643364, 0.6540656205420827, 0.7182596291012838, 0.4543509272467903, 0.5399429386590585, 0.7182596291012838, 0.8823109843081313, 0.5078459343794579, 0.6825962910128388, 0.5827389443651926, 0.4579172610556348, 0.42938659058487877, 0.5898716119828816, 0.5292439372325249, 0.3437945791726106, 0.36875891583452214, 0.5399429386590585, 0.5827389443651926, 0.2867332382310984, 0.43295292439372324, 0.572039942938659, 0.5613409415121255, 0.5042796005706134, 0.557774607703281, 0.7004279600570613, 0.6219686162624821, 0.7039942938659058, 0.6504992867332382, 0.782453637660485, 0.557774607703281, 0.6005706134094151, 0.49358059914407987, 0.7075606276747504, 0.7182596291012838, 0.17261055634807418, 0.2867332382310984, 0.12268188302425106, 0.25106990014265335, 0.10128388017118402, 0.05492154065620542, 0.28530670470756064, 0.15977175463623394, 0.16547788873038516, 0.33666191155492153, 0.31383737517831667, 0.4222539229671897, 0.09415121255349501, 0.1383737517831669, 0.5042796005706134, 0.43366619115549215, 0.10699001426533523, 0.08131241084165478, 0.15834522111269614, 0.33666191155492153, 0.13195435092724678, 0.0, 0.31098430813124106, 0.25106990014265335, 0.16904422253922968, 0.17261055634807418, 0.12268188302425106, 0.15477888730385164, 0.20256776034236804, 0.2867332382310984, 0.24750356633380885, 0.14407988587731813, 0.12268188302425106, 0.15477888730385164, 0.008559201141226819, 0.04778887303851641, 0.47004279600570614, 0.24750356633380885, 0.10699001426533523, 0.2724679029957204, 0.0912981455064194, 0.30813124108416545, 0.20256776034236804, 0.11412268188302425, 0.09771754636233952, 0.2810271041369472, 0.026390870185449358, 0.16547788873038516, 0.14978601997146934, 0.024251069900142655, 0.2867332382310984, 0.20256776034236804, 0.033523537803138374, 0.2346647646219686, 0.11126961483594865, 0.07631954350927246, 0.0920114122681883, 0.15477888730385164, 0.04778887303851641, 0.06704707560627675, 0.20399429386590584, 0.24750356633380885, 0.13338088445078458, 0.062054208273894434, 0.07275320970042796, 0.07275320970042796, 0.07132667617689016, 0.052781740370898715, 0.1340941512125535, 0.0456490727532097, 0.21540656205420827, 0.25106990014265335, 0.1797432239657632, 0.20114122681883023, 0.2296718972895863, 0.2653352353780314, 0.29743223965763194, 0.3152639087018545, 0.16904422253922968, 0.21540656205420827, 0.2225392296718973, 0.2296718972895863, 0.35805991440798857, 0.17261055634807418, 0.19400855920114124, 0.4115549215406562, 0.39372325249643364, 0.09771754636233952, 0.24750356633380885, 0.2653352353780314, 0.19400855920114124, 0.15834522111269614, 0.14407988587731813, 0.10485021398002853, 0.2831669044222539, 0.2582025677603424, 0.318830242510699, 0.14407988587731813, 0.42938659058487877, 0.2724679029957204, 0.24393723252496433, 0.17261055634807418, 0.2867332382310984, 0.20827389443651925, 0.2831669044222539, 0.24037089871611983, 0.17261055634807418, 0.29743223965763194, 0.29029957203994294, 0.33666191155492153, 0.25106990014265335, 0.16547788873038516, 0.1369472182596291, 0.2724679029957204, 0.32952924393723254, 0.33666191155492153, 0.39728958630527816, 0.4008559201141227, 0.20114122681883023]}],\n",
              "                        {\"scene\": {\"xaxis\": {\"title\": {\"text\": \"Intensidade da cor\"}}, \"yaxis\": {\"title\": {\"text\": \"Alcool\"}}, \"zaxis\": {\"title\": {\"text\": \"Proline\"}}}, \"template\": {\"data\": {\"bar\": [{\"error_x\": {\"color\": \"#2a3f5f\"}, \"error_y\": {\"color\": \"#2a3f5f\"}, \"marker\": {\"line\": {\"color\": \"#E5ECF6\", \"width\": 0.5}}, \"type\": \"bar\"}], \"barpolar\": [{\"marker\": {\"line\": {\"color\": \"#E5ECF6\", \"width\": 0.5}}, \"type\": \"barpolar\"}], \"carpet\": [{\"aaxis\": {\"endlinecolor\": \"#2a3f5f\", \"gridcolor\": \"white\", \"linecolor\": \"white\", \"minorgridcolor\": \"white\", \"startlinecolor\": \"#2a3f5f\"}, \"baxis\": {\"endlinecolor\": \"#2a3f5f\", \"gridcolor\": \"white\", \"linecolor\": \"white\", \"minorgridcolor\": \"white\", \"startlinecolor\": \"#2a3f5f\"}, \"type\": \"carpet\"}], \"choropleth\": [{\"colorbar\": {\"outlinewidth\": 0, \"ticks\": \"\"}, \"type\": \"choropleth\"}], \"contour\": [{\"colorbar\": {\"outlinewidth\": 0, \"ticks\": \"\"}, \"colorscale\": [[0.0, \"#0d0887\"], [0.1111111111111111, \"#46039f\"], [0.2222222222222222, \"#7201a8\"], [0.3333333333333333, \"#9c179e\"], [0.4444444444444444, \"#bd3786\"], [0.5555555555555556, \"#d8576b\"], [0.6666666666666666, \"#ed7953\"], [0.7777777777777778, \"#fb9f3a\"], [0.8888888888888888, \"#fdca26\"], [1.0, \"#f0f921\"]], \"type\": \"contour\"}], \"contourcarpet\": [{\"colorbar\": {\"outlinewidth\": 0, \"ticks\": \"\"}, \"type\": \"contourcarpet\"}], \"heatmap\": [{\"colorbar\": {\"outlinewidth\": 0, \"ticks\": \"\"}, \"colorscale\": [[0.0, \"#0d0887\"], [0.1111111111111111, \"#46039f\"], [0.2222222222222222, \"#7201a8\"], [0.3333333333333333, \"#9c179e\"], [0.4444444444444444, \"#bd3786\"], [0.5555555555555556, \"#d8576b\"], [0.6666666666666666, \"#ed7953\"], [0.7777777777777778, \"#fb9f3a\"], [0.8888888888888888, \"#fdca26\"], [1.0, \"#f0f921\"]], \"type\": \"heatmap\"}], \"heatmapgl\": [{\"colorbar\": {\"outlinewidth\": 0, \"ticks\": \"\"}, \"colorscale\": [[0.0, \"#0d0887\"], [0.1111111111111111, \"#46039f\"], [0.2222222222222222, \"#7201a8\"], [0.3333333333333333, \"#9c179e\"], [0.4444444444444444, \"#bd3786\"], [0.5555555555555556, \"#d8576b\"], [0.6666666666666666, \"#ed7953\"], [0.7777777777777778, \"#fb9f3a\"], [0.8888888888888888, \"#fdca26\"], [1.0, \"#f0f921\"]], \"type\": \"heatmapgl\"}], \"histogram\": [{\"marker\": {\"colorbar\": {\"outlinewidth\": 0, \"ticks\": \"\"}}, \"type\": \"histogram\"}], \"histogram2d\": [{\"colorbar\": {\"outlinewidth\": 0, \"ticks\": \"\"}, \"colorscale\": [[0.0, \"#0d0887\"], [0.1111111111111111, \"#46039f\"], [0.2222222222222222, \"#7201a8\"], [0.3333333333333333, \"#9c179e\"], [0.4444444444444444, \"#bd3786\"], [0.5555555555555556, \"#d8576b\"], [0.6666666666666666, \"#ed7953\"], [0.7777777777777778, \"#fb9f3a\"], [0.8888888888888888, \"#fdca26\"], [1.0, \"#f0f921\"]], \"type\": \"histogram2d\"}], \"histogram2dcontour\": [{\"colorbar\": {\"outlinewidth\": 0, \"ticks\": \"\"}, \"colorscale\": [[0.0, \"#0d0887\"], [0.1111111111111111, \"#46039f\"], [0.2222222222222222, \"#7201a8\"], [0.3333333333333333, \"#9c179e\"], [0.4444444444444444, \"#bd3786\"], [0.5555555555555556, \"#d8576b\"], [0.6666666666666666, \"#ed7953\"], [0.7777777777777778, \"#fb9f3a\"], [0.8888888888888888, \"#fdca26\"], [1.0, \"#f0f921\"]], \"type\": \"histogram2dcontour\"}], \"mesh3d\": [{\"colorbar\": {\"outlinewidth\": 0, \"ticks\": \"\"}, \"type\": \"mesh3d\"}], \"parcoords\": [{\"line\": {\"colorbar\": {\"outlinewidth\": 0, \"ticks\": \"\"}}, \"type\": \"parcoords\"}], \"scatter\": [{\"marker\": {\"colorbar\": {\"outlinewidth\": 0, \"ticks\": \"\"}}, \"type\": \"scatter\"}], \"scatter3d\": [{\"line\": {\"colorbar\": {\"outlinewidth\": 0, \"ticks\": \"\"}}, \"marker\": {\"colorbar\": {\"outlinewidth\": 0, \"ticks\": \"\"}}, \"type\": \"scatter3d\"}], \"scattercarpet\": [{\"marker\": {\"colorbar\": {\"outlinewidth\": 0, \"ticks\": \"\"}}, \"type\": \"scattercarpet\"}], \"scattergeo\": [{\"marker\": {\"colorbar\": {\"outlinewidth\": 0, \"ticks\": \"\"}}, \"type\": \"scattergeo\"}], \"scattergl\": [{\"marker\": {\"colorbar\": {\"outlinewidth\": 0, \"ticks\": \"\"}}, \"type\": \"scattergl\"}], \"scattermapbox\": [{\"marker\": {\"colorbar\": {\"outlinewidth\": 0, \"ticks\": \"\"}}, \"type\": \"scattermapbox\"}], \"scatterpolar\": [{\"marker\": {\"colorbar\": {\"outlinewidth\": 0, \"ticks\": \"\"}}, \"type\": \"scatterpolar\"}], \"scatterpolargl\": [{\"marker\": {\"colorbar\": {\"outlinewidth\": 0, \"ticks\": \"\"}}, \"type\": \"scatterpolargl\"}], \"scatterternary\": [{\"marker\": {\"colorbar\": {\"outlinewidth\": 0, \"ticks\": \"\"}}, \"type\": \"scatterternary\"}], \"surface\": [{\"colorbar\": {\"outlinewidth\": 0, \"ticks\": \"\"}, \"colorscale\": [[0.0, \"#0d0887\"], [0.1111111111111111, \"#46039f\"], [0.2222222222222222, \"#7201a8\"], [0.3333333333333333, \"#9c179e\"], [0.4444444444444444, \"#bd3786\"], [0.5555555555555556, \"#d8576b\"], [0.6666666666666666, \"#ed7953\"], [0.7777777777777778, \"#fb9f3a\"], [0.8888888888888888, \"#fdca26\"], [1.0, \"#f0f921\"]], \"type\": \"surface\"}], \"table\": [{\"cells\": {\"fill\": {\"color\": \"#EBF0F8\"}, \"line\": {\"color\": \"white\"}}, \"header\": {\"fill\": {\"color\": \"#C8D4E3\"}, \"line\": {\"color\": \"white\"}}, \"type\": \"table\"}]}, \"layout\": {\"annotationdefaults\": {\"arrowcolor\": \"#2a3f5f\", \"arrowhead\": 0, \"arrowwidth\": 1}, \"colorscale\": {\"diverging\": [[0, \"#8e0152\"], [0.1, \"#c51b7d\"], [0.2, \"#de77ae\"], [0.3, \"#f1b6da\"], [0.4, \"#fde0ef\"], [0.5, \"#f7f7f7\"], [0.6, \"#e6f5d0\"], [0.7, \"#b8e186\"], [0.8, \"#7fbc41\"], [0.9, \"#4d9221\"], [1, \"#276419\"]], \"sequential\": [[0.0, \"#0d0887\"], [0.1111111111111111, \"#46039f\"], [0.2222222222222222, \"#7201a8\"], [0.3333333333333333, \"#9c179e\"], [0.4444444444444444, \"#bd3786\"], [0.5555555555555556, \"#d8576b\"], [0.6666666666666666, \"#ed7953\"], [0.7777777777777778, \"#fb9f3a\"], [0.8888888888888888, \"#fdca26\"], [1.0, \"#f0f921\"]], \"sequentialminus\": [[0.0, \"#0d0887\"], [0.1111111111111111, \"#46039f\"], [0.2222222222222222, \"#7201a8\"], [0.3333333333333333, \"#9c179e\"], [0.4444444444444444, \"#bd3786\"], [0.5555555555555556, \"#d8576b\"], [0.6666666666666666, \"#ed7953\"], [0.7777777777777778, \"#fb9f3a\"], [0.8888888888888888, \"#fdca26\"], [1.0, \"#f0f921\"]]}, \"colorway\": [\"#636efa\", \"#EF553B\", \"#00cc96\", \"#ab63fa\", \"#FFA15A\", \"#19d3f3\", \"#FF6692\", \"#B6E880\", \"#FF97FF\", \"#FECB52\"], \"font\": {\"color\": \"#2a3f5f\"}, \"geo\": {\"bgcolor\": \"white\", \"lakecolor\": \"white\", \"landcolor\": \"#E5ECF6\", \"showlakes\": true, \"showland\": true, \"subunitcolor\": \"white\"}, \"hoverlabel\": {\"align\": \"left\"}, \"hovermode\": \"closest\", \"mapbox\": {\"style\": \"light\"}, \"paper_bgcolor\": \"white\", \"plot_bgcolor\": \"#E5ECF6\", \"polar\": {\"angularaxis\": {\"gridcolor\": \"white\", \"linecolor\": \"white\", \"ticks\": \"\"}, \"bgcolor\": \"#E5ECF6\", \"radialaxis\": {\"gridcolor\": \"white\", \"linecolor\": \"white\", \"ticks\": \"\"}}, \"scene\": {\"xaxis\": {\"backgroundcolor\": \"#E5ECF6\", \"gridcolor\": \"white\", \"gridwidth\": 2, \"linecolor\": \"white\", \"showbackground\": true, \"ticks\": \"\", \"zerolinecolor\": \"white\"}, \"yaxis\": {\"backgroundcolor\": \"#E5ECF6\", \"gridcolor\": \"white\", \"gridwidth\": 2, \"linecolor\": \"white\", \"showbackground\": true, \"ticks\": \"\", \"zerolinecolor\": \"white\"}, \"zaxis\": {\"backgroundcolor\": \"#E5ECF6\", \"gridcolor\": \"white\", \"gridwidth\": 2, \"linecolor\": \"white\", \"showbackground\": true, \"ticks\": \"\", \"zerolinecolor\": \"white\"}}, \"shapedefaults\": {\"line\": {\"color\": \"#2a3f5f\"}}, \"ternary\": {\"aaxis\": {\"gridcolor\": \"white\", \"linecolor\": \"white\", \"ticks\": \"\"}, \"baxis\": {\"gridcolor\": \"white\", \"linecolor\": \"white\", \"ticks\": \"\"}, \"bgcolor\": \"#E5ECF6\", \"caxis\": {\"gridcolor\": \"white\", \"linecolor\": \"white\", \"ticks\": \"\"}}, \"title\": {\"x\": 0.05}, \"xaxis\": {\"automargin\": true, \"gridcolor\": \"white\", \"linecolor\": \"white\", \"ticks\": \"\", \"zerolinecolor\": \"white\", \"zerolinewidth\": 2}, \"yaxis\": {\"automargin\": true, \"gridcolor\": \"white\", \"linecolor\": \"white\", \"ticks\": \"\", \"zerolinecolor\": \"white\", \"zerolinewidth\": 2}}}},\n",
              "                        {\"responsive\": true}\n",
              "                    ).then(function(){\n",
              "                            \n",
              "var gd = document.getElementById('14d2b476-24f8-4fb6-9d24-297b8ec91231');\n",
              "var x = new MutationObserver(function (mutations, observer) {{\n",
              "        var display = window.getComputedStyle(gd).display;\n",
              "        if (!display || display === 'none') {{\n",
              "            console.log([gd, 'removed!']);\n",
              "            Plotly.purge(gd);\n",
              "            observer.disconnect();\n",
              "        }}\n",
              "}});\n",
              "\n",
              "// Listen for the removal of the full notebook cells\n",
              "var notebookContainer = gd.closest('#notebook-container');\n",
              "if (notebookContainer) {{\n",
              "    x.observe(notebookContainer, {childList: true});\n",
              "}}\n",
              "\n",
              "// Listen for the clearing of the current output cell\n",
              "var outputEl = gd.closest('.output');\n",
              "if (outputEl) {{\n",
              "    x.observe(outputEl, {childList: true});\n",
              "}}\n",
              "\n",
              "                        })\n",
              "                };\n",
              "                \n",
              "            </script>\n",
              "        </div>\n",
              "</body>\n",
              "</html>"
            ]
          },
          "metadata": {}
        }
      ]
    },
    {
      "cell_type": "code",
      "metadata": {
        "colab": {
          "base_uri": "https://localhost:8080/",
          "height": 132
        },
        "id": "teLNIBRaHd4d",
        "outputId": "e3d20d85-6eac-4470-88c4-3d5df4234d2c"
      },
      "source": [
        "centros = pd.DataFrame(agrupador.cluster_centers_)\n",
        "centros.columns = atributos\n",
        "centros.head()"
      ],
      "execution_count": 79,
      "outputs": [
        {
          "output_type": "execute_result",
          "data": {
            "text/html": [
              "<div>\n",
              "<style scoped>\n",
              "    .dataframe tbody tr th:only-of-type {\n",
              "        vertical-align: middle;\n",
              "    }\n",
              "\n",
              "    .dataframe tbody tr th {\n",
              "        vertical-align: top;\n",
              "    }\n",
              "\n",
              "    .dataframe thead th {\n",
              "        text-align: right;\n",
              "    }\n",
              "</style>\n",
              "<table border=\"1\" class=\"dataframe\">\n",
              "  <thead>\n",
              "    <tr style=\"text-align: right;\">\n",
              "      <th></th>\n",
              "      <th>alcool</th>\n",
              "      <th>acido_malico</th>\n",
              "      <th>po</th>\n",
              "      <th>alcalinidade_po</th>\n",
              "      <th>magnesio</th>\n",
              "      <th>fenois_totais</th>\n",
              "      <th>flavonoides</th>\n",
              "      <th>fenois_nao_flavonoides</th>\n",
              "      <th>proantocianidinas</th>\n",
              "      <th>intensidade_da_cor</th>\n",
              "      <th>matiz</th>\n",
              "      <th>OD280</th>\n",
              "      <th>proline</th>\n",
              "      <th>segmento_de_clientes</th>\n",
              "    </tr>\n",
              "  </thead>\n",
              "  <tbody>\n",
              "    <tr>\n",
              "      <th>0</th>\n",
              "      <td>0.510652</td>\n",
              "      <td>0.460725</td>\n",
              "      <td>0.563025</td>\n",
              "      <td>0.542546</td>\n",
              "      <td>0.300897</td>\n",
              "      <td>0.246360</td>\n",
              "      <td>0.130266</td>\n",
              "      <td>0.634322</td>\n",
              "      <td>0.240098</td>\n",
              "      <td>0.440056</td>\n",
              "      <td>0.219461</td>\n",
              "      <td>0.201581</td>\n",
              "      <td>0.234801</td>\n",
              "      <td>0.880952</td>\n",
              "    </tr>\n",
              "    <tr>\n",
              "      <th>1</th>\n",
              "      <td>0.522929</td>\n",
              "      <td>0.235917</td>\n",
              "      <td>0.524669</td>\n",
              "      <td>0.412461</td>\n",
              "      <td>0.335539</td>\n",
              "      <td>0.566957</td>\n",
              "      <td>0.480261</td>\n",
              "      <td>0.329614</td>\n",
              "      <td>0.445069</td>\n",
              "      <td>0.257887</td>\n",
              "      <td>0.480594</td>\n",
              "      <td>0.650263</td>\n",
              "      <td>0.389034</td>\n",
              "      <td>0.243478</td>\n",
              "    </tr>\n",
              "  </tbody>\n",
              "</table>\n",
              "</div>"
            ],
            "text/plain": [
              "     alcool  acido_malico        po  ...     OD280   proline  segmento_de_clientes\n",
              "0  0.510652      0.460725  0.563025  ...  0.201581  0.234801              0.880952\n",
              "1  0.522929      0.235917  0.524669  ...  0.650263  0.389034              0.243478\n",
              "\n",
              "[2 rows x 14 columns]"
            ]
          },
          "metadata": {},
          "execution_count": 79
        }
      ]
    },
    {
      "cell_type": "code",
      "metadata": {
        "colab": {
          "base_uri": "https://localhost:8080/",
          "height": 542
        },
        "id": "Tv52Gvx0HzlW",
        "outputId": "fe4af9f6-841a-4f53-aee7-850cc73def78"
      },
      "source": [
        "fig.add_trace(go.Scatter3d(x = centros['intensidade_da_cor'],\n",
        "                           y = centros['alcool'],\n",
        "                           z = centros['proline'],\n",
        "                           mode = 'markers',\n",
        "                           marker = dict(color='red'),\n",
        "                           text = [0, 1, 2]))\n",
        "fig.show()"
      ],
      "execution_count": 80,
      "outputs": [
        {
          "output_type": "display_data",
          "data": {
            "text/html": [
              "<html>\n",
              "<head><meta charset=\"utf-8\" /></head>\n",
              "<body>\n",
              "    <div>\n",
              "            <script src=\"https://cdnjs.cloudflare.com/ajax/libs/mathjax/2.7.5/MathJax.js?config=TeX-AMS-MML_SVG\"></script><script type=\"text/javascript\">if (window.MathJax) {MathJax.Hub.Config({SVG: {font: \"STIX-Web\"}});}</script>\n",
              "                <script type=\"text/javascript\">window.PlotlyConfig = {MathJaxConfig: 'local'};</script>\n",
              "        <script src=\"https://cdn.plot.ly/plotly-latest.min.js\"></script>    \n",
              "            <div id=\"68003d7a-4c93-46c1-970d-78d2521a79dc\" class=\"plotly-graph-div\" style=\"height:525px; width:100%;\"></div>\n",
              "            <script type=\"text/javascript\">\n",
              "                \n",
              "                    window.PLOTLYENV=window.PLOTLYENV || {};\n",
              "                    \n",
              "                if (document.getElementById(\"68003d7a-4c93-46c1-970d-78d2521a79dc\")) {\n",
              "                    Plotly.newPlot(\n",
              "                        '68003d7a-4c93-46c1-970d-78d2521a79dc',\n",
              "                        [{\"marker\": {\"color\": [1.0, 1.0, 1.0, 1.0, 1.0, 1.0, 1.0, 1.0, 1.0, 1.0, 1.0, 1.0, 1.0, 1.0, 1.0, 1.0, 1.0, 1.0, 1.0, 1.0, 1.0, 1.0, 1.0, 1.0, 1.0, 1.0, 1.0, 1.0, 1.0, 1.0, 1.0, 1.0, 1.0, 1.0, 1.0, 1.0, 1.0, 1.0, 1.0, 1.0, 1.0, 1.0, 1.0, 1.0, 1.0, 1.0, 1.0, 1.0, 1.0, 1.0, 1.0, 1.0, 1.0, 1.0, 1.0, 1.0, 1.0, 1.0, 1.0, 1.0, 0.0, 0.0, 1.0, 1.0, 1.0, 1.0, 1.0, 1.0, 0.0, 1.0, 0.0, 1.0, 1.0, 1.0, 1.0, 1.0, 1.0, 0.0, 1.0, 1.0, 1.0, 1.0, 1.0, 0.0, 1.0, 1.0, 1.0, 1.0, 1.0, 1.0, 0.0, 0.0, 0.0, 1.0, 1.0, 1.0, 1.0, 1.0, 1.0, 1.0, 1.0, 1.0, 1.0, 1.0, 1.0, 0.0, 1.0, 0.0, 1.0, 1.0, 1.0, 1.0, 0.0, 1.0, 1.0, 1.0, 1.0, 1.0, 0.0, 1.0, 1.0, 1.0, 1.0, 1.0, 1.0, 1.0, 1.0, 0.0, 1.0, 0.0, 0.0, 0.0, 0.0, 0.0, 0.0, 0.0, 0.0, 0.0, 0.0, 0.0, 0.0, 0.0, 0.0, 0.0, 0.0, 0.0, 0.0, 0.0, 0.0, 0.0, 0.0, 0.0, 0.0, 0.0, 0.0, 0.0, 0.0, 0.0, 0.0, 0.0, 0.0, 0.0, 0.0, 0.0, 0.0, 0.0, 0.0, 0.0, 0.0, 0.0, 0.0, 0.0, 0.0, 0.0, 0.0, 0.0, 0.0, 0.0]}, \"mode\": \"markers\", \"text\": [2.0, 2.0, 2.0, 2.0, 2.0, 2.0, 2.0, 2.0, 2.0, 2.0, 2.0, 2.0, 2.0, 2.0, 2.0, 2.0, 2.0, 2.0, 2.0, 2.0, 2.0, 2.0, 2.0, 2.0, 2.0, 2.0, 2.0, 2.0, 2.0, 2.0, 2.0, 2.0, 2.0, 2.0, 2.0, 2.0, 2.0, 2.0, 2.0, 2.0, 2.0, 2.0, 2.0, 2.0, 2.0, 2.0, 2.0, 2.0, 2.0, 2.0, 2.0, 2.0, 2.0, 2.0, 2.0, 2.0, 2.0, 2.0, 2.0, 3.0, 3.0, 3.0, 3.0, 0.0, 3.0, 0.0, 0.0, 0.0, 3.0, 0.0, 3.0, 0.0, 0.0, 0.0, 0.0, 3.0, 0.0, 3.0, 0.0, 0.0, 0.0, 0.0, 3.0, 3.0, 0.0, 0.0, 3.0, 3.0, 3.0, 3.0, 3.0, 3.0, 3.0, 0.0, 0.0, 0.0, 0.0, 0.0, 0.0, 0.0, 0.0, 3.0, 0.0, 3.0, 0.0, 3.0, 3.0, 3.0, 0.0, 0.0, 0.0, 0.0, 3.0, 3.0, 3.0, 3.0, 0.0, 0.0, 3.0, 0.0, 0.0, 0.0, 0.0, 0.0, 0.0, 0.0, 0.0, 3.0, 0.0, 3.0, 1.0, 1.0, 1.0, 1.0, 1.0, 1.0, 1.0, 1.0, 1.0, 1.0, 1.0, 1.0, 1.0, 1.0, 1.0, 1.0, 1.0, 1.0, 1.0, 1.0, 1.0, 1.0, 1.0, 1.0, 1.0, 1.0, 1.0, 1.0, 1.0, 1.0, 1.0, 1.0, 1.0, 1.0, 1.0, 1.0, 1.0, 1.0, 1.0, 1.0, 1.0, 1.0, 1.0, 1.0, 1.0, 1.0, 1.0, 1.0], \"type\": \"scatter3d\", \"x\": [0.37201365187713303, 0.26450511945392485, 0.3754266211604095, 0.5563139931740614, 0.2593856655290102, 0.46672354948805456, 0.3387372013651877, 0.3216723549488054, 0.33447098976109213, 0.5068259385665528, 0.3813993174061433, 0.31740614334470985, 0.3686006825938566, 0.3515358361774744, 0.530716723549488, 0.5136518771331058, 0.4197952218430034, 0.45392491467576784, 0.6331058020477814, 0.32593856655290093, 0.3728668941979522, 0.27474402730375425, 0.21501706484641633, 0.22610921501706485, 0.19112627986348124, 0.19624573378839588, 0.3003412969283276, 0.22781569965870305, 0.27474402730375425, 0.2918088737201365, 0.37713310580204773, 0.47952218430034127, 0.21843003412969278, 0.3515358361774744, 0.24914675767918087, 0.32593856655290093, 0.28327645051194533, 0.2534129692832764, 0.20648464163822525, 0.32593856655290093, 0.41382252559726956, 0.25597269624573377, 0.3540955631399317, 0.26279863481228666, 0.3208191126279863, 0.3378839590443686, 0.30887372013651876, 0.4112627986348122, 0.4197952218430034, 0.6501706484641638, 0.5051194539249146, 0.3686006825938566, 0.4923208191126279, 0.42832764505119447, 0.3899317406143344, 0.42406143344709896, 0.43515358361774736, 0.4027303754266211, 0.4709897610921501, 0.057167235494880536, 0.1697952218430034, 0.3813993174061433, 0.21501706484641633, 0.2704778156996587, 0.14249146757679182, 0.28327645051194533, 0.3430034129692832, 0.2901023890784982, 0.16126279863481227, 0.13395904436860068, 0.1510238907849829, 0.17918088737201363, 0.2098976109215017, 0.17662116040955633, 0.16467576791808872, 0.21501706484641633, 0.28327645051194533, 0.11689419795221842, 0.18088737201365188, 0.1100682593856655, 0.10409556313993173, 0.2235494880546075, 0.07849829351535836, 0.3003412969283276, 0.1510238907849829, 0.11433447098976109, 0.09982935153583619, 0.11262798634812286, 0.1296928327645051, 0.039249146757679175, 0.09556313993174059, 0.19795221843003413, 0.1510238907849829, 0.07423208191126278, 0.16808873720136516, 0.11262798634812286, 0.10409556313993173, 0.13822525597269622, 0.27474402730375425, 0.08703071672354946, 0.1723549488054607, 0.09982935153583619, 0.1296928327645051, 0.06655290102389079, 0.1416382252559727, 0.121160409556314, 0.18088737201365188, 0.1723549488054607, 0.121160409556314, 0.11689419795221842, 0.13822525597269622, 0.0614334470989761, 0.21501706484641633, 0.15358361774744028, 0.13822525597269622, 0.05290102389078497, 0.057167235494880536, 0.06655290102389079, 0.18088737201365188, 0.0, 0.16808873720136516, 0.4027303754266211, 0.06825938566552901, 0.11262798634812286, 0.1296928327645051, 0.12627986348122863, 0.22696245733788395, 0.14675767918088736, 0.07167235494880546, 0.11262798634812286, 0.2406143344709897, 0.3515358361774744, 0.37713310580204773, 0.31740614334470985, 0.35580204778156993, 0.49658703071672344, 0.21928327645051196, 0.31740614334470985, 0.37713310580204773, 0.31058020477815695, 0.28327645051194533, 0.3686006825938566, 0.26194539249146753, 0.26621160409556316, 0.591296928327645, 0.2320819112627986, 0.30887372013651876, 0.5435153583617747, 0.6092150170648464, 0.6928327645051195, 0.6245733788395904, 0.8122866894197953, 0.49658703071672344, 0.78839590443686, 0.5392491467576791, 0.5648464163822525, 0.6595563139931739, 0.530716723549488, 1.0, 0.893344709897611, 0.5435153583617747, 0.39249146757679176, 0.3668941979522184, 0.341296928327645, 0.7081911262798635, 0.4556313993174061, 0.8020477815699658, 0.7662116040955631, 0.629692832764505, 0.6160409556313993, 0.3600682593856655, 0.7354947952218431, 0.7184300341296928, 0.5477815699658702, 0.5136518771331058, 0.7610921501706485, 0.6843003412969284, 0.675767918088737], \"y\": [0.8421052631578949, 0.5710526315789473, 0.5605263157894738, 0.8789473684210525, 0.5815789473684212, 0.8342105263157893, 0.8842105263157897, 0.7973684210526317, 1.0, 0.744736842105263, 0.8078947368421052, 0.813157894736842, 0.7157894736842105, 0.9789473684210526, 0.8815789473684212, 0.6842105263157897, 0.8605263157894739, 0.736842105263158, 0.831578947368421, 0.686842105263158, 0.7973684210526317, 0.5, 0.7052631578947371, 0.4789473684210526, 0.65, 0.5315789473684213, 0.6210526315789475, 0.5973684210526318, 0.7473684210526313, 0.7868421052631578, 0.7105263157894738, 0.6710526315789475, 0.6973684210526315, 0.718421052631579, 0.6526315789473685, 0.6447368421052633, 0.5921052631578946, 0.5315789473684213, 0.536842105263158, 0.8394736842105265, 0.6657894736842107, 0.6263157894736843, 0.7500000000000002, 0.5815789473684212, 0.5315789473684213, 0.8368421052631582, 0.8815789473684212, 0.755263157894737, 0.8078947368421052, 0.7657894736842105, 0.5315789473684213, 0.736842105263158, 0.7342105263157895, 0.7210526315789473, 0.7131578947368422, 0.6657894736842107, 0.8394736842105265, 0.594736842105263, 0.7078947368421055, 0.3526315789473683, 0.34210526315789486, 0.42368421052631605, 0.6947368421052632, 0.3526315789473683, 0.3000000000000001, 0.3526315789473683, 0.5473684210526315, 0.3526315789473683, 0.6078947368421053, 0.31052631578947404, 0.3315789473684209, 0.744736842105263, 0.6473684210526317, 0.5157894736842107, 0.2447368421052635, 0.1657894736842107, 0.5263157894736841, 0.21315789473684219, 0.34210526315789486, 0.43947368421052624, 0.25526315789473697, 0.44473684210526343, 0.27631578947368435, 0.5315789473684213, 0.21315789473684219, 0.4315789473684211, 0.2973684210526317, 0.16315789473684233, 0.16052631578947396, 0.27631578947368435, 0.27631578947368435, 0.25526315789473697, 0.43684210526315786, 0.3315789473684209, 0.15526315789473677, 0.3789473684210529, 0.2052631578947371, 0.3315789473684209, 0.3526315789473683, 0.3315789473684209, 0.27631578947368435, 0.4131578947368421, 0.34473684210526323, 0.20789473684210547, 0.38947368421052636, 0.3657894736842106, 0.3210526315789475, 0.44473684210526343, 0.31315789473684236, 0.15263157894736842, 0.11315789473684247, 0.39210526315789473, 0.1921052631578948, 0.10000000000000019, 0.27631578947368435, 0.0, 0.20789473684210547, 0.3657894736842106, 0.45789473684210524, 0.25526315789473697, 0.11052631578947364, 0.13947368421052658, 0.3657894736842106, 0.5315789473684213, 0.22105263157894728, 0.273684210526316, 0.368421052631579, 0.1999999999999999, 0.3526315789473683, 0.2657894736842104, 0.481578947368421, 0.4868421052631582, 0.4684210526315792, 0.43947368421052624, 0.38947368421052636, 0.4131578947368421, 0.3210526315789475, 0.3947368421052631, 0.6473684210526317, 0.47631578947368425, 0.5, 0.613157894736842, 0.6552631578947368, 0.6815789473684208, 0.3210526315789475, 0.5605263157894738, 0.7500000000000002, 0.48421052631578937, 0.6026315789473685, 0.5394736842105264, 0.65, 0.46315789473684194, 0.5473684210526315, 0.5789473684210528, 0.40789473684210537, 0.5631578947368422, 0.7394736842105263, 0.3736842105263157, 0.8710526315789473, 0.6447368421052633, 0.35, 0.7, 0.4789473684210526, 0.5078947368421055, 0.7236842105263157, 0.7105263157894738, 0.6368421052631578, 0.4710526315789475, 0.6710526315789475, 0.623684210526316, 0.30789473684210517, 0.45789473684210524, 0.8236842105263158, 0.7052631578947371, 0.623684210526316, 0.5894736842105263, 0.5631578947368422, 0.8157894736842107], \"z\": [0.5613409415121255, 0.550641940085592, 0.6469329529243937, 0.8573466476462197, 0.325962910128388, 0.8359486447931527, 0.7218259629101283, 0.7253922967189729, 0.5470756062767475, 0.5470756062767475, 0.8787446504992867, 0.7146932952924394, 0.7432239657631954, 0.6219686162624821, 0.9051355206847361, 0.7360912981455064, 0.7146932952924394, 0.6077032810271041, 1.0, 0.4044222539229672, 0.35805991440798857, 0.3509272467902996, 0.5399429386590585, 0.5256776034236804, 0.4044222539229672, 0.39372325249643364, 0.6540656205420827, 0.7182596291012838, 0.4543509272467903, 0.5399429386590585, 0.7182596291012838, 0.8823109843081313, 0.5078459343794579, 0.6825962910128388, 0.5827389443651926, 0.4579172610556348, 0.42938659058487877, 0.5898716119828816, 0.5292439372325249, 0.3437945791726106, 0.36875891583452214, 0.5399429386590585, 0.5827389443651926, 0.2867332382310984, 0.43295292439372324, 0.572039942938659, 0.5613409415121255, 0.5042796005706134, 0.557774607703281, 0.7004279600570613, 0.6219686162624821, 0.7039942938659058, 0.6504992867332382, 0.782453637660485, 0.557774607703281, 0.6005706134094151, 0.49358059914407987, 0.7075606276747504, 0.7182596291012838, 0.17261055634807418, 0.2867332382310984, 0.12268188302425106, 0.25106990014265335, 0.10128388017118402, 0.05492154065620542, 0.28530670470756064, 0.15977175463623394, 0.16547788873038516, 0.33666191155492153, 0.31383737517831667, 0.4222539229671897, 0.09415121255349501, 0.1383737517831669, 0.5042796005706134, 0.43366619115549215, 0.10699001426533523, 0.08131241084165478, 0.15834522111269614, 0.33666191155492153, 0.13195435092724678, 0.0, 0.31098430813124106, 0.25106990014265335, 0.16904422253922968, 0.17261055634807418, 0.12268188302425106, 0.15477888730385164, 0.20256776034236804, 0.2867332382310984, 0.24750356633380885, 0.14407988587731813, 0.12268188302425106, 0.15477888730385164, 0.008559201141226819, 0.04778887303851641, 0.47004279600570614, 0.24750356633380885, 0.10699001426533523, 0.2724679029957204, 0.0912981455064194, 0.30813124108416545, 0.20256776034236804, 0.11412268188302425, 0.09771754636233952, 0.2810271041369472, 0.026390870185449358, 0.16547788873038516, 0.14978601997146934, 0.024251069900142655, 0.2867332382310984, 0.20256776034236804, 0.033523537803138374, 0.2346647646219686, 0.11126961483594865, 0.07631954350927246, 0.0920114122681883, 0.15477888730385164, 0.04778887303851641, 0.06704707560627675, 0.20399429386590584, 0.24750356633380885, 0.13338088445078458, 0.062054208273894434, 0.07275320970042796, 0.07275320970042796, 0.07132667617689016, 0.052781740370898715, 0.1340941512125535, 0.0456490727532097, 0.21540656205420827, 0.25106990014265335, 0.1797432239657632, 0.20114122681883023, 0.2296718972895863, 0.2653352353780314, 0.29743223965763194, 0.3152639087018545, 0.16904422253922968, 0.21540656205420827, 0.2225392296718973, 0.2296718972895863, 0.35805991440798857, 0.17261055634807418, 0.19400855920114124, 0.4115549215406562, 0.39372325249643364, 0.09771754636233952, 0.24750356633380885, 0.2653352353780314, 0.19400855920114124, 0.15834522111269614, 0.14407988587731813, 0.10485021398002853, 0.2831669044222539, 0.2582025677603424, 0.318830242510699, 0.14407988587731813, 0.42938659058487877, 0.2724679029957204, 0.24393723252496433, 0.17261055634807418, 0.2867332382310984, 0.20827389443651925, 0.2831669044222539, 0.24037089871611983, 0.17261055634807418, 0.29743223965763194, 0.29029957203994294, 0.33666191155492153, 0.25106990014265335, 0.16547788873038516, 0.1369472182596291, 0.2724679029957204, 0.32952924393723254, 0.33666191155492153, 0.39728958630527816, 0.4008559201141227, 0.20114122681883023]}, {\"marker\": {\"color\": \"red\"}, \"mode\": \"markers\", \"text\": [\"0\", \"1\", \"2\"], \"type\": \"scatter3d\", \"x\": [0.44005633972587893, 0.2578869268437453], \"y\": [0.5106516290726817, 0.5229290617848972], \"z\": [0.23480062495754367, 0.3890342988277615]}],\n",
              "                        {\"scene\": {\"xaxis\": {\"title\": {\"text\": \"Intensidade da cor\"}}, \"yaxis\": {\"title\": {\"text\": \"Alcool\"}}, \"zaxis\": {\"title\": {\"text\": \"Proline\"}}}, \"template\": {\"data\": {\"bar\": [{\"error_x\": {\"color\": \"#2a3f5f\"}, \"error_y\": {\"color\": \"#2a3f5f\"}, \"marker\": {\"line\": {\"color\": \"#E5ECF6\", \"width\": 0.5}}, \"type\": \"bar\"}], \"barpolar\": [{\"marker\": {\"line\": {\"color\": \"#E5ECF6\", \"width\": 0.5}}, \"type\": \"barpolar\"}], \"carpet\": [{\"aaxis\": {\"endlinecolor\": \"#2a3f5f\", \"gridcolor\": \"white\", \"linecolor\": \"white\", \"minorgridcolor\": \"white\", \"startlinecolor\": \"#2a3f5f\"}, \"baxis\": {\"endlinecolor\": \"#2a3f5f\", \"gridcolor\": \"white\", \"linecolor\": \"white\", \"minorgridcolor\": \"white\", \"startlinecolor\": \"#2a3f5f\"}, \"type\": \"carpet\"}], \"choropleth\": [{\"colorbar\": {\"outlinewidth\": 0, \"ticks\": \"\"}, \"type\": \"choropleth\"}], \"contour\": [{\"colorbar\": {\"outlinewidth\": 0, \"ticks\": \"\"}, \"colorscale\": [[0.0, \"#0d0887\"], [0.1111111111111111, \"#46039f\"], [0.2222222222222222, \"#7201a8\"], [0.3333333333333333, \"#9c179e\"], [0.4444444444444444, \"#bd3786\"], [0.5555555555555556, \"#d8576b\"], [0.6666666666666666, \"#ed7953\"], [0.7777777777777778, \"#fb9f3a\"], [0.8888888888888888, \"#fdca26\"], [1.0, \"#f0f921\"]], \"type\": \"contour\"}], \"contourcarpet\": [{\"colorbar\": {\"outlinewidth\": 0, \"ticks\": \"\"}, \"type\": \"contourcarpet\"}], \"heatmap\": [{\"colorbar\": {\"outlinewidth\": 0, \"ticks\": \"\"}, \"colorscale\": [[0.0, \"#0d0887\"], [0.1111111111111111, \"#46039f\"], [0.2222222222222222, \"#7201a8\"], [0.3333333333333333, \"#9c179e\"], [0.4444444444444444, \"#bd3786\"], [0.5555555555555556, \"#d8576b\"], [0.6666666666666666, \"#ed7953\"], [0.7777777777777778, \"#fb9f3a\"], [0.8888888888888888, \"#fdca26\"], [1.0, \"#f0f921\"]], \"type\": \"heatmap\"}], \"heatmapgl\": [{\"colorbar\": {\"outlinewidth\": 0, \"ticks\": \"\"}, \"colorscale\": [[0.0, \"#0d0887\"], [0.1111111111111111, \"#46039f\"], [0.2222222222222222, \"#7201a8\"], [0.3333333333333333, \"#9c179e\"], [0.4444444444444444, \"#bd3786\"], [0.5555555555555556, \"#d8576b\"], [0.6666666666666666, \"#ed7953\"], [0.7777777777777778, \"#fb9f3a\"], [0.8888888888888888, \"#fdca26\"], [1.0, \"#f0f921\"]], \"type\": \"heatmapgl\"}], \"histogram\": [{\"marker\": {\"colorbar\": {\"outlinewidth\": 0, \"ticks\": \"\"}}, \"type\": \"histogram\"}], \"histogram2d\": [{\"colorbar\": {\"outlinewidth\": 0, \"ticks\": \"\"}, \"colorscale\": [[0.0, \"#0d0887\"], [0.1111111111111111, \"#46039f\"], [0.2222222222222222, \"#7201a8\"], [0.3333333333333333, \"#9c179e\"], [0.4444444444444444, \"#bd3786\"], [0.5555555555555556, \"#d8576b\"], [0.6666666666666666, \"#ed7953\"], [0.7777777777777778, \"#fb9f3a\"], [0.8888888888888888, \"#fdca26\"], [1.0, \"#f0f921\"]], \"type\": \"histogram2d\"}], \"histogram2dcontour\": [{\"colorbar\": {\"outlinewidth\": 0, \"ticks\": \"\"}, \"colorscale\": [[0.0, \"#0d0887\"], [0.1111111111111111, \"#46039f\"], [0.2222222222222222, \"#7201a8\"], [0.3333333333333333, \"#9c179e\"], [0.4444444444444444, \"#bd3786\"], [0.5555555555555556, \"#d8576b\"], [0.6666666666666666, \"#ed7953\"], [0.7777777777777778, \"#fb9f3a\"], [0.8888888888888888, \"#fdca26\"], [1.0, \"#f0f921\"]], \"type\": \"histogram2dcontour\"}], \"mesh3d\": [{\"colorbar\": {\"outlinewidth\": 0, \"ticks\": \"\"}, \"type\": \"mesh3d\"}], \"parcoords\": [{\"line\": {\"colorbar\": {\"outlinewidth\": 0, \"ticks\": \"\"}}, \"type\": \"parcoords\"}], \"scatter\": [{\"marker\": {\"colorbar\": {\"outlinewidth\": 0, \"ticks\": \"\"}}, \"type\": \"scatter\"}], \"scatter3d\": [{\"line\": {\"colorbar\": {\"outlinewidth\": 0, \"ticks\": \"\"}}, \"marker\": {\"colorbar\": {\"outlinewidth\": 0, \"ticks\": \"\"}}, \"type\": \"scatter3d\"}], \"scattercarpet\": [{\"marker\": {\"colorbar\": {\"outlinewidth\": 0, \"ticks\": \"\"}}, \"type\": \"scattercarpet\"}], \"scattergeo\": [{\"marker\": {\"colorbar\": {\"outlinewidth\": 0, \"ticks\": \"\"}}, \"type\": \"scattergeo\"}], \"scattergl\": [{\"marker\": {\"colorbar\": {\"outlinewidth\": 0, \"ticks\": \"\"}}, \"type\": \"scattergl\"}], \"scattermapbox\": [{\"marker\": {\"colorbar\": {\"outlinewidth\": 0, \"ticks\": \"\"}}, \"type\": \"scattermapbox\"}], \"scatterpolar\": [{\"marker\": {\"colorbar\": {\"outlinewidth\": 0, \"ticks\": \"\"}}, \"type\": \"scatterpolar\"}], \"scatterpolargl\": [{\"marker\": {\"colorbar\": {\"outlinewidth\": 0, \"ticks\": \"\"}}, \"type\": \"scatterpolargl\"}], \"scatterternary\": [{\"marker\": {\"colorbar\": {\"outlinewidth\": 0, \"ticks\": \"\"}}, \"type\": \"scatterternary\"}], \"surface\": [{\"colorbar\": {\"outlinewidth\": 0, \"ticks\": \"\"}, \"colorscale\": [[0.0, \"#0d0887\"], [0.1111111111111111, \"#46039f\"], [0.2222222222222222, \"#7201a8\"], [0.3333333333333333, \"#9c179e\"], [0.4444444444444444, \"#bd3786\"], [0.5555555555555556, \"#d8576b\"], [0.6666666666666666, \"#ed7953\"], [0.7777777777777778, \"#fb9f3a\"], [0.8888888888888888, \"#fdca26\"], [1.0, \"#f0f921\"]], \"type\": \"surface\"}], \"table\": [{\"cells\": {\"fill\": {\"color\": \"#EBF0F8\"}, \"line\": {\"color\": \"white\"}}, \"header\": {\"fill\": {\"color\": \"#C8D4E3\"}, \"line\": {\"color\": \"white\"}}, \"type\": \"table\"}]}, \"layout\": {\"annotationdefaults\": {\"arrowcolor\": \"#2a3f5f\", \"arrowhead\": 0, \"arrowwidth\": 1}, \"colorscale\": {\"diverging\": [[0, \"#8e0152\"], [0.1, \"#c51b7d\"], [0.2, \"#de77ae\"], [0.3, \"#f1b6da\"], [0.4, \"#fde0ef\"], [0.5, \"#f7f7f7\"], [0.6, \"#e6f5d0\"], [0.7, \"#b8e186\"], [0.8, \"#7fbc41\"], [0.9, \"#4d9221\"], [1, \"#276419\"]], \"sequential\": [[0.0, \"#0d0887\"], [0.1111111111111111, \"#46039f\"], [0.2222222222222222, \"#7201a8\"], [0.3333333333333333, \"#9c179e\"], [0.4444444444444444, \"#bd3786\"], [0.5555555555555556, \"#d8576b\"], [0.6666666666666666, \"#ed7953\"], [0.7777777777777778, \"#fb9f3a\"], [0.8888888888888888, \"#fdca26\"], [1.0, \"#f0f921\"]], \"sequentialminus\": [[0.0, \"#0d0887\"], [0.1111111111111111, \"#46039f\"], [0.2222222222222222, \"#7201a8\"], [0.3333333333333333, \"#9c179e\"], [0.4444444444444444, \"#bd3786\"], [0.5555555555555556, \"#d8576b\"], [0.6666666666666666, \"#ed7953\"], [0.7777777777777778, \"#fb9f3a\"], [0.8888888888888888, \"#fdca26\"], [1.0, \"#f0f921\"]]}, \"colorway\": [\"#636efa\", \"#EF553B\", \"#00cc96\", \"#ab63fa\", \"#FFA15A\", \"#19d3f3\", \"#FF6692\", \"#B6E880\", \"#FF97FF\", \"#FECB52\"], \"font\": {\"color\": \"#2a3f5f\"}, \"geo\": {\"bgcolor\": \"white\", \"lakecolor\": \"white\", \"landcolor\": \"#E5ECF6\", \"showlakes\": true, \"showland\": true, \"subunitcolor\": \"white\"}, \"hoverlabel\": {\"align\": \"left\"}, \"hovermode\": \"closest\", \"mapbox\": {\"style\": \"light\"}, \"paper_bgcolor\": \"white\", \"plot_bgcolor\": \"#E5ECF6\", \"polar\": {\"angularaxis\": {\"gridcolor\": \"white\", \"linecolor\": \"white\", \"ticks\": \"\"}, \"bgcolor\": \"#E5ECF6\", \"radialaxis\": {\"gridcolor\": \"white\", \"linecolor\": \"white\", \"ticks\": \"\"}}, \"scene\": {\"xaxis\": {\"backgroundcolor\": \"#E5ECF6\", \"gridcolor\": \"white\", \"gridwidth\": 2, \"linecolor\": \"white\", \"showbackground\": true, \"ticks\": \"\", \"zerolinecolor\": \"white\"}, \"yaxis\": {\"backgroundcolor\": \"#E5ECF6\", \"gridcolor\": \"white\", \"gridwidth\": 2, \"linecolor\": \"white\", \"showbackground\": true, \"ticks\": \"\", \"zerolinecolor\": \"white\"}, \"zaxis\": {\"backgroundcolor\": \"#E5ECF6\", \"gridcolor\": \"white\", \"gridwidth\": 2, \"linecolor\": \"white\", \"showbackground\": true, \"ticks\": \"\", \"zerolinecolor\": \"white\"}}, \"shapedefaults\": {\"line\": {\"color\": \"#2a3f5f\"}}, \"ternary\": {\"aaxis\": {\"gridcolor\": \"white\", \"linecolor\": \"white\", \"ticks\": \"\"}, \"baxis\": {\"gridcolor\": \"white\", \"linecolor\": \"white\", \"ticks\": \"\"}, \"bgcolor\": \"#E5ECF6\", \"caxis\": {\"gridcolor\": \"white\", \"linecolor\": \"white\", \"ticks\": \"\"}}, \"title\": {\"x\": 0.05}, \"xaxis\": {\"automargin\": true, \"gridcolor\": \"white\", \"linecolor\": \"white\", \"ticks\": \"\", \"zerolinecolor\": \"white\", \"zerolinewidth\": 2}, \"yaxis\": {\"automargin\": true, \"gridcolor\": \"white\", \"linecolor\": \"white\", \"ticks\": \"\", \"zerolinecolor\": \"white\", \"zerolinewidth\": 2}}}},\n",
              "                        {\"responsive\": true}\n",
              "                    ).then(function(){\n",
              "                            \n",
              "var gd = document.getElementById('68003d7a-4c93-46c1-970d-78d2521a79dc');\n",
              "var x = new MutationObserver(function (mutations, observer) {{\n",
              "        var display = window.getComputedStyle(gd).display;\n",
              "        if (!display || display === 'none') {{\n",
              "            console.log([gd, 'removed!']);\n",
              "            Plotly.purge(gd);\n",
              "            observer.disconnect();\n",
              "        }}\n",
              "}});\n",
              "\n",
              "// Listen for the removal of the full notebook cells\n",
              "var notebookContainer = gd.closest('#notebook-container');\n",
              "if (notebookContainer) {{\n",
              "    x.observe(notebookContainer, {childList: true});\n",
              "}}\n",
              "\n",
              "// Listen for the clearing of the current output cell\n",
              "var outputEl = gd.closest('.output');\n",
              "if (outputEl) {{\n",
              "    x.observe(outputEl, {childList: true});\n",
              "}}\n",
              "\n",
              "                        })\n",
              "                };\n",
              "                \n",
              "            </script>\n",
              "        </div>\n",
              "</body>\n",
              "</html>"
            ]
          },
          "metadata": {}
        }
      ]
    },
    {
      "cell_type": "markdown",
      "metadata": {
        "id": "BYdZy7kIH_a5"
      },
      "source": [
        "# 2 - Usando o algoritmo DBSCAN"
      ]
    },
    {
      "cell_type": "code",
      "metadata": {
        "colab": {
          "base_uri": "https://localhost:8080/"
        },
        "id": "IyHlhCjeH2o_",
        "outputId": "19133c8f-17a5-4a12-986e-666fcc32ea5b"
      },
      "source": [
        "from sklearn.cluster import DBSCAN\n",
        "agrupador = DBSCAN(eps = 1.31,\n",
        "                   min_samples = 10,\n",
        "                   metric = 'manhattan')\n",
        "agrupador.fit(df)"
      ],
      "execution_count": 81,
      "outputs": [
        {
          "output_type": "execute_result",
          "data": {
            "text/plain": [
              "DBSCAN(algorithm='auto', eps=1.31, leaf_size=30, metric='manhattan',\n",
              "       metric_params=None, min_samples=10, n_jobs=None, p=None)"
            ]
          },
          "metadata": {},
          "execution_count": 81
        }
      ]
    },
    {
      "cell_type": "code",
      "metadata": {
        "colab": {
          "base_uri": "https://localhost:8080/"
        },
        "id": "Isymt9QeICvJ",
        "outputId": "3dd8788d-f272-48f8-833f-61730466b00e"
      },
      "source": [
        "#Visualizando o número total de clusters\n",
        "np.unique(agrupador.labels_)"
      ],
      "execution_count": 82,
      "outputs": [
        {
          "output_type": "execute_result",
          "data": {
            "text/plain": [
              "array([-1,  0,  1,  2])"
            ]
          },
          "metadata": {},
          "execution_count": 82
        }
      ]
    },
    {
      "cell_type": "code",
      "metadata": {
        "colab": {
          "base_uri": "https://localhost:8080/"
        },
        "id": "K1f6-SmKIGGe",
        "outputId": "6e111cb0-7611-463d-a7fd-712c59550fa2"
      },
      "source": [
        "#Quando reduzimos muito o epsilon, todos os dados são consideradas ruídos. Para se oranizar em clusters é necessário um número mínimo de 15 vizinhos.\n",
        "agrupador = DBSCAN(eps=0.01, min_samples = 15, metric = 'manhattan')\n",
        "\n",
        "# Observações: eps é a máxima distância entre os pontos/ mínimo de pontos é igual a 15/ a métrica de distância considerada'manhattan'\n",
        "agrupador.fit(df)\n",
        "agrupador.labels_"
      ],
      "execution_count": 83,
      "outputs": [
        {
          "output_type": "execute_result",
          "data": {
            "text/plain": [
              "array([-1, -1, -1, -1, -1, -1, -1, -1, -1, -1, -1, -1, -1, -1, -1, -1, -1,\n",
              "       -1, -1, -1, -1, -1, -1, -1, -1, -1, -1, -1, -1, -1, -1, -1, -1, -1,\n",
              "       -1, -1, -1, -1, -1, -1, -1, -1, -1, -1, -1, -1, -1, -1, -1, -1, -1,\n",
              "       -1, -1, -1, -1, -1, -1, -1, -1, -1, -1, -1, -1, -1, -1, -1, -1, -1,\n",
              "       -1, -1, -1, -1, -1, -1, -1, -1, -1, -1, -1, -1, -1, -1, -1, -1, -1,\n",
              "       -1, -1, -1, -1, -1, -1, -1, -1, -1, -1, -1, -1, -1, -1, -1, -1, -1,\n",
              "       -1, -1, -1, -1, -1, -1, -1, -1, -1, -1, -1, -1, -1, -1, -1, -1, -1,\n",
              "       -1, -1, -1, -1, -1, -1, -1, -1, -1, -1, -1, -1, -1, -1, -1, -1, -1,\n",
              "       -1, -1, -1, -1, -1, -1, -1, -1, -1, -1, -1, -1, -1, -1, -1, -1, -1,\n",
              "       -1, -1, -1, -1, -1, -1, -1, -1, -1, -1, -1, -1, -1, -1, -1, -1, -1,\n",
              "       -1, -1, -1, -1, -1, -1, -1, -1])"
            ]
          },
          "metadata": {},
          "execution_count": 83
        }
      ]
    },
    {
      "cell_type": "markdown",
      "metadata": {
        "id": "XQRc-hANI-kR"
      },
      "source": [
        "Obs. Todos as nossas amostras foram consideradas ruídos"
      ]
    },
    {
      "cell_type": "code",
      "metadata": {
        "colab": {
          "base_uri": "https://localhost:8080/"
        },
        "id": "MGwVnpV9IQlj",
        "outputId": "45dc4a9d-82ab-4aaf-bcee-df72ea3ba72c"
      },
      "source": [
        "#Ajustando o epsilon\n",
        "agrupador = DBSCAN(eps=1.5, min_samples = 15, metric = 'manhattan')\n",
        "agrupador.fit(df)\n",
        "agrupador.labels_"
      ],
      "execution_count": 86,
      "outputs": [
        {
          "output_type": "execute_result",
          "data": {
            "text/plain": [
              "array([ 0,  0,  0,  0,  0,  0,  0,  0,  0,  0,  0,  0,  0,  0,  0,  0,  0,\n",
              "        0,  0,  0,  0,  0,  0,  0,  0, -1,  0,  0,  0,  0,  0,  0,  0,  0,\n",
              "        0,  0,  0,  0,  0,  0,  0,  0,  0,  0,  0,  0,  0,  0,  0,  0, -1,\n",
              "        0,  0,  0,  0,  0,  0,  0,  0, -1, -1, -1,  1,  1,  1,  1, -1,  1,\n",
              "       -1, -1, -1, -1,  1, -1, -1,  1,  1,  1, -1, -1,  1,  1,  1, -1,  1,\n",
              "        1,  1,  1,  1,  1,  1,  1,  1,  1,  1, -1, -1,  1,  1, -1,  1,  1,\n",
              "        1,  1,  1,  1,  1,  1,  1, -1, -1,  1, -1,  1,  1, -1,  1,  1, -1,\n",
              "        1,  1, -1,  1, -1, -1,  1,  1,  1,  1,  1, -1,  2,  2,  2,  2,  2,\n",
              "        2,  2,  2, -1,  2,  2,  2,  2,  2,  2,  2,  2,  2,  2,  2,  2, -1,\n",
              "        2,  2,  2,  2,  2, -1, -1,  2,  2,  2,  2,  2,  2,  2,  2,  2,  2,\n",
              "        2,  2,  2,  2,  2,  2,  2,  2])"
            ]
          },
          "metadata": {},
          "execution_count": 86
        }
      ]
    },
    {
      "cell_type": "code",
      "metadata": {
        "colab": {
          "base_uri": "https://localhost:8080/"
        },
        "id": "FrzLx_NDLW9s",
        "outputId": "d2db1343-a932-4867-b04c-79c828d4e07f"
      },
      "source": [
        "#Usando o método 'euclidean'\n",
        "agrupador = DBSCAN(eps=0.5, min_samples = 15, metric = 'euclidean')\n",
        "agrupador.fit(df)\n",
        "agrupador.labels_"
      ],
      "execution_count": 87,
      "outputs": [
        {
          "output_type": "execute_result",
          "data": {
            "text/plain": [
              "array([ 0,  0,  0,  0,  0,  0,  0,  0,  0,  0,  0,  0,  0, -1,  0,  0,  0,\n",
              "        0,  0,  0,  0,  0,  0,  0,  0, -1,  0,  0,  0,  0,  0,  0,  0,  0,\n",
              "        0,  0,  0,  0,  0, -1,  0, -1,  0, -1,  0,  0,  0,  0,  0,  0, -1,\n",
              "        0,  0,  0,  0,  0,  0,  0,  0, -1, -1, -1, -1,  1, -1,  1,  1,  1,\n",
              "       -1, -1, -1, -1,  1, -1, -1, -1,  1,  1, -1, -1,  1,  1,  1, -1, -1,\n",
              "        1,  1,  1,  1,  1,  1,  1, -1,  1,  1, -1, -1,  1, -1, -1,  1,  1,\n",
              "        1,  1,  1, -1,  1,  1,  1, -1, -1,  1,  1,  1,  1, -1,  1,  1, -1,\n",
              "        1,  1, -1, -1, -1, -1,  1,  1, -1,  1, -1, -1,  2,  2, -1, -1, -1,\n",
              "       -1, -1,  2, -1,  2,  2,  2,  2,  2,  2,  2,  2,  2,  2, -1, -1, -1,\n",
              "        2, -1,  2,  2, -1, -1, -1,  2,  2,  2,  2,  2,  2,  2,  2,  2,  2,\n",
              "        2,  2,  2,  2,  2,  2,  2,  2])"
            ]
          },
          "metadata": {},
          "execution_count": 87
        }
      ]
    },
    {
      "cell_type": "markdown",
      "metadata": {
        "id": "OhnKQ63rLO7c"
      },
      "source": [
        "## Anotações\n",
        "\n",
        "Observações:\n",
        "- O 'eps' e o 'min_samples' variam de forma inversalmente proporcionais\n",
        "- O método influencia a forma de como o 'eps' é calculado\n",
        "\n",
        "Outras métricas de distância:\n",
        "- Do scikit-learn: [‘cityblock’, ‘cosine’, ‘euclidean’, ‘l1’, ‘l2’, ‘manhattan’] \n",
        "- Do scipy.spatial.distance: [‘braycurtis’, ‘canberra’, ‘chebyshev’, ‘correlation’, ‘dice’, ‘hamming’, ‘jaccard’, ‘kulsinski’, ‘mahalanobis’, ‘minkowski’, ‘rogerstanimoto’, ‘russellrao’, ‘seuclidean’, ‘sokalmichener’, ‘sokalsneath’, ‘sqeuclidean’, ‘yule’]"
      ]
    },
    {
      "cell_type": "markdown",
      "metadata": {
        "id": "DEOiLQFzM2Ee"
      },
      "source": [
        "# 3 - Usando o MeansShift\n",
        "Método de clusterização em que não precisa parametrizar nada"
      ]
    },
    {
      "cell_type": "code",
      "metadata": {
        "id": "EkGKyvl_PFZp"
      },
      "source": [
        "from sklearn.cluster import estimate_bandwidth"
      ],
      "execution_count": 92,
      "outputs": []
    },
    {
      "cell_type": "code",
      "metadata": {
        "colab": {
          "base_uri": "https://localhost:8080/"
        },
        "id": "aJet17FBOywJ",
        "outputId": "e89c4388-b76b-4b05-dac2-d1e39aa39512"
      },
      "source": [
        "from sklearn.cluster import MeanShift\n",
        "BW = estimate_bandwidth(df, quantile = 0.2)\n",
        "agrupador = MeanShift(BW)\n",
        "agrupador.fit(df)\n",
        "agrupador.labels_"
      ],
      "execution_count": 100,
      "outputs": [
        {
          "output_type": "execute_result",
          "data": {
            "text/plain": [
              "array([1, 1, 1, 1, 1, 1, 1, 1, 1, 1, 1, 1, 1, 1, 1, 1, 1, 1, 1, 1, 1, 1,\n",
              "       1, 1, 1, 1, 1, 1, 1, 1, 1, 1, 1, 1, 1, 1, 1, 1, 1, 1, 1, 1, 1, 1,\n",
              "       1, 1, 1, 1, 1, 1, 1, 1, 1, 1, 1, 1, 1, 1, 1, 0, 0, 0, 0, 0, 0, 0,\n",
              "       0, 0, 0, 3, 0, 0, 0, 4, 0, 0, 0, 0, 3, 0, 0, 0, 0, 2, 0, 0, 0, 0,\n",
              "       0, 0, 0, 0, 0, 0, 0, 3, 0, 0, 0, 0, 0, 0, 0, 0, 0, 0, 0, 0, 0, 0,\n",
              "       0, 0, 0, 0, 0, 0, 0, 0, 0, 0, 0, 5, 0, 0, 0, 0, 0, 0, 0, 0, 2, 2,\n",
              "       2, 2, 2, 2, 2, 2, 2, 2, 2, 2, 2, 2, 2, 2, 2, 2, 2, 2, 2, 2, 2, 2,\n",
              "       2, 2, 2, 2, 2, 2, 2, 2, 2, 2, 2, 2, 2, 2, 2, 2, 2, 2, 2, 2, 2, 2,\n",
              "       2, 2])"
            ]
          },
          "metadata": {},
          "execution_count": 100
        }
      ]
    },
    {
      "cell_type": "markdown",
      "metadata": {
        "id": "D4QMMOypQ_BV"
      },
      "source": [
        "# Coeficiente de Silhueta"
      ]
    },
    {
      "cell_type": "code",
      "metadata": {
        "colab": {
          "base_uri": "https://localhost:8080/"
        },
        "id": "FbTXW6I0PPoY",
        "outputId": "76f107a3-d2b4-4bcc-8488-d22afcbf86f5"
      },
      "source": [
        "agrupador = KMeans(n_clusters = 5)\n",
        "agrupador.fit(df)\n",
        "labels = agrupador.labels_\n",
        "labels"
      ],
      "execution_count": 106,
      "outputs": [
        {
          "output_type": "execute_result",
          "data": {
            "text/plain": [
              "array([0, 0, 0, 0, 0, 0, 0, 0, 0, 0, 0, 0, 0, 0, 0, 0, 0, 0, 0, 0, 0, 0,\n",
              "       0, 0, 0, 0, 0, 0, 0, 0, 0, 0, 0, 0, 0, 0, 0, 0, 0, 0, 0, 0, 0, 0,\n",
              "       0, 0, 0, 0, 0, 0, 0, 0, 0, 0, 0, 0, 0, 0, 0, 3, 3, 3, 3, 1, 3, 1,\n",
              "       1, 1, 3, 1, 3, 1, 1, 1, 1, 3, 1, 3, 1, 1, 1, 1, 3, 4, 1, 1, 3, 3,\n",
              "       3, 3, 3, 3, 3, 1, 1, 1, 1, 1, 1, 1, 1, 3, 1, 3, 1, 3, 3, 3, 1, 1,\n",
              "       1, 1, 3, 3, 1, 3, 1, 1, 3, 1, 1, 1, 1, 1, 1, 1, 1, 3, 1, 3, 2, 2,\n",
              "       2, 2, 4, 4, 4, 4, 4, 4, 4, 4, 4, 4, 2, 4, 4, 4, 2, 2, 2, 2, 2, 2,\n",
              "       2, 4, 2, 4, 2, 2, 4, 4, 4, 4, 2, 4, 2, 2, 2, 2, 4, 2, 2, 4, 2, 2,\n",
              "       2, 2], dtype=int32)"
            ]
          },
          "metadata": {},
          "execution_count": 106
        }
      ]
    },
    {
      "cell_type": "code",
      "metadata": {
        "colab": {
          "base_uri": "https://localhost:8080/",
          "height": 542
        },
        "id": "P5uklJUIRRbh",
        "outputId": "fcbe3906-416a-4b94-8316-ad2ae6109c1d"
      },
      "source": [
        "fig = go.Figure()\n",
        "fig.add_trace(go.Scatter3d(x = df['intensidade_da_cor'],\n",
        "                          y = df['alcool'],\n",
        "                          z = df['proline'],\n",
        "                          mode = 'markers',\n",
        "                          marker = dict(color=labels.astype(np.float)),\n",
        "                          text = 'labels'))\n",
        "fig.show()"
      ],
      "execution_count": 109,
      "outputs": [
        {
          "output_type": "display_data",
          "data": {
            "text/html": [
              "<html>\n",
              "<head><meta charset=\"utf-8\" /></head>\n",
              "<body>\n",
              "    <div>\n",
              "            <script src=\"https://cdnjs.cloudflare.com/ajax/libs/mathjax/2.7.5/MathJax.js?config=TeX-AMS-MML_SVG\"></script><script type=\"text/javascript\">if (window.MathJax) {MathJax.Hub.Config({SVG: {font: \"STIX-Web\"}});}</script>\n",
              "                <script type=\"text/javascript\">window.PlotlyConfig = {MathJaxConfig: 'local'};</script>\n",
              "        <script src=\"https://cdn.plot.ly/plotly-latest.min.js\"></script>    \n",
              "            <div id=\"1b1e6a49-2def-4f00-b898-67497bff96f7\" class=\"plotly-graph-div\" style=\"height:525px; width:100%;\"></div>\n",
              "            <script type=\"text/javascript\">\n",
              "                \n",
              "                    window.PLOTLYENV=window.PLOTLYENV || {};\n",
              "                    \n",
              "                if (document.getElementById(\"1b1e6a49-2def-4f00-b898-67497bff96f7\")) {\n",
              "                    Plotly.newPlot(\n",
              "                        '1b1e6a49-2def-4f00-b898-67497bff96f7',\n",
              "                        [{\"marker\": {\"color\": [0.0, 0.0, 0.0, 0.0, 0.0, 0.0, 0.0, 0.0, 0.0, 0.0, 0.0, 0.0, 0.0, 0.0, 0.0, 0.0, 0.0, 0.0, 0.0, 0.0, 0.0, 0.0, 0.0, 0.0, 0.0, 0.0, 0.0, 0.0, 0.0, 0.0, 0.0, 0.0, 0.0, 0.0, 0.0, 0.0, 0.0, 0.0, 0.0, 0.0, 0.0, 0.0, 0.0, 0.0, 0.0, 0.0, 0.0, 0.0, 0.0, 0.0, 0.0, 0.0, 0.0, 0.0, 0.0, 0.0, 0.0, 0.0, 0.0, 3.0, 3.0, 3.0, 3.0, 1.0, 3.0, 1.0, 1.0, 1.0, 3.0, 1.0, 3.0, 1.0, 1.0, 1.0, 1.0, 3.0, 1.0, 3.0, 1.0, 1.0, 1.0, 1.0, 3.0, 4.0, 1.0, 1.0, 3.0, 3.0, 3.0, 3.0, 3.0, 3.0, 3.0, 1.0, 1.0, 1.0, 1.0, 1.0, 1.0, 1.0, 1.0, 3.0, 1.0, 3.0, 1.0, 3.0, 3.0, 3.0, 1.0, 1.0, 1.0, 1.0, 3.0, 3.0, 1.0, 3.0, 1.0, 1.0, 3.0, 1.0, 1.0, 1.0, 1.0, 1.0, 1.0, 1.0, 1.0, 3.0, 1.0, 3.0, 2.0, 2.0, 2.0, 2.0, 4.0, 4.0, 4.0, 4.0, 4.0, 4.0, 4.0, 4.0, 4.0, 4.0, 2.0, 4.0, 4.0, 4.0, 2.0, 2.0, 2.0, 2.0, 2.0, 2.0, 2.0, 4.0, 2.0, 4.0, 2.0, 2.0, 4.0, 4.0, 4.0, 4.0, 2.0, 4.0, 2.0, 2.0, 2.0, 2.0, 4.0, 2.0, 2.0, 4.0, 2.0, 2.0, 2.0, 2.0]}, \"mode\": \"markers\", \"text\": \"labels\", \"type\": \"scatter3d\", \"x\": [0.37201365187713303, 0.26450511945392485, 0.3754266211604095, 0.5563139931740614, 0.2593856655290102, 0.46672354948805456, 0.3387372013651877, 0.3216723549488054, 0.33447098976109213, 0.5068259385665528, 0.3813993174061433, 0.31740614334470985, 0.3686006825938566, 0.3515358361774744, 0.530716723549488, 0.5136518771331058, 0.4197952218430034, 0.45392491467576784, 0.6331058020477814, 0.32593856655290093, 0.3728668941979522, 0.27474402730375425, 0.21501706484641633, 0.22610921501706485, 0.19112627986348124, 0.19624573378839588, 0.3003412969283276, 0.22781569965870305, 0.27474402730375425, 0.2918088737201365, 0.37713310580204773, 0.47952218430034127, 0.21843003412969278, 0.3515358361774744, 0.24914675767918087, 0.32593856655290093, 0.28327645051194533, 0.2534129692832764, 0.20648464163822525, 0.32593856655290093, 0.41382252559726956, 0.25597269624573377, 0.3540955631399317, 0.26279863481228666, 0.3208191126279863, 0.3378839590443686, 0.30887372013651876, 0.4112627986348122, 0.4197952218430034, 0.6501706484641638, 0.5051194539249146, 0.3686006825938566, 0.4923208191126279, 0.42832764505119447, 0.3899317406143344, 0.42406143344709896, 0.43515358361774736, 0.4027303754266211, 0.4709897610921501, 0.057167235494880536, 0.1697952218430034, 0.3813993174061433, 0.21501706484641633, 0.2704778156996587, 0.14249146757679182, 0.28327645051194533, 0.3430034129692832, 0.2901023890784982, 0.16126279863481227, 0.13395904436860068, 0.1510238907849829, 0.17918088737201363, 0.2098976109215017, 0.17662116040955633, 0.16467576791808872, 0.21501706484641633, 0.28327645051194533, 0.11689419795221842, 0.18088737201365188, 0.1100682593856655, 0.10409556313993173, 0.2235494880546075, 0.07849829351535836, 0.3003412969283276, 0.1510238907849829, 0.11433447098976109, 0.09982935153583619, 0.11262798634812286, 0.1296928327645051, 0.039249146757679175, 0.09556313993174059, 0.19795221843003413, 0.1510238907849829, 0.07423208191126278, 0.16808873720136516, 0.11262798634812286, 0.10409556313993173, 0.13822525597269622, 0.27474402730375425, 0.08703071672354946, 0.1723549488054607, 0.09982935153583619, 0.1296928327645051, 0.06655290102389079, 0.1416382252559727, 0.121160409556314, 0.18088737201365188, 0.1723549488054607, 0.121160409556314, 0.11689419795221842, 0.13822525597269622, 0.0614334470989761, 0.21501706484641633, 0.15358361774744028, 0.13822525597269622, 0.05290102389078497, 0.057167235494880536, 0.06655290102389079, 0.18088737201365188, 0.0, 0.16808873720136516, 0.4027303754266211, 0.06825938566552901, 0.11262798634812286, 0.1296928327645051, 0.12627986348122863, 0.22696245733788395, 0.14675767918088736, 0.07167235494880546, 0.11262798634812286, 0.2406143344709897, 0.3515358361774744, 0.37713310580204773, 0.31740614334470985, 0.35580204778156993, 0.49658703071672344, 0.21928327645051196, 0.31740614334470985, 0.37713310580204773, 0.31058020477815695, 0.28327645051194533, 0.3686006825938566, 0.26194539249146753, 0.26621160409556316, 0.591296928327645, 0.2320819112627986, 0.30887372013651876, 0.5435153583617747, 0.6092150170648464, 0.6928327645051195, 0.6245733788395904, 0.8122866894197953, 0.49658703071672344, 0.78839590443686, 0.5392491467576791, 0.5648464163822525, 0.6595563139931739, 0.530716723549488, 1.0, 0.893344709897611, 0.5435153583617747, 0.39249146757679176, 0.3668941979522184, 0.341296928327645, 0.7081911262798635, 0.4556313993174061, 0.8020477815699658, 0.7662116040955631, 0.629692832764505, 0.6160409556313993, 0.3600682593856655, 0.7354947952218431, 0.7184300341296928, 0.5477815699658702, 0.5136518771331058, 0.7610921501706485, 0.6843003412969284, 0.675767918088737], \"y\": [0.8421052631578949, 0.5710526315789473, 0.5605263157894738, 0.8789473684210525, 0.5815789473684212, 0.8342105263157893, 0.8842105263157897, 0.7973684210526317, 1.0, 0.744736842105263, 0.8078947368421052, 0.813157894736842, 0.7157894736842105, 0.9789473684210526, 0.8815789473684212, 0.6842105263157897, 0.8605263157894739, 0.736842105263158, 0.831578947368421, 0.686842105263158, 0.7973684210526317, 0.5, 0.7052631578947371, 0.4789473684210526, 0.65, 0.5315789473684213, 0.6210526315789475, 0.5973684210526318, 0.7473684210526313, 0.7868421052631578, 0.7105263157894738, 0.6710526315789475, 0.6973684210526315, 0.718421052631579, 0.6526315789473685, 0.6447368421052633, 0.5921052631578946, 0.5315789473684213, 0.536842105263158, 0.8394736842105265, 0.6657894736842107, 0.6263157894736843, 0.7500000000000002, 0.5815789473684212, 0.5315789473684213, 0.8368421052631582, 0.8815789473684212, 0.755263157894737, 0.8078947368421052, 0.7657894736842105, 0.5315789473684213, 0.736842105263158, 0.7342105263157895, 0.7210526315789473, 0.7131578947368422, 0.6657894736842107, 0.8394736842105265, 0.594736842105263, 0.7078947368421055, 0.3526315789473683, 0.34210526315789486, 0.42368421052631605, 0.6947368421052632, 0.3526315789473683, 0.3000000000000001, 0.3526315789473683, 0.5473684210526315, 0.3526315789473683, 0.6078947368421053, 0.31052631578947404, 0.3315789473684209, 0.744736842105263, 0.6473684210526317, 0.5157894736842107, 0.2447368421052635, 0.1657894736842107, 0.5263157894736841, 0.21315789473684219, 0.34210526315789486, 0.43947368421052624, 0.25526315789473697, 0.44473684210526343, 0.27631578947368435, 0.5315789473684213, 0.21315789473684219, 0.4315789473684211, 0.2973684210526317, 0.16315789473684233, 0.16052631578947396, 0.27631578947368435, 0.27631578947368435, 0.25526315789473697, 0.43684210526315786, 0.3315789473684209, 0.15526315789473677, 0.3789473684210529, 0.2052631578947371, 0.3315789473684209, 0.3526315789473683, 0.3315789473684209, 0.27631578947368435, 0.4131578947368421, 0.34473684210526323, 0.20789473684210547, 0.38947368421052636, 0.3657894736842106, 0.3210526315789475, 0.44473684210526343, 0.31315789473684236, 0.15263157894736842, 0.11315789473684247, 0.39210526315789473, 0.1921052631578948, 0.10000000000000019, 0.27631578947368435, 0.0, 0.20789473684210547, 0.3657894736842106, 0.45789473684210524, 0.25526315789473697, 0.11052631578947364, 0.13947368421052658, 0.3657894736842106, 0.5315789473684213, 0.22105263157894728, 0.273684210526316, 0.368421052631579, 0.1999999999999999, 0.3526315789473683, 0.2657894736842104, 0.481578947368421, 0.4868421052631582, 0.4684210526315792, 0.43947368421052624, 0.38947368421052636, 0.4131578947368421, 0.3210526315789475, 0.3947368421052631, 0.6473684210526317, 0.47631578947368425, 0.5, 0.613157894736842, 0.6552631578947368, 0.6815789473684208, 0.3210526315789475, 0.5605263157894738, 0.7500000000000002, 0.48421052631578937, 0.6026315789473685, 0.5394736842105264, 0.65, 0.46315789473684194, 0.5473684210526315, 0.5789473684210528, 0.40789473684210537, 0.5631578947368422, 0.7394736842105263, 0.3736842105263157, 0.8710526315789473, 0.6447368421052633, 0.35, 0.7, 0.4789473684210526, 0.5078947368421055, 0.7236842105263157, 0.7105263157894738, 0.6368421052631578, 0.4710526315789475, 0.6710526315789475, 0.623684210526316, 0.30789473684210517, 0.45789473684210524, 0.8236842105263158, 0.7052631578947371, 0.623684210526316, 0.5894736842105263, 0.5631578947368422, 0.8157894736842107], \"z\": [0.5613409415121255, 0.550641940085592, 0.6469329529243937, 0.8573466476462197, 0.325962910128388, 0.8359486447931527, 0.7218259629101283, 0.7253922967189729, 0.5470756062767475, 0.5470756062767475, 0.8787446504992867, 0.7146932952924394, 0.7432239657631954, 0.6219686162624821, 0.9051355206847361, 0.7360912981455064, 0.7146932952924394, 0.6077032810271041, 1.0, 0.4044222539229672, 0.35805991440798857, 0.3509272467902996, 0.5399429386590585, 0.5256776034236804, 0.4044222539229672, 0.39372325249643364, 0.6540656205420827, 0.7182596291012838, 0.4543509272467903, 0.5399429386590585, 0.7182596291012838, 0.8823109843081313, 0.5078459343794579, 0.6825962910128388, 0.5827389443651926, 0.4579172610556348, 0.42938659058487877, 0.5898716119828816, 0.5292439372325249, 0.3437945791726106, 0.36875891583452214, 0.5399429386590585, 0.5827389443651926, 0.2867332382310984, 0.43295292439372324, 0.572039942938659, 0.5613409415121255, 0.5042796005706134, 0.557774607703281, 0.7004279600570613, 0.6219686162624821, 0.7039942938659058, 0.6504992867332382, 0.782453637660485, 0.557774607703281, 0.6005706134094151, 0.49358059914407987, 0.7075606276747504, 0.7182596291012838, 0.17261055634807418, 0.2867332382310984, 0.12268188302425106, 0.25106990014265335, 0.10128388017118402, 0.05492154065620542, 0.28530670470756064, 0.15977175463623394, 0.16547788873038516, 0.33666191155492153, 0.31383737517831667, 0.4222539229671897, 0.09415121255349501, 0.1383737517831669, 0.5042796005706134, 0.43366619115549215, 0.10699001426533523, 0.08131241084165478, 0.15834522111269614, 0.33666191155492153, 0.13195435092724678, 0.0, 0.31098430813124106, 0.25106990014265335, 0.16904422253922968, 0.17261055634807418, 0.12268188302425106, 0.15477888730385164, 0.20256776034236804, 0.2867332382310984, 0.24750356633380885, 0.14407988587731813, 0.12268188302425106, 0.15477888730385164, 0.008559201141226819, 0.04778887303851641, 0.47004279600570614, 0.24750356633380885, 0.10699001426533523, 0.2724679029957204, 0.0912981455064194, 0.30813124108416545, 0.20256776034236804, 0.11412268188302425, 0.09771754636233952, 0.2810271041369472, 0.026390870185449358, 0.16547788873038516, 0.14978601997146934, 0.024251069900142655, 0.2867332382310984, 0.20256776034236804, 0.033523537803138374, 0.2346647646219686, 0.11126961483594865, 0.07631954350927246, 0.0920114122681883, 0.15477888730385164, 0.04778887303851641, 0.06704707560627675, 0.20399429386590584, 0.24750356633380885, 0.13338088445078458, 0.062054208273894434, 0.07275320970042796, 0.07275320970042796, 0.07132667617689016, 0.052781740370898715, 0.1340941512125535, 0.0456490727532097, 0.21540656205420827, 0.25106990014265335, 0.1797432239657632, 0.20114122681883023, 0.2296718972895863, 0.2653352353780314, 0.29743223965763194, 0.3152639087018545, 0.16904422253922968, 0.21540656205420827, 0.2225392296718973, 0.2296718972895863, 0.35805991440798857, 0.17261055634807418, 0.19400855920114124, 0.4115549215406562, 0.39372325249643364, 0.09771754636233952, 0.24750356633380885, 0.2653352353780314, 0.19400855920114124, 0.15834522111269614, 0.14407988587731813, 0.10485021398002853, 0.2831669044222539, 0.2582025677603424, 0.318830242510699, 0.14407988587731813, 0.42938659058487877, 0.2724679029957204, 0.24393723252496433, 0.17261055634807418, 0.2867332382310984, 0.20827389443651925, 0.2831669044222539, 0.24037089871611983, 0.17261055634807418, 0.29743223965763194, 0.29029957203994294, 0.33666191155492153, 0.25106990014265335, 0.16547788873038516, 0.1369472182596291, 0.2724679029957204, 0.32952924393723254, 0.33666191155492153, 0.39728958630527816, 0.4008559201141227, 0.20114122681883023]}],\n",
              "                        {\"template\": {\"data\": {\"bar\": [{\"error_x\": {\"color\": \"#2a3f5f\"}, \"error_y\": {\"color\": \"#2a3f5f\"}, \"marker\": {\"line\": {\"color\": \"#E5ECF6\", \"width\": 0.5}}, \"type\": \"bar\"}], \"barpolar\": [{\"marker\": {\"line\": {\"color\": \"#E5ECF6\", \"width\": 0.5}}, \"type\": \"barpolar\"}], \"carpet\": [{\"aaxis\": {\"endlinecolor\": \"#2a3f5f\", \"gridcolor\": \"white\", \"linecolor\": \"white\", \"minorgridcolor\": \"white\", \"startlinecolor\": \"#2a3f5f\"}, \"baxis\": {\"endlinecolor\": \"#2a3f5f\", \"gridcolor\": \"white\", \"linecolor\": \"white\", \"minorgridcolor\": \"white\", \"startlinecolor\": \"#2a3f5f\"}, \"type\": \"carpet\"}], \"choropleth\": [{\"colorbar\": {\"outlinewidth\": 0, \"ticks\": \"\"}, \"type\": \"choropleth\"}], \"contour\": [{\"colorbar\": {\"outlinewidth\": 0, \"ticks\": \"\"}, \"colorscale\": [[0.0, \"#0d0887\"], [0.1111111111111111, \"#46039f\"], [0.2222222222222222, \"#7201a8\"], [0.3333333333333333, \"#9c179e\"], [0.4444444444444444, \"#bd3786\"], [0.5555555555555556, \"#d8576b\"], [0.6666666666666666, \"#ed7953\"], [0.7777777777777778, \"#fb9f3a\"], [0.8888888888888888, \"#fdca26\"], [1.0, \"#f0f921\"]], \"type\": \"contour\"}], \"contourcarpet\": [{\"colorbar\": {\"outlinewidth\": 0, \"ticks\": \"\"}, \"type\": \"contourcarpet\"}], \"heatmap\": [{\"colorbar\": {\"outlinewidth\": 0, \"ticks\": \"\"}, \"colorscale\": [[0.0, \"#0d0887\"], [0.1111111111111111, \"#46039f\"], [0.2222222222222222, \"#7201a8\"], [0.3333333333333333, \"#9c179e\"], [0.4444444444444444, \"#bd3786\"], [0.5555555555555556, \"#d8576b\"], [0.6666666666666666, \"#ed7953\"], [0.7777777777777778, \"#fb9f3a\"], [0.8888888888888888, \"#fdca26\"], [1.0, \"#f0f921\"]], \"type\": \"heatmap\"}], \"heatmapgl\": [{\"colorbar\": {\"outlinewidth\": 0, \"ticks\": \"\"}, \"colorscale\": [[0.0, \"#0d0887\"], [0.1111111111111111, \"#46039f\"], [0.2222222222222222, \"#7201a8\"], [0.3333333333333333, \"#9c179e\"], [0.4444444444444444, \"#bd3786\"], [0.5555555555555556, \"#d8576b\"], [0.6666666666666666, \"#ed7953\"], [0.7777777777777778, \"#fb9f3a\"], [0.8888888888888888, \"#fdca26\"], [1.0, \"#f0f921\"]], \"type\": \"heatmapgl\"}], \"histogram\": [{\"marker\": {\"colorbar\": {\"outlinewidth\": 0, \"ticks\": \"\"}}, \"type\": \"histogram\"}], \"histogram2d\": [{\"colorbar\": {\"outlinewidth\": 0, \"ticks\": \"\"}, \"colorscale\": [[0.0, \"#0d0887\"], [0.1111111111111111, \"#46039f\"], [0.2222222222222222, \"#7201a8\"], [0.3333333333333333, \"#9c179e\"], [0.4444444444444444, \"#bd3786\"], [0.5555555555555556, \"#d8576b\"], [0.6666666666666666, \"#ed7953\"], [0.7777777777777778, \"#fb9f3a\"], [0.8888888888888888, \"#fdca26\"], [1.0, \"#f0f921\"]], \"type\": \"histogram2d\"}], \"histogram2dcontour\": [{\"colorbar\": {\"outlinewidth\": 0, \"ticks\": \"\"}, \"colorscale\": [[0.0, \"#0d0887\"], [0.1111111111111111, \"#46039f\"], [0.2222222222222222, \"#7201a8\"], [0.3333333333333333, \"#9c179e\"], [0.4444444444444444, \"#bd3786\"], [0.5555555555555556, \"#d8576b\"], [0.6666666666666666, \"#ed7953\"], [0.7777777777777778, \"#fb9f3a\"], [0.8888888888888888, \"#fdca26\"], [1.0, \"#f0f921\"]], \"type\": \"histogram2dcontour\"}], \"mesh3d\": [{\"colorbar\": {\"outlinewidth\": 0, \"ticks\": \"\"}, \"type\": \"mesh3d\"}], \"parcoords\": [{\"line\": {\"colorbar\": {\"outlinewidth\": 0, \"ticks\": \"\"}}, \"type\": \"parcoords\"}], \"scatter\": [{\"marker\": {\"colorbar\": {\"outlinewidth\": 0, \"ticks\": \"\"}}, \"type\": \"scatter\"}], \"scatter3d\": [{\"line\": {\"colorbar\": {\"outlinewidth\": 0, \"ticks\": \"\"}}, \"marker\": {\"colorbar\": {\"outlinewidth\": 0, \"ticks\": \"\"}}, \"type\": \"scatter3d\"}], \"scattercarpet\": [{\"marker\": {\"colorbar\": {\"outlinewidth\": 0, \"ticks\": \"\"}}, \"type\": \"scattercarpet\"}], \"scattergeo\": [{\"marker\": {\"colorbar\": {\"outlinewidth\": 0, \"ticks\": \"\"}}, \"type\": \"scattergeo\"}], \"scattergl\": [{\"marker\": {\"colorbar\": {\"outlinewidth\": 0, \"ticks\": \"\"}}, \"type\": \"scattergl\"}], \"scattermapbox\": [{\"marker\": {\"colorbar\": {\"outlinewidth\": 0, \"ticks\": \"\"}}, \"type\": \"scattermapbox\"}], \"scatterpolar\": [{\"marker\": {\"colorbar\": {\"outlinewidth\": 0, \"ticks\": \"\"}}, \"type\": \"scatterpolar\"}], \"scatterpolargl\": [{\"marker\": {\"colorbar\": {\"outlinewidth\": 0, \"ticks\": \"\"}}, \"type\": \"scatterpolargl\"}], \"scatterternary\": [{\"marker\": {\"colorbar\": {\"outlinewidth\": 0, \"ticks\": \"\"}}, \"type\": \"scatterternary\"}], \"surface\": [{\"colorbar\": {\"outlinewidth\": 0, \"ticks\": \"\"}, \"colorscale\": [[0.0, \"#0d0887\"], [0.1111111111111111, \"#46039f\"], [0.2222222222222222, \"#7201a8\"], [0.3333333333333333, \"#9c179e\"], [0.4444444444444444, \"#bd3786\"], [0.5555555555555556, \"#d8576b\"], [0.6666666666666666, \"#ed7953\"], [0.7777777777777778, \"#fb9f3a\"], [0.8888888888888888, \"#fdca26\"], [1.0, \"#f0f921\"]], \"type\": \"surface\"}], \"table\": [{\"cells\": {\"fill\": {\"color\": \"#EBF0F8\"}, \"line\": {\"color\": \"white\"}}, \"header\": {\"fill\": {\"color\": \"#C8D4E3\"}, \"line\": {\"color\": \"white\"}}, \"type\": \"table\"}]}, \"layout\": {\"annotationdefaults\": {\"arrowcolor\": \"#2a3f5f\", \"arrowhead\": 0, \"arrowwidth\": 1}, \"colorscale\": {\"diverging\": [[0, \"#8e0152\"], [0.1, \"#c51b7d\"], [0.2, \"#de77ae\"], [0.3, \"#f1b6da\"], [0.4, \"#fde0ef\"], [0.5, \"#f7f7f7\"], [0.6, \"#e6f5d0\"], [0.7, \"#b8e186\"], [0.8, \"#7fbc41\"], [0.9, \"#4d9221\"], [1, \"#276419\"]], \"sequential\": [[0.0, \"#0d0887\"], [0.1111111111111111, \"#46039f\"], [0.2222222222222222, \"#7201a8\"], [0.3333333333333333, \"#9c179e\"], [0.4444444444444444, \"#bd3786\"], [0.5555555555555556, \"#d8576b\"], [0.6666666666666666, \"#ed7953\"], [0.7777777777777778, \"#fb9f3a\"], [0.8888888888888888, \"#fdca26\"], [1.0, \"#f0f921\"]], \"sequentialminus\": [[0.0, \"#0d0887\"], [0.1111111111111111, \"#46039f\"], [0.2222222222222222, \"#7201a8\"], [0.3333333333333333, \"#9c179e\"], [0.4444444444444444, \"#bd3786\"], [0.5555555555555556, \"#d8576b\"], [0.6666666666666666, \"#ed7953\"], [0.7777777777777778, \"#fb9f3a\"], [0.8888888888888888, \"#fdca26\"], [1.0, \"#f0f921\"]]}, \"colorway\": [\"#636efa\", \"#EF553B\", \"#00cc96\", \"#ab63fa\", \"#FFA15A\", \"#19d3f3\", \"#FF6692\", \"#B6E880\", \"#FF97FF\", \"#FECB52\"], \"font\": {\"color\": \"#2a3f5f\"}, \"geo\": {\"bgcolor\": \"white\", \"lakecolor\": \"white\", \"landcolor\": \"#E5ECF6\", \"showlakes\": true, \"showland\": true, \"subunitcolor\": \"white\"}, \"hoverlabel\": {\"align\": \"left\"}, \"hovermode\": \"closest\", \"mapbox\": {\"style\": \"light\"}, \"paper_bgcolor\": \"white\", \"plot_bgcolor\": \"#E5ECF6\", \"polar\": {\"angularaxis\": {\"gridcolor\": \"white\", \"linecolor\": \"white\", \"ticks\": \"\"}, \"bgcolor\": \"#E5ECF6\", \"radialaxis\": {\"gridcolor\": \"white\", \"linecolor\": \"white\", \"ticks\": \"\"}}, \"scene\": {\"xaxis\": {\"backgroundcolor\": \"#E5ECF6\", \"gridcolor\": \"white\", \"gridwidth\": 2, \"linecolor\": \"white\", \"showbackground\": true, \"ticks\": \"\", \"zerolinecolor\": \"white\"}, \"yaxis\": {\"backgroundcolor\": \"#E5ECF6\", \"gridcolor\": \"white\", \"gridwidth\": 2, \"linecolor\": \"white\", \"showbackground\": true, \"ticks\": \"\", \"zerolinecolor\": \"white\"}, \"zaxis\": {\"backgroundcolor\": \"#E5ECF6\", \"gridcolor\": \"white\", \"gridwidth\": 2, \"linecolor\": \"white\", \"showbackground\": true, \"ticks\": \"\", \"zerolinecolor\": \"white\"}}, \"shapedefaults\": {\"line\": {\"color\": \"#2a3f5f\"}}, \"ternary\": {\"aaxis\": {\"gridcolor\": \"white\", \"linecolor\": \"white\", \"ticks\": \"\"}, \"baxis\": {\"gridcolor\": \"white\", \"linecolor\": \"white\", \"ticks\": \"\"}, \"bgcolor\": \"#E5ECF6\", \"caxis\": {\"gridcolor\": \"white\", \"linecolor\": \"white\", \"ticks\": \"\"}}, \"title\": {\"x\": 0.05}, \"xaxis\": {\"automargin\": true, \"gridcolor\": \"white\", \"linecolor\": \"white\", \"ticks\": \"\", \"zerolinecolor\": \"white\", \"zerolinewidth\": 2}, \"yaxis\": {\"automargin\": true, \"gridcolor\": \"white\", \"linecolor\": \"white\", \"ticks\": \"\", \"zerolinecolor\": \"white\", \"zerolinewidth\": 2}}}},\n",
              "                        {\"responsive\": true}\n",
              "                    ).then(function(){\n",
              "                            \n",
              "var gd = document.getElementById('1b1e6a49-2def-4f00-b898-67497bff96f7');\n",
              "var x = new MutationObserver(function (mutations, observer) {{\n",
              "        var display = window.getComputedStyle(gd).display;\n",
              "        if (!display || display === 'none') {{\n",
              "            console.log([gd, 'removed!']);\n",
              "            Plotly.purge(gd);\n",
              "            observer.disconnect();\n",
              "        }}\n",
              "}});\n",
              "\n",
              "// Listen for the removal of the full notebook cells\n",
              "var notebookContainer = gd.closest('#notebook-container');\n",
              "if (notebookContainer) {{\n",
              "    x.observe(notebookContainer, {childList: true});\n",
              "}}\n",
              "\n",
              "// Listen for the clearing of the current output cell\n",
              "var outputEl = gd.closest('.output');\n",
              "if (outputEl) {{\n",
              "    x.observe(outputEl, {childList: true});\n",
              "}}\n",
              "\n",
              "                        })\n",
              "                };\n",
              "                \n",
              "            </script>\n",
              "        </div>\n",
              "</body>\n",
              "</html>"
            ]
          },
          "metadata": {}
        }
      ]
    },
    {
      "cell_type": "code",
      "metadata": {
        "id": "qZMbRliHSke4"
      },
      "source": [
        ""
      ],
      "execution_count": null,
      "outputs": []
    }
  ]
}